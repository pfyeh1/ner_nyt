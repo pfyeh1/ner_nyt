{
  "nbformat": 4,
  "nbformat_minor": 0,
  "metadata": {
    "colab": {
      "provenance": [],
      "authorship_tag": "ABX9TyOk9o0QbQgNo+n68kMNQesF",
      "include_colab_link": true
    },
    "kernelspec": {
      "name": "python3",
      "display_name": "Python 3"
    }
  },
  "cells": [
    {
      "cell_type": "markdown",
      "metadata": {
        "id": "view-in-github",
        "colab_type": "text"
      },
      "source": [
        "<a href=\"https://colab.research.google.com/github/pfyeh1/ner_nyt/blob/main/eda_orgs_nytimes.ipynb\" target=\"_parent\"><img src=\"https://colab.research.google.com/assets/colab-badge.svg\" alt=\"Open In Colab\"/></a>"
      ]
    },
    {
      "cell_type": "code",
      "metadata": {
        "id": "5U0OCFSbymtq",
        "colab": {
          "base_uri": "https://localhost:8080/"
        },
        "outputId": "949af358-f69b-419a-dad6-16af0fd178c3"
      },
      "source": [
        "from google.colab import drive\n",
        "drive.mount('/content/drive')"
      ],
      "execution_count": 1,
      "outputs": [
        {
          "output_type": "stream",
          "name": "stdout",
          "text": [
            "Mounted at /content/drive\n"
          ]
        }
      ]
    },
    {
      "cell_type": "code",
      "metadata": {
        "id": "dZiPbb8byoXr",
        "colab": {
          "base_uri": "https://localhost:8080/"
        },
        "outputId": "d27d9127-f589-4e16-b7a4-62d135bd51c6"
      },
      "source": [
        "!ls \"/content/drive/My Drive/_data/\""
      ],
      "execution_count": 2,
      "outputs": [
        {
          "output_type": "stream",
          "name": "stdout",
          "text": [
            "2019_Gaz_counties_national.txt\t\t  groupby_tests.gsheet\n",
            "abc_news\t\t\t\t  grp_rel_flp.csv\n",
            "all-geocodes-v2018.xlsx\t\t\t  idiap\n",
            "array_csv.csv\t\t\t\t  iDIAP_ifcs_12JUN2019.xlsx\n",
            "bbc\t\t\t\t\t  ifcs\n",
            "carnegie_pages\t\t\t\t  kaggle\n",
            "carnegie_pdfs\t\t\t\t  matches_validated.xlsx\n",
            "citations\t\t\t\t  matches.xlsx\n",
            "classsifications.csv\t\t\t  MOCK_DATA2.json\n",
            "clean_wfa.csv\t\t\t\t  mock_sql\n",
            "clean_wfa.gsheet\t\t\t  movies\n",
            "core_metadata.gsheet\t\t\t  nba\n",
            "country_list\t\t\t\t  ner\n",
            "cumulative_deaths_county_chloropeth.html  nyt_articles\n",
            "cumulative_deaths_usa_bubble.html\t  okrs\n",
            "cumulative_deaths_usa.html\t\t  opinRank_Review_Dataset\n",
            "datacamp\t\t\t\t  output\n",
            "DEC_10_SF1_GCTPH1.US05PR_with_ann.csv\t  png_text\n",
            "DEC_10_SF1_GCTPH1.US05PR_with_ann.gsheet  Pokemon.csv\n",
            "df_tab.csv\t\t\t\t  quora\n",
            "ebrief\t\t\t\t\t  restaurant\n",
            "erm\t\t\t\t\t  reviewer_module_data.gsheet\n",
            "file_renaming\t\t\t\t  scrapy\n",
            "fintel\t\t\t\t\t  state_latlongs.csv\n",
            "fintel_effort_join\t\t\t  stock_prices\n",
            "fuzzy_strings\t\t\t\t  swim\n",
            "Geocodes_USA_with_Counties.csv\t\t  tradecraft_notes\n",
            "groupby_tables.gsheet\t\t\t  trump_trudeau_tweets\n"
          ]
        }
      ]
    },
    {
      "cell_type": "code",
      "metadata": {
        "id": "jBrTPc2WypXe"
      },
      "source": [
        "import os, sys\n",
        "import pandas as pd\n",
        "import numpy as np\n",
        "\n",
        "import string\n",
        "import re\n",
        "\n",
        "from tqdm import tqdm\n",
        "\n",
        "import pickle\n",
        "\n",
        "#local_python_path = os.path.join(os.environ['HOME'], 'Documents', 'Python')\n",
        "#os.chdir(local_python_path)\n",
        "\n",
        "pd.set_option('display.max_columns', None)\n",
        "pd.set_option('display.max_rows', None)\n",
        "pd.set_option('display.max_colwidth', 800)\n",
        "\n",
        "gpath = os.path.join('/content','drive', 'My Drive', '_data', 'nyt_articles')\n",
        "os.chdir(gpath)"
      ],
      "execution_count": 3,
      "outputs": []
    },
    {
      "cell_type": "code",
      "metadata": {
        "id": "UWETRObJyvbc"
      },
      "source": [
        "# infile\n",
        "infile = \"nyt_articles.pkl\"\n",
        "\n",
        "# infile path\n",
        "infile_path = os.path.join(gpath, \"output\", infile)\n",
        "\n",
        "# load dataframe from pkl\n",
        "df = pd.read_pickle(infile_path)"
      ],
      "execution_count": 33,
      "outputs": []
    },
    {
      "cell_type": "code",
      "source": [
        "df.columns"
      ],
      "metadata": {
        "colab": {
          "base_uri": "https://localhost:8080/"
        },
        "id": "O4WrsrnNi01t",
        "outputId": "2d493b2d-5ddd-4e6e-ca33-bf2c12343f26"
      },
      "execution_count": 34,
      "outputs": [
        {
          "output_type": "execute_result",
          "data": {
            "text/plain": [
              "Index(['abstract', 'web_url', 'snippet', 'lead_paragraph', 'print_section',\n",
              "       'print_page', 'source', 'multimedia', 'keywords', 'pub_date',\n",
              "       'document_type', 'news_desk', 'section_name', 'type_of_material', '_id',\n",
              "       'word_count', 'uri', 'headline.main', 'headline.kicker',\n",
              "       'headline.content_kicker', 'headline.print_headline', 'headline.name',\n",
              "       'headline.seo', 'headline.sub', 'byline.original', 'byline.person',\n",
              "       'byline.organization', 'subsection_name'],\n",
              "      dtype='object')"
            ]
          },
          "metadata": {},
          "execution_count": 34
        }
      ]
    },
    {
      "cell_type": "code",
      "source": [
        "cols = [\n",
        "    'uri',\n",
        "    'web_url',\n",
        "    'snippet',\n",
        "    'lead_paragraph',\n",
        "    'keywords',\n",
        "    'pub_date',\n",
        "    'document_type',\n",
        "    'news_desk',\n",
        "    'section_name',\n",
        "  ]"
      ],
      "metadata": {
        "id": "UnT8eQamjAoF"
      },
      "execution_count": 35,
      "outputs": []
    },
    {
      "cell_type": "code",
      "source": [
        "# don't need all the cols\n",
        "df = df[cols].copy()"
      ],
      "metadata": {
        "id": "mR8WjA-Jja31"
      },
      "execution_count": 36,
      "outputs": []
    },
    {
      "cell_type": "code",
      "source": [
        "df.isnull().sum()"
      ],
      "metadata": {
        "colab": {
          "base_uri": "https://localhost:8080/"
        },
        "id": "fI7gysX8jn6d",
        "outputId": "f31f95ad-c51e-4493-a823-a60c2775a95d"
      },
      "execution_count": 37,
      "outputs": [
        {
          "output_type": "execute_result",
          "data": {
            "text/plain": [
              "uri               0\n",
              "web_url           0\n",
              "snippet           0\n",
              "lead_paragraph    0\n",
              "keywords          0\n",
              "pub_date          0\n",
              "document_type     0\n",
              "news_desk         0\n",
              "section_name      0\n",
              "dtype: int64"
            ]
          },
          "metadata": {},
          "execution_count": 37
        }
      ]
    },
    {
      "cell_type": "code",
      "source": [
        "df['pub_date'] = pd.to_datetime(df['pub_date']).dt.strftime('%Y-%m-%d')"
      ],
      "metadata": {
        "id": "yvGyU1aWka0Q"
      },
      "execution_count": 38,
      "outputs": []
    },
    {
      "cell_type": "code",
      "source": [
        "df.head()"
      ],
      "metadata": {
        "colab": {
          "base_uri": "https://localhost:8080/",
          "height": 1000
        },
        "id": "KogmsARVk9Oz",
        "outputId": "616a9101-5646-4b46-a4e4-a966328f02cd"
      },
      "execution_count": 39,
      "outputs": [
        {
          "output_type": "execute_result",
          "data": {
            "text/plain": [
              "                                                  uri  \\\n",
              "0  nyt://article/df646720-840a-559b-9019-a38e073d374d   \n",
              "1  nyt://article/bea5feb0-69e1-53a8-a0d0-eb8028756bfd   \n",
              "2  nyt://article/b54435b9-a1e6-53a5-909a-58142f8ce981   \n",
              "3  nyt://article/e860a43e-23b4-53d5-b1b7-9c87012e6e58   \n",
              "4    nyt://video/bb3260bb-b2a2-5e3d-96be-4a9526b1667f   \n",
              "\n",
              "                                                                                        web_url  \\\n",
              "0    https://www.nytimes.com/2022/10/31/nyregion/rikers-inmate-stabbing-correction-officer.html   \n",
              "1   https://www.nytimes.com/2022/10/31/sports/baseball/world-series-astros-game-3-phillies.html   \n",
              "2                    https://www.nytimes.com/2022/10/31/crosswords/daily-puzzle-2022-11-01.html   \n",
              "3                 https://www.nytimes.com/2022/10/31/us/steven-pankey-murder-kidnapping-id.html   \n",
              "4  https://www.nytimes.com/video/us/politics/100000008610372/pelosi-attack-suspect-charges.html   \n",
              "\n",
              "                                                                                                                                                                                                snippet  \\\n",
              "0                                                                    The officer was seriously injured in the attack, which took place in the protective custody unit at Rikers, a union official said.   \n",
              "1                         The Houston Astros and the Philadelphia Phillies are tied at one game apiece. The series is scheduled to resume Tuesday, and each remaining game will be pushed back one day.   \n",
              "2                                                                                                                                                     Make some connections with Bruce Haight’s puzzle.   \n",
              "3                                                                        The long-unsolved kidnapping and killing of Jonelle Matthews haunted the community of Greeley, about 50 miles north of Denver.   \n",
              "4  David DePape, who is accused of breaking into the San Francisco home of Speaker Nancy Pelosi, was charged with attempting to kidnap Ms. Pelosi and with assaulting a relative of a federal official.   \n",
              "\n",
              "                                                                                                                                                                                                                                                                                          lead_paragraph  \\\n",
              "0                                                                         A city correction officer at the Rikers Island prison complex was seriously injured on Monday when a detainee stabbed him more than a dozen times in the back of the head, the correction officers’ union said in a statement.   \n",
              "1  PHILADELPHIA — Game 3 of the World Series was postponed Monday because of rain, with the Houston Astros and the Philadelphia Phillies tied at one game apiece. The series is scheduled to resume Tuesday, and in place of eliminating the built-in travel day, each game will be pushed back one day.   \n",
              "2                                                                                                                                                                         TUESDAY PUZZLE — Rumor has it that this is the 61st puzzle constructed by Bruce Haight for The Times. That’s a lot of puzzles!   \n",
              "3               A Colorado jury on Monday convicted an Idaho man of murder and kidnapping in the 1984 disappearance and death of a 12-year-old girl who was killed days before Christmas, a case that went unsolved for decades and haunted the tight-knit community of Greeley, Colo., where she lived.   \n",
              "4                                                                                                   David DePape, who is accused of breaking into the San Francisco home of Speaker Nancy Pelosi, was charged with attempting to kidnap Ms. Pelosi and with assaulting a relative of a federal official.   \n",
              "\n",
              "                                                                                                                                                                                                                                                                                                                                                                                                                                                                                                              keywords  \\\n",
              "0                                                                                                                                                [{'name': 'subject', 'value': 'Prison Guards and Corrections Officers', 'rank': 1, 'major': 'N'}, {'name': 'organizations', 'value': 'Rikers Island Prison Complex', 'rank': 2, 'major': 'N'}, {'name': 'subject', 'value': 'Assaults', 'rank': 3, 'major': 'N'}, {'name': 'organizations', 'value': 'Correction Officers Benevolent Assn', 'rank': 4, 'major': 'N'}]   \n",
              "1  [{'name': 'subject', 'value': 'Baseball', 'rank': 1, 'major': 'N'}, {'name': 'subject', 'value': 'World Series', 'rank': 2, 'major': 'N'}, {'name': 'subject', 'value': 'Playoff Games', 'rank': 3, 'major': 'N'}, {'name': 'organizations', 'value': 'Houston Astros', 'rank': 4, 'major': 'N'}, {'name': 'organizations', 'value': 'Philadelphia Phillies', 'rank': 5, 'major': 'N'}, {'name': 'persons', 'value': 'McCullers, Lance Jr (1993- )', 'rank': 6, 'major': 'N'}, {'name': 'persons', 'value': 'Syn...   \n",
              "2                                                                                                                                                                                                                                                                                                                                                                 [{'name': 'subject', 'value': 'Crossword Puzzles', 'rank': 1, 'major': 'N'}, {'name': 'persons', 'value': 'Haight, Bruce', 'rank': 2, 'major': 'N'}]   \n",
              "3  [{'name': 'subject', 'value': 'Murders, Attempted Murders and Homicides', 'rank': 1, 'major': 'N'}, {'name': 'subject', 'value': 'Kidnapping and Hostages', 'rank': 2, 'major': 'N'}, {'name': 'persons', 'value': 'Matthews, Jonelle', 'rank': 3, 'major': 'N'}, {'name': 'persons', 'value': 'Pankey, Steven D (1951- )', 'rank': 4, 'major': 'N'}, {'name': 'glocations', 'value': 'Greeley (Colo)', 'rank': 5, 'major': 'N'}, {'name': 'glocations', 'value': 'Idaho', 'rank': 6, 'major': 'N'}, {'name': 's...   \n",
              "4  [{'name': 'persons', 'value': 'Pelosi, Paul', 'rank': 1, 'major': 'N'}, {'name': 'persons', 'value': 'Pelosi, Nancy', 'rank': 2, 'major': 'N'}, {'name': 'subject', 'value': 'Murders, Attempted Murders and Homicides', 'rank': 3, 'major': 'N'}, {'name': 'subject', 'value': 'Assaults', 'rank': 4, 'major': 'N'}, {'name': 'subject', 'value': 'Kidnapping and Hostages', 'rank': 5, 'major': 'N'}, {'name': 'persons', 'value': 'Depape, David', 'rank': 6, 'major': 'N'}, {'name': 'subject', 'value': 'Un...   \n",
              "\n",
              "     pub_date document_type news_desk        section_name  \n",
              "0  2022-11-01       article     Metro            New York  \n",
              "1  2022-11-01       article    Sports              Sports  \n",
              "2  2022-11-01       article     Games  Crosswords & Games  \n",
              "3  2022-11-01       article   Express                U.S.  \n",
              "4  2022-11-01    multimedia                          U.S.  "
            ],
            "text/html": [
              "\n",
              "  <div id=\"df-74320c02-475b-4b43-be10-a43c7b84e16f\" class=\"colab-df-container\">\n",
              "    <div>\n",
              "<style scoped>\n",
              "    .dataframe tbody tr th:only-of-type {\n",
              "        vertical-align: middle;\n",
              "    }\n",
              "\n",
              "    .dataframe tbody tr th {\n",
              "        vertical-align: top;\n",
              "    }\n",
              "\n",
              "    .dataframe thead th {\n",
              "        text-align: right;\n",
              "    }\n",
              "</style>\n",
              "<table border=\"1\" class=\"dataframe\">\n",
              "  <thead>\n",
              "    <tr style=\"text-align: right;\">\n",
              "      <th></th>\n",
              "      <th>uri</th>\n",
              "      <th>web_url</th>\n",
              "      <th>snippet</th>\n",
              "      <th>lead_paragraph</th>\n",
              "      <th>keywords</th>\n",
              "      <th>pub_date</th>\n",
              "      <th>document_type</th>\n",
              "      <th>news_desk</th>\n",
              "      <th>section_name</th>\n",
              "    </tr>\n",
              "  </thead>\n",
              "  <tbody>\n",
              "    <tr>\n",
              "      <th>0</th>\n",
              "      <td>nyt://article/df646720-840a-559b-9019-a38e073d374d</td>\n",
              "      <td>https://www.nytimes.com/2022/10/31/nyregion/rikers-inmate-stabbing-correction-officer.html</td>\n",
              "      <td>The officer was seriously injured in the attack, which took place in the protective custody unit at Rikers, a union official said.</td>\n",
              "      <td>A city correction officer at the Rikers Island prison complex was seriously injured on Monday when a detainee stabbed him more than a dozen times in the back of the head, the correction officers’ union said in a statement.</td>\n",
              "      <td>[{'name': 'subject', 'value': 'Prison Guards and Corrections Officers', 'rank': 1, 'major': 'N'}, {'name': 'organizations', 'value': 'Rikers Island Prison Complex', 'rank': 2, 'major': 'N'}, {'name': 'subject', 'value': 'Assaults', 'rank': 3, 'major': 'N'}, {'name': 'organizations', 'value': 'Correction Officers Benevolent Assn', 'rank': 4, 'major': 'N'}]</td>\n",
              "      <td>2022-11-01</td>\n",
              "      <td>article</td>\n",
              "      <td>Metro</td>\n",
              "      <td>New York</td>\n",
              "    </tr>\n",
              "    <tr>\n",
              "      <th>1</th>\n",
              "      <td>nyt://article/bea5feb0-69e1-53a8-a0d0-eb8028756bfd</td>\n",
              "      <td>https://www.nytimes.com/2022/10/31/sports/baseball/world-series-astros-game-3-phillies.html</td>\n",
              "      <td>The Houston Astros and the Philadelphia Phillies are tied at one game apiece. The series is scheduled to resume Tuesday, and each remaining game will be pushed back one day.</td>\n",
              "      <td>PHILADELPHIA — Game 3 of the World Series was postponed Monday because of rain, with the Houston Astros and the Philadelphia Phillies tied at one game apiece. The series is scheduled to resume Tuesday, and in place of eliminating the built-in travel day, each game will be pushed back one day.</td>\n",
              "      <td>[{'name': 'subject', 'value': 'Baseball', 'rank': 1, 'major': 'N'}, {'name': 'subject', 'value': 'World Series', 'rank': 2, 'major': 'N'}, {'name': 'subject', 'value': 'Playoff Games', 'rank': 3, 'major': 'N'}, {'name': 'organizations', 'value': 'Houston Astros', 'rank': 4, 'major': 'N'}, {'name': 'organizations', 'value': 'Philadelphia Phillies', 'rank': 5, 'major': 'N'}, {'name': 'persons', 'value': 'McCullers, Lance Jr (1993- )', 'rank': 6, 'major': 'N'}, {'name': 'persons', 'value': 'Syn...</td>\n",
              "      <td>2022-11-01</td>\n",
              "      <td>article</td>\n",
              "      <td>Sports</td>\n",
              "      <td>Sports</td>\n",
              "    </tr>\n",
              "    <tr>\n",
              "      <th>2</th>\n",
              "      <td>nyt://article/b54435b9-a1e6-53a5-909a-58142f8ce981</td>\n",
              "      <td>https://www.nytimes.com/2022/10/31/crosswords/daily-puzzle-2022-11-01.html</td>\n",
              "      <td>Make some connections with Bruce Haight’s puzzle.</td>\n",
              "      <td>TUESDAY PUZZLE — Rumor has it that this is the 61st puzzle constructed by Bruce Haight for The Times. That’s a lot of puzzles!</td>\n",
              "      <td>[{'name': 'subject', 'value': 'Crossword Puzzles', 'rank': 1, 'major': 'N'}, {'name': 'persons', 'value': 'Haight, Bruce', 'rank': 2, 'major': 'N'}]</td>\n",
              "      <td>2022-11-01</td>\n",
              "      <td>article</td>\n",
              "      <td>Games</td>\n",
              "      <td>Crosswords &amp; Games</td>\n",
              "    </tr>\n",
              "    <tr>\n",
              "      <th>3</th>\n",
              "      <td>nyt://article/e860a43e-23b4-53d5-b1b7-9c87012e6e58</td>\n",
              "      <td>https://www.nytimes.com/2022/10/31/us/steven-pankey-murder-kidnapping-id.html</td>\n",
              "      <td>The long-unsolved kidnapping and killing of Jonelle Matthews haunted the community of Greeley, about 50 miles north of Denver.</td>\n",
              "      <td>A Colorado jury on Monday convicted an Idaho man of murder and kidnapping in the 1984 disappearance and death of a 12-year-old girl who was killed days before Christmas, a case that went unsolved for decades and haunted the tight-knit community of Greeley, Colo., where she lived.</td>\n",
              "      <td>[{'name': 'subject', 'value': 'Murders, Attempted Murders and Homicides', 'rank': 1, 'major': 'N'}, {'name': 'subject', 'value': 'Kidnapping and Hostages', 'rank': 2, 'major': 'N'}, {'name': 'persons', 'value': 'Matthews, Jonelle', 'rank': 3, 'major': 'N'}, {'name': 'persons', 'value': 'Pankey, Steven D (1951- )', 'rank': 4, 'major': 'N'}, {'name': 'glocations', 'value': 'Greeley (Colo)', 'rank': 5, 'major': 'N'}, {'name': 'glocations', 'value': 'Idaho', 'rank': 6, 'major': 'N'}, {'name': 's...</td>\n",
              "      <td>2022-11-01</td>\n",
              "      <td>article</td>\n",
              "      <td>Express</td>\n",
              "      <td>U.S.</td>\n",
              "    </tr>\n",
              "    <tr>\n",
              "      <th>4</th>\n",
              "      <td>nyt://video/bb3260bb-b2a2-5e3d-96be-4a9526b1667f</td>\n",
              "      <td>https://www.nytimes.com/video/us/politics/100000008610372/pelosi-attack-suspect-charges.html</td>\n",
              "      <td>David DePape, who is accused of breaking into the San Francisco home of Speaker Nancy Pelosi, was charged with attempting to kidnap Ms. Pelosi and with assaulting a relative of a federal official.</td>\n",
              "      <td>David DePape, who is accused of breaking into the San Francisco home of Speaker Nancy Pelosi, was charged with attempting to kidnap Ms. Pelosi and with assaulting a relative of a federal official.</td>\n",
              "      <td>[{'name': 'persons', 'value': 'Pelosi, Paul', 'rank': 1, 'major': 'N'}, {'name': 'persons', 'value': 'Pelosi, Nancy', 'rank': 2, 'major': 'N'}, {'name': 'subject', 'value': 'Murders, Attempted Murders and Homicides', 'rank': 3, 'major': 'N'}, {'name': 'subject', 'value': 'Assaults', 'rank': 4, 'major': 'N'}, {'name': 'subject', 'value': 'Kidnapping and Hostages', 'rank': 5, 'major': 'N'}, {'name': 'persons', 'value': 'Depape, David', 'rank': 6, 'major': 'N'}, {'name': 'subject', 'value': 'Un...</td>\n",
              "      <td>2022-11-01</td>\n",
              "      <td>multimedia</td>\n",
              "      <td></td>\n",
              "      <td>U.S.</td>\n",
              "    </tr>\n",
              "  </tbody>\n",
              "</table>\n",
              "</div>\n",
              "    <div class=\"colab-df-buttons\">\n",
              "\n",
              "  <div class=\"colab-df-container\">\n",
              "    <button class=\"colab-df-convert\" onclick=\"convertToInteractive('df-74320c02-475b-4b43-be10-a43c7b84e16f')\"\n",
              "            title=\"Convert this dataframe to an interactive table.\"\n",
              "            style=\"display:none;\">\n",
              "\n",
              "  <svg xmlns=\"http://www.w3.org/2000/svg\" height=\"24px\" viewBox=\"0 -960 960 960\">\n",
              "    <path d=\"M120-120v-720h720v720H120Zm60-500h600v-160H180v160Zm220 220h160v-160H400v160Zm0 220h160v-160H400v160ZM180-400h160v-160H180v160Zm440 0h160v-160H620v160ZM180-180h160v-160H180v160Zm440 0h160v-160H620v160Z\"/>\n",
              "  </svg>\n",
              "    </button>\n",
              "\n",
              "  <style>\n",
              "    .colab-df-container {\n",
              "      display:flex;\n",
              "      gap: 12px;\n",
              "    }\n",
              "\n",
              "    .colab-df-convert {\n",
              "      background-color: #E8F0FE;\n",
              "      border: none;\n",
              "      border-radius: 50%;\n",
              "      cursor: pointer;\n",
              "      display: none;\n",
              "      fill: #1967D2;\n",
              "      height: 32px;\n",
              "      padding: 0 0 0 0;\n",
              "      width: 32px;\n",
              "    }\n",
              "\n",
              "    .colab-df-convert:hover {\n",
              "      background-color: #E2EBFA;\n",
              "      box-shadow: 0px 1px 2px rgba(60, 64, 67, 0.3), 0px 1px 3px 1px rgba(60, 64, 67, 0.15);\n",
              "      fill: #174EA6;\n",
              "    }\n",
              "\n",
              "    .colab-df-buttons div {\n",
              "      margin-bottom: 4px;\n",
              "    }\n",
              "\n",
              "    [theme=dark] .colab-df-convert {\n",
              "      background-color: #3B4455;\n",
              "      fill: #D2E3FC;\n",
              "    }\n",
              "\n",
              "    [theme=dark] .colab-df-convert:hover {\n",
              "      background-color: #434B5C;\n",
              "      box-shadow: 0px 1px 3px 1px rgba(0, 0, 0, 0.15);\n",
              "      filter: drop-shadow(0px 1px 2px rgba(0, 0, 0, 0.3));\n",
              "      fill: #FFFFFF;\n",
              "    }\n",
              "  </style>\n",
              "\n",
              "    <script>\n",
              "      const buttonEl =\n",
              "        document.querySelector('#df-74320c02-475b-4b43-be10-a43c7b84e16f button.colab-df-convert');\n",
              "      buttonEl.style.display =\n",
              "        google.colab.kernel.accessAllowed ? 'block' : 'none';\n",
              "\n",
              "      async function convertToInteractive(key) {\n",
              "        const element = document.querySelector('#df-74320c02-475b-4b43-be10-a43c7b84e16f');\n",
              "        const dataTable =\n",
              "          await google.colab.kernel.invokeFunction('convertToInteractive',\n",
              "                                                    [key], {});\n",
              "        if (!dataTable) return;\n",
              "\n",
              "        const docLinkHtml = 'Like what you see? Visit the ' +\n",
              "          '<a target=\"_blank\" href=https://colab.research.google.com/notebooks/data_table.ipynb>data table notebook</a>'\n",
              "          + ' to learn more about interactive tables.';\n",
              "        element.innerHTML = '';\n",
              "        dataTable['output_type'] = 'display_data';\n",
              "        await google.colab.output.renderOutput(dataTable, element);\n",
              "        const docLink = document.createElement('div');\n",
              "        docLink.innerHTML = docLinkHtml;\n",
              "        element.appendChild(docLink);\n",
              "      }\n",
              "    </script>\n",
              "  </div>\n",
              "\n",
              "\n",
              "<div id=\"df-4dc6fef9-1f7d-4c00-bd11-510328d58664\">\n",
              "  <button class=\"colab-df-quickchart\" onclick=\"quickchart('df-4dc6fef9-1f7d-4c00-bd11-510328d58664')\"\n",
              "            title=\"Suggest charts.\"\n",
              "            style=\"display:none;\">\n",
              "\n",
              "<svg xmlns=\"http://www.w3.org/2000/svg\" height=\"24px\"viewBox=\"0 0 24 24\"\n",
              "     width=\"24px\">\n",
              "    <g>\n",
              "        <path d=\"M19 3H5c-1.1 0-2 .9-2 2v14c0 1.1.9 2 2 2h14c1.1 0 2-.9 2-2V5c0-1.1-.9-2-2-2zM9 17H7v-7h2v7zm4 0h-2V7h2v10zm4 0h-2v-4h2v4z\"/>\n",
              "    </g>\n",
              "</svg>\n",
              "  </button>\n",
              "\n",
              "<style>\n",
              "  .colab-df-quickchart {\n",
              "      --bg-color: #E8F0FE;\n",
              "      --fill-color: #1967D2;\n",
              "      --hover-bg-color: #E2EBFA;\n",
              "      --hover-fill-color: #174EA6;\n",
              "      --disabled-fill-color: #AAA;\n",
              "      --disabled-bg-color: #DDD;\n",
              "  }\n",
              "\n",
              "  [theme=dark] .colab-df-quickchart {\n",
              "      --bg-color: #3B4455;\n",
              "      --fill-color: #D2E3FC;\n",
              "      --hover-bg-color: #434B5C;\n",
              "      --hover-fill-color: #FFFFFF;\n",
              "      --disabled-bg-color: #3B4455;\n",
              "      --disabled-fill-color: #666;\n",
              "  }\n",
              "\n",
              "  .colab-df-quickchart {\n",
              "    background-color: var(--bg-color);\n",
              "    border: none;\n",
              "    border-radius: 50%;\n",
              "    cursor: pointer;\n",
              "    display: none;\n",
              "    fill: var(--fill-color);\n",
              "    height: 32px;\n",
              "    padding: 0;\n",
              "    width: 32px;\n",
              "  }\n",
              "\n",
              "  .colab-df-quickchart:hover {\n",
              "    background-color: var(--hover-bg-color);\n",
              "    box-shadow: 0 1px 2px rgba(60, 64, 67, 0.3), 0 1px 3px 1px rgba(60, 64, 67, 0.15);\n",
              "    fill: var(--button-hover-fill-color);\n",
              "  }\n",
              "\n",
              "  .colab-df-quickchart-complete:disabled,\n",
              "  .colab-df-quickchart-complete:disabled:hover {\n",
              "    background-color: var(--disabled-bg-color);\n",
              "    fill: var(--disabled-fill-color);\n",
              "    box-shadow: none;\n",
              "  }\n",
              "\n",
              "  .colab-df-spinner {\n",
              "    border: 2px solid var(--fill-color);\n",
              "    border-color: transparent;\n",
              "    border-bottom-color: var(--fill-color);\n",
              "    animation:\n",
              "      spin 1s steps(1) infinite;\n",
              "  }\n",
              "\n",
              "  @keyframes spin {\n",
              "    0% {\n",
              "      border-color: transparent;\n",
              "      border-bottom-color: var(--fill-color);\n",
              "      border-left-color: var(--fill-color);\n",
              "    }\n",
              "    20% {\n",
              "      border-color: transparent;\n",
              "      border-left-color: var(--fill-color);\n",
              "      border-top-color: var(--fill-color);\n",
              "    }\n",
              "    30% {\n",
              "      border-color: transparent;\n",
              "      border-left-color: var(--fill-color);\n",
              "      border-top-color: var(--fill-color);\n",
              "      border-right-color: var(--fill-color);\n",
              "    }\n",
              "    40% {\n",
              "      border-color: transparent;\n",
              "      border-right-color: var(--fill-color);\n",
              "      border-top-color: var(--fill-color);\n",
              "    }\n",
              "    60% {\n",
              "      border-color: transparent;\n",
              "      border-right-color: var(--fill-color);\n",
              "    }\n",
              "    80% {\n",
              "      border-color: transparent;\n",
              "      border-right-color: var(--fill-color);\n",
              "      border-bottom-color: var(--fill-color);\n",
              "    }\n",
              "    90% {\n",
              "      border-color: transparent;\n",
              "      border-bottom-color: var(--fill-color);\n",
              "    }\n",
              "  }\n",
              "</style>\n",
              "\n",
              "  <script>\n",
              "    async function quickchart(key) {\n",
              "      const quickchartButtonEl =\n",
              "        document.querySelector('#' + key + ' button');\n",
              "      quickchartButtonEl.disabled = true;  // To prevent multiple clicks.\n",
              "      quickchartButtonEl.classList.add('colab-df-spinner');\n",
              "      try {\n",
              "        const charts = await google.colab.kernel.invokeFunction(\n",
              "            'suggestCharts', [key], {});\n",
              "      } catch (error) {\n",
              "        console.error('Error during call to suggestCharts:', error);\n",
              "      }\n",
              "      quickchartButtonEl.classList.remove('colab-df-spinner');\n",
              "      quickchartButtonEl.classList.add('colab-df-quickchart-complete');\n",
              "    }\n",
              "    (() => {\n",
              "      let quickchartButtonEl =\n",
              "        document.querySelector('#df-4dc6fef9-1f7d-4c00-bd11-510328d58664 button');\n",
              "      quickchartButtonEl.style.display =\n",
              "        google.colab.kernel.accessAllowed ? 'block' : 'none';\n",
              "    })();\n",
              "  </script>\n",
              "</div>\n",
              "    </div>\n",
              "  </div>\n"
            ]
          },
          "metadata": {},
          "execution_count": 39
        }
      ]
    },
    {
      "cell_type": "code",
      "source": [
        "print(df['pub_date'].max())\n",
        "print(df['pub_date'].min())"
      ],
      "metadata": {
        "colab": {
          "base_uri": "https://localhost:8080/"
        },
        "id": "E-Y3sxifmENx",
        "outputId": "c1718593-2bfd-49d1-c2cb-951fdeda8713"
      },
      "execution_count": 40,
      "outputs": [
        {
          "output_type": "stream",
          "name": "stdout",
          "text": [
            "2023-10-22\n",
            "2022-11-01\n"
          ]
        }
      ]
    },
    {
      "cell_type": "code",
      "metadata": {
        "id": "z_TuZABw-qxa"
      },
      "source": [
        "# filters\n",
        "date = (df['pub_date']>='2023-10-07')\n",
        "section = (df['section_name']=='World')\n",
        "document_type = (df['document_type']=='article')\n",
        "\n",
        "df1 = df.loc[date & section & document_type].copy()"
      ],
      "execution_count": 41,
      "outputs": []
    },
    {
      "cell_type": "code",
      "source": [
        "# define the key-value pair you want to filter for\n",
        "target_key = 'glocations'\n",
        "target_value = 'Israel'\n",
        "\n",
        "df2 = df1[df1['keywords'].apply(lambda x: any(entry['name'] == target_key and entry['value'] == target_value for entry in x))].copy()\n"
      ],
      "metadata": {
        "id": "wOQQHgjXl8Wo"
      },
      "execution_count": 42,
      "outputs": []
    },
    {
      "cell_type": "code",
      "metadata": {
        "id": "84_7pRFxbMql",
        "colab": {
          "base_uri": "https://localhost:8080/",
          "height": 1000
        },
        "outputId": "edc69a8e-33ea-4c15-8a03-3ffd41e2ae9f"
      },
      "source": [
        "print(len(df1))\n",
        "print(len(df2))\n",
        "df2.sample(n=3)"
      ],
      "execution_count": 43,
      "outputs": [
        {
          "output_type": "stream",
          "name": "stdout",
          "text": [
            "301\n",
            "126\n"
          ]
        },
        {
          "output_type": "execute_result",
          "data": {
            "text/plain": [
              "                                                      uri  \\\n",
              "45388  nyt://article/a7235913-253a-517e-b801-5d42418d725e   \n",
              "44288  nyt://article/ea6d081c-9376-5bf6-ab4d-d71a12777bdd   \n",
              "45161  nyt://article/f72928f5-d53c-5cb5-805a-d5a421a02c7c   \n",
              "\n",
              "                                                                                            web_url  \\\n",
              "45388       https://www.nytimes.com/2023/10/18/world/middleeast/gaza-hospital-deaths-aftermath.html   \n",
              "44288          https://www.nytimes.com/2023/10/10/world/middleeast/kfar-azza-gaza-hamas-attack.html   \n",
              "45161  https://www.nytimes.com/2023/10/16/world/middleeast/gaza-invasion-israel-cellphone-data.html   \n",
              "\n",
              "                                                                                                                                                                                          snippet  \\\n",
              "45388                                         “We’ve never lived through a war this intense,” said a Palestinian journalist who captured the aftermath of the blast in Gaza that killed hundreds.   \n",
              "44288                                                                                Kfar Azza, less than two miles from Gaza, was one of the villages overrun by Palestinian gunmen on Saturday.   \n",
              "45161  The Israeli military says the tracking and the call to evacuate are to preserve as many civilian lives as possible during an expected ground invasion, even as deadly airstrikes continue.   \n",
              "\n",
              "                                                                                                                                                                                                                                                                                             lead_paragraph  \\\n",
              "45388  Sameh al-Jaroosha was sitting on the edge of the grassy courtyard of the Ahli Arab Hospital in Gaza City on Tuesday night, talking to a new acquaintance who was among the thousands of Palestinian residents of the city seeking refuge there in hopes that it would be safer than staying at home.   \n",
              "44288                                                                                                            The village of Kfar Azza looked normal from a distance — tidy terraces of one-story beige houses. I walked past the village dining hall, kindergarten and culture center, and turned left.   \n",
              "45161                                                                                                                            In a windowless control room on an army base in southern Israel, five soldiers monitored the displacement of hundreds of thousands of Gazans on a massive computer screen.   \n",
              "\n",
              "                                                                                                                                                                                                                                                                                                                                                                                                                                                                                                                  keywords  \\\n",
              "45388  [{'name': 'subject', 'value': 'Hospitals', 'rank': 1, 'major': 'N'}, {'name': 'subject', 'value': 'Israel-Gaza War (2023- )', 'rank': 2, 'major': 'N'}, {'name': 'organizations', 'value': 'Al Ahli Arab Hospital (Gaza Strip)', 'rank': 3, 'major': 'N'}, {'name': 'subject', 'value': 'Civilian Casualties', 'rank': 4, 'major': 'N'}, {'name': 'organizations', 'value': 'Hamas', 'rank': 5, 'major': 'N'}, {'name': 'glocations', 'value': 'Gaza Strip', 'rank': 6, 'major': 'N'}, {'name': 'subject', 'valu...   \n",
              "44288                                                                                                                                                                                                                [{'name': 'glocations', 'value': 'Israel', 'rank': 1, 'major': 'N'}, {'name': 'glocations', 'value': 'Gaza Strip', 'rank': 2, 'major': 'N'}, {'name': 'organizations', 'value': 'Hamas', 'rank': 3, 'major': 'N'}, {'name': 'subject', 'value': 'Israel-Gaza War (2023- )', 'rank': 4, 'major': 'N'}]   \n",
              "45161  [{'name': 'subject', 'value': 'Israel-Gaza War (2023- )', 'rank': 1, 'major': 'N'}, {'name': 'subject', 'value': 'Defense and Military Forces', 'rank': 2, 'major': 'N'}, {'name': 'subject', 'value': 'War and Armed Conflicts', 'rank': 3, 'major': 'N'}, {'name': 'subject', 'value': 'International Relations', 'rank': 4, 'major': 'N'}, {'name': 'glocations', 'value': 'Gaza Strip', 'rank': 5, 'major': 'N'}, {'name': 'glocations', 'value': 'Israel', 'rank': 6, 'major': 'N'}, {'name': 'organization...   \n",
              "\n",
              "         pub_date document_type news_desk section_name  \n",
              "45388  2023-10-18       article   Foreign        World  \n",
              "44288  2023-10-10       article   Foreign        World  \n",
              "45161  2023-10-16       article   Foreign        World  "
            ],
            "text/html": [
              "\n",
              "  <div id=\"df-fa3c06c8-ef5b-48ef-b457-702a4da24f42\" class=\"colab-df-container\">\n",
              "    <div>\n",
              "<style scoped>\n",
              "    .dataframe tbody tr th:only-of-type {\n",
              "        vertical-align: middle;\n",
              "    }\n",
              "\n",
              "    .dataframe tbody tr th {\n",
              "        vertical-align: top;\n",
              "    }\n",
              "\n",
              "    .dataframe thead th {\n",
              "        text-align: right;\n",
              "    }\n",
              "</style>\n",
              "<table border=\"1\" class=\"dataframe\">\n",
              "  <thead>\n",
              "    <tr style=\"text-align: right;\">\n",
              "      <th></th>\n",
              "      <th>uri</th>\n",
              "      <th>web_url</th>\n",
              "      <th>snippet</th>\n",
              "      <th>lead_paragraph</th>\n",
              "      <th>keywords</th>\n",
              "      <th>pub_date</th>\n",
              "      <th>document_type</th>\n",
              "      <th>news_desk</th>\n",
              "      <th>section_name</th>\n",
              "    </tr>\n",
              "  </thead>\n",
              "  <tbody>\n",
              "    <tr>\n",
              "      <th>45388</th>\n",
              "      <td>nyt://article/a7235913-253a-517e-b801-5d42418d725e</td>\n",
              "      <td>https://www.nytimes.com/2023/10/18/world/middleeast/gaza-hospital-deaths-aftermath.html</td>\n",
              "      <td>“We’ve never lived through a war this intense,” said a Palestinian journalist who captured the aftermath of the blast in Gaza that killed hundreds.</td>\n",
              "      <td>Sameh al-Jaroosha was sitting on the edge of the grassy courtyard of the Ahli Arab Hospital in Gaza City on Tuesday night, talking to a new acquaintance who was among the thousands of Palestinian residents of the city seeking refuge there in hopes that it would be safer than staying at home.</td>\n",
              "      <td>[{'name': 'subject', 'value': 'Hospitals', 'rank': 1, 'major': 'N'}, {'name': 'subject', 'value': 'Israel-Gaza War (2023- )', 'rank': 2, 'major': 'N'}, {'name': 'organizations', 'value': 'Al Ahli Arab Hospital (Gaza Strip)', 'rank': 3, 'major': 'N'}, {'name': 'subject', 'value': 'Civilian Casualties', 'rank': 4, 'major': 'N'}, {'name': 'organizations', 'value': 'Hamas', 'rank': 5, 'major': 'N'}, {'name': 'glocations', 'value': 'Gaza Strip', 'rank': 6, 'major': 'N'}, {'name': 'subject', 'valu...</td>\n",
              "      <td>2023-10-18</td>\n",
              "      <td>article</td>\n",
              "      <td>Foreign</td>\n",
              "      <td>World</td>\n",
              "    </tr>\n",
              "    <tr>\n",
              "      <th>44288</th>\n",
              "      <td>nyt://article/ea6d081c-9376-5bf6-ab4d-d71a12777bdd</td>\n",
              "      <td>https://www.nytimes.com/2023/10/10/world/middleeast/kfar-azza-gaza-hamas-attack.html</td>\n",
              "      <td>Kfar Azza, less than two miles from Gaza, was one of the villages overrun by Palestinian gunmen on Saturday.</td>\n",
              "      <td>The village of Kfar Azza looked normal from a distance — tidy terraces of one-story beige houses. I walked past the village dining hall, kindergarten and culture center, and turned left.</td>\n",
              "      <td>[{'name': 'glocations', 'value': 'Israel', 'rank': 1, 'major': 'N'}, {'name': 'glocations', 'value': 'Gaza Strip', 'rank': 2, 'major': 'N'}, {'name': 'organizations', 'value': 'Hamas', 'rank': 3, 'major': 'N'}, {'name': 'subject', 'value': 'Israel-Gaza War (2023- )', 'rank': 4, 'major': 'N'}]</td>\n",
              "      <td>2023-10-10</td>\n",
              "      <td>article</td>\n",
              "      <td>Foreign</td>\n",
              "      <td>World</td>\n",
              "    </tr>\n",
              "    <tr>\n",
              "      <th>45161</th>\n",
              "      <td>nyt://article/f72928f5-d53c-5cb5-805a-d5a421a02c7c</td>\n",
              "      <td>https://www.nytimes.com/2023/10/16/world/middleeast/gaza-invasion-israel-cellphone-data.html</td>\n",
              "      <td>The Israeli military says the tracking and the call to evacuate are to preserve as many civilian lives as possible during an expected ground invasion, even as deadly airstrikes continue.</td>\n",
              "      <td>In a windowless control room on an army base in southern Israel, five soldiers monitored the displacement of hundreds of thousands of Gazans on a massive computer screen.</td>\n",
              "      <td>[{'name': 'subject', 'value': 'Israel-Gaza War (2023- )', 'rank': 1, 'major': 'N'}, {'name': 'subject', 'value': 'Defense and Military Forces', 'rank': 2, 'major': 'N'}, {'name': 'subject', 'value': 'War and Armed Conflicts', 'rank': 3, 'major': 'N'}, {'name': 'subject', 'value': 'International Relations', 'rank': 4, 'major': 'N'}, {'name': 'glocations', 'value': 'Gaza Strip', 'rank': 5, 'major': 'N'}, {'name': 'glocations', 'value': 'Israel', 'rank': 6, 'major': 'N'}, {'name': 'organization...</td>\n",
              "      <td>2023-10-16</td>\n",
              "      <td>article</td>\n",
              "      <td>Foreign</td>\n",
              "      <td>World</td>\n",
              "    </tr>\n",
              "  </tbody>\n",
              "</table>\n",
              "</div>\n",
              "    <div class=\"colab-df-buttons\">\n",
              "\n",
              "  <div class=\"colab-df-container\">\n",
              "    <button class=\"colab-df-convert\" onclick=\"convertToInteractive('df-fa3c06c8-ef5b-48ef-b457-702a4da24f42')\"\n",
              "            title=\"Convert this dataframe to an interactive table.\"\n",
              "            style=\"display:none;\">\n",
              "\n",
              "  <svg xmlns=\"http://www.w3.org/2000/svg\" height=\"24px\" viewBox=\"0 -960 960 960\">\n",
              "    <path d=\"M120-120v-720h720v720H120Zm60-500h600v-160H180v160Zm220 220h160v-160H400v160Zm0 220h160v-160H400v160ZM180-400h160v-160H180v160Zm440 0h160v-160H620v160ZM180-180h160v-160H180v160Zm440 0h160v-160H620v160Z\"/>\n",
              "  </svg>\n",
              "    </button>\n",
              "\n",
              "  <style>\n",
              "    .colab-df-container {\n",
              "      display:flex;\n",
              "      gap: 12px;\n",
              "    }\n",
              "\n",
              "    .colab-df-convert {\n",
              "      background-color: #E8F0FE;\n",
              "      border: none;\n",
              "      border-radius: 50%;\n",
              "      cursor: pointer;\n",
              "      display: none;\n",
              "      fill: #1967D2;\n",
              "      height: 32px;\n",
              "      padding: 0 0 0 0;\n",
              "      width: 32px;\n",
              "    }\n",
              "\n",
              "    .colab-df-convert:hover {\n",
              "      background-color: #E2EBFA;\n",
              "      box-shadow: 0px 1px 2px rgba(60, 64, 67, 0.3), 0px 1px 3px 1px rgba(60, 64, 67, 0.15);\n",
              "      fill: #174EA6;\n",
              "    }\n",
              "\n",
              "    .colab-df-buttons div {\n",
              "      margin-bottom: 4px;\n",
              "    }\n",
              "\n",
              "    [theme=dark] .colab-df-convert {\n",
              "      background-color: #3B4455;\n",
              "      fill: #D2E3FC;\n",
              "    }\n",
              "\n",
              "    [theme=dark] .colab-df-convert:hover {\n",
              "      background-color: #434B5C;\n",
              "      box-shadow: 0px 1px 3px 1px rgba(0, 0, 0, 0.15);\n",
              "      filter: drop-shadow(0px 1px 2px rgba(0, 0, 0, 0.3));\n",
              "      fill: #FFFFFF;\n",
              "    }\n",
              "  </style>\n",
              "\n",
              "    <script>\n",
              "      const buttonEl =\n",
              "        document.querySelector('#df-fa3c06c8-ef5b-48ef-b457-702a4da24f42 button.colab-df-convert');\n",
              "      buttonEl.style.display =\n",
              "        google.colab.kernel.accessAllowed ? 'block' : 'none';\n",
              "\n",
              "      async function convertToInteractive(key) {\n",
              "        const element = document.querySelector('#df-fa3c06c8-ef5b-48ef-b457-702a4da24f42');\n",
              "        const dataTable =\n",
              "          await google.colab.kernel.invokeFunction('convertToInteractive',\n",
              "                                                    [key], {});\n",
              "        if (!dataTable) return;\n",
              "\n",
              "        const docLinkHtml = 'Like what you see? Visit the ' +\n",
              "          '<a target=\"_blank\" href=https://colab.research.google.com/notebooks/data_table.ipynb>data table notebook</a>'\n",
              "          + ' to learn more about interactive tables.';\n",
              "        element.innerHTML = '';\n",
              "        dataTable['output_type'] = 'display_data';\n",
              "        await google.colab.output.renderOutput(dataTable, element);\n",
              "        const docLink = document.createElement('div');\n",
              "        docLink.innerHTML = docLinkHtml;\n",
              "        element.appendChild(docLink);\n",
              "      }\n",
              "    </script>\n",
              "  </div>\n",
              "\n",
              "\n",
              "<div id=\"df-5b22ac77-b699-4aed-aa3f-2ec92c910e46\">\n",
              "  <button class=\"colab-df-quickchart\" onclick=\"quickchart('df-5b22ac77-b699-4aed-aa3f-2ec92c910e46')\"\n",
              "            title=\"Suggest charts.\"\n",
              "            style=\"display:none;\">\n",
              "\n",
              "<svg xmlns=\"http://www.w3.org/2000/svg\" height=\"24px\"viewBox=\"0 0 24 24\"\n",
              "     width=\"24px\">\n",
              "    <g>\n",
              "        <path d=\"M19 3H5c-1.1 0-2 .9-2 2v14c0 1.1.9 2 2 2h14c1.1 0 2-.9 2-2V5c0-1.1-.9-2-2-2zM9 17H7v-7h2v7zm4 0h-2V7h2v10zm4 0h-2v-4h2v4z\"/>\n",
              "    </g>\n",
              "</svg>\n",
              "  </button>\n",
              "\n",
              "<style>\n",
              "  .colab-df-quickchart {\n",
              "      --bg-color: #E8F0FE;\n",
              "      --fill-color: #1967D2;\n",
              "      --hover-bg-color: #E2EBFA;\n",
              "      --hover-fill-color: #174EA6;\n",
              "      --disabled-fill-color: #AAA;\n",
              "      --disabled-bg-color: #DDD;\n",
              "  }\n",
              "\n",
              "  [theme=dark] .colab-df-quickchart {\n",
              "      --bg-color: #3B4455;\n",
              "      --fill-color: #D2E3FC;\n",
              "      --hover-bg-color: #434B5C;\n",
              "      --hover-fill-color: #FFFFFF;\n",
              "      --disabled-bg-color: #3B4455;\n",
              "      --disabled-fill-color: #666;\n",
              "  }\n",
              "\n",
              "  .colab-df-quickchart {\n",
              "    background-color: var(--bg-color);\n",
              "    border: none;\n",
              "    border-radius: 50%;\n",
              "    cursor: pointer;\n",
              "    display: none;\n",
              "    fill: var(--fill-color);\n",
              "    height: 32px;\n",
              "    padding: 0;\n",
              "    width: 32px;\n",
              "  }\n",
              "\n",
              "  .colab-df-quickchart:hover {\n",
              "    background-color: var(--hover-bg-color);\n",
              "    box-shadow: 0 1px 2px rgba(60, 64, 67, 0.3), 0 1px 3px 1px rgba(60, 64, 67, 0.15);\n",
              "    fill: var(--button-hover-fill-color);\n",
              "  }\n",
              "\n",
              "  .colab-df-quickchart-complete:disabled,\n",
              "  .colab-df-quickchart-complete:disabled:hover {\n",
              "    background-color: var(--disabled-bg-color);\n",
              "    fill: var(--disabled-fill-color);\n",
              "    box-shadow: none;\n",
              "  }\n",
              "\n",
              "  .colab-df-spinner {\n",
              "    border: 2px solid var(--fill-color);\n",
              "    border-color: transparent;\n",
              "    border-bottom-color: var(--fill-color);\n",
              "    animation:\n",
              "      spin 1s steps(1) infinite;\n",
              "  }\n",
              "\n",
              "  @keyframes spin {\n",
              "    0% {\n",
              "      border-color: transparent;\n",
              "      border-bottom-color: var(--fill-color);\n",
              "      border-left-color: var(--fill-color);\n",
              "    }\n",
              "    20% {\n",
              "      border-color: transparent;\n",
              "      border-left-color: var(--fill-color);\n",
              "      border-top-color: var(--fill-color);\n",
              "    }\n",
              "    30% {\n",
              "      border-color: transparent;\n",
              "      border-left-color: var(--fill-color);\n",
              "      border-top-color: var(--fill-color);\n",
              "      border-right-color: var(--fill-color);\n",
              "    }\n",
              "    40% {\n",
              "      border-color: transparent;\n",
              "      border-right-color: var(--fill-color);\n",
              "      border-top-color: var(--fill-color);\n",
              "    }\n",
              "    60% {\n",
              "      border-color: transparent;\n",
              "      border-right-color: var(--fill-color);\n",
              "    }\n",
              "    80% {\n",
              "      border-color: transparent;\n",
              "      border-right-color: var(--fill-color);\n",
              "      border-bottom-color: var(--fill-color);\n",
              "    }\n",
              "    90% {\n",
              "      border-color: transparent;\n",
              "      border-bottom-color: var(--fill-color);\n",
              "    }\n",
              "  }\n",
              "</style>\n",
              "\n",
              "  <script>\n",
              "    async function quickchart(key) {\n",
              "      const quickchartButtonEl =\n",
              "        document.querySelector('#' + key + ' button');\n",
              "      quickchartButtonEl.disabled = true;  // To prevent multiple clicks.\n",
              "      quickchartButtonEl.classList.add('colab-df-spinner');\n",
              "      try {\n",
              "        const charts = await google.colab.kernel.invokeFunction(\n",
              "            'suggestCharts', [key], {});\n",
              "      } catch (error) {\n",
              "        console.error('Error during call to suggestCharts:', error);\n",
              "      }\n",
              "      quickchartButtonEl.classList.remove('colab-df-spinner');\n",
              "      quickchartButtonEl.classList.add('colab-df-quickchart-complete');\n",
              "    }\n",
              "    (() => {\n",
              "      let quickchartButtonEl =\n",
              "        document.querySelector('#df-5b22ac77-b699-4aed-aa3f-2ec92c910e46 button');\n",
              "      quickchartButtonEl.style.display =\n",
              "        google.colab.kernel.accessAllowed ? 'block' : 'none';\n",
              "    })();\n",
              "  </script>\n",
              "</div>\n",
              "    </div>\n",
              "  </div>\n"
            ]
          },
          "metadata": {},
          "execution_count": 43
        }
      ]
    },
    {
      "cell_type": "code",
      "metadata": {
        "colab": {
          "base_uri": "https://localhost:8080/"
        },
        "id": "ykLuCuTF8S3W",
        "outputId": "d62f4e16-094b-4475-9532-d90dfef71aa6"
      },
      "source": [
        "# peek at first record of keywords field\n",
        "df2.loc[df2['uri']=='nyt://article/ccd81853-4659-5a9d-b2e0-53489a78db39']['keywords']"
      ],
      "execution_count": 44,
      "outputs": [
        {
          "output_type": "execute_result",
          "data": {
            "text/plain": [
              "44747    [{'name': 'subject', 'value': 'Israel-Gaza War (2023- )', 'rank': 1, 'major': 'N'}, {'name': 'glocations', 'value': 'Israel', 'rank': 2, 'major': 'N'}, {'name': 'subject', 'value': 'Defense and Military Forces', 'rank': 3, 'major': 'N'}, {'name': 'glocations', 'value': 'Gaza Strip', 'rank': 4, 'major': 'N'}, {'name': 'subject', 'value': 'Palestinians', 'rank': 5, 'major': 'N'}, {'name': 'subject', 'value': 'Evacuations and Evacuees', 'rank': 6, 'major': 'N'}, {'name': 'subject', 'value': 'Re...\n",
              "Name: keywords, dtype: object"
            ]
          },
          "metadata": {},
          "execution_count": 44
        }
      ]
    },
    {
      "cell_type": "code",
      "metadata": {
        "id": "gy_wRQc68U_E"
      },
      "source": [
        "# turn dictionary in list into just list of vlaues\n",
        "#df2['keywords_'] = df2['keywords'].apply(lambda x: [i['value'] for i in x])"
      ],
      "execution_count": 45,
      "outputs": []
    },
    {
      "cell_type": "code",
      "metadata": {
        "id": "Kgcu6A8_-6pu",
        "colab": {
          "base_uri": "https://localhost:8080/"
        },
        "outputId": "8cc4f3a3-0814-4c93-b620-b95785311057"
      },
      "source": [
        "import spacy.cli\n",
        "spacy.cli.download(\"en_core_web_md\")\n",
        "import spacy\n",
        "import en_core_web_md\n",
        "#from spacy.pipeline import EntityRuler\n",
        "nlp = spacy.load(\"en_core_web_md\")"
      ],
      "execution_count": 46,
      "outputs": [
        {
          "output_type": "stream",
          "name": "stdout",
          "text": [
            "\u001b[38;5;2m✔ Download and installation successful\u001b[0m\n",
            "You can now load the package via spacy.load('en_core_web_md')\n"
          ]
        }
      ]
    },
    {
      "cell_type": "code",
      "source": [
        "ents = [\n",
        "    'Hezbollah',\n",
        "    'Hamas']"
      ],
      "metadata": {
        "id": "X3mD_0GDN7yY"
      },
      "execution_count": 47,
      "outputs": []
    },
    {
      "cell_type": "code",
      "source": [
        "# initaliz empty list and add onewrd_nse_terrs to ent_patrns\n",
        "ent_patrns = []\n",
        "\n",
        "for ent in ents:\n",
        "  ent_ = {\"label\":\"ORG\", \"pattern\":[{\"LOWER\":ent.lower()}]}\n",
        "  ent_patrns.append(ent_)"
      ],
      "metadata": {
        "id": "O74sQIXJN73S"
      },
      "execution_count": 48,
      "outputs": []
    },
    {
      "cell_type": "code",
      "source": [
        "ent_patrns"
      ],
      "metadata": {
        "colab": {
          "base_uri": "https://localhost:8080/"
        },
        "id": "w_EwnBZUIm_f",
        "outputId": "50b92481-e910-4439-8552-4f6e71a13f1b"
      },
      "execution_count": 64,
      "outputs": [
        {
          "output_type": "execute_result",
          "data": {
            "text/plain": [
              "[{'label': 'ORG', 'pattern': [{'LOWER': 'hezbollah'}]},\n",
              " {'label': 'ORG', 'pattern': [{'LOWER': 'hamas'}]}]"
            ]
          },
          "metadata": {},
          "execution_count": 64
        }
      ]
    },
    {
      "cell_type": "code",
      "source": [
        "# initialize EntityRuler\n",
        "#ruler = EntityRuler(nlp, overwrite_ents = True, validate = True)\n",
        "\n",
        "# initialize Entity Ruler\n",
        "ruler = nlp.add_pipe(\"entity_ruler\")"
      ],
      "metadata": {
        "id": "W0bwwLTESOTb"
      },
      "execution_count": 49,
      "outputs": []
    },
    {
      "cell_type": "code",
      "source": [
        "# add patterns to ruler\n",
        "ruler.add_patterns(ent_patrns)"
      ],
      "metadata": {
        "id": "HsNUPNPBSOXm"
      },
      "execution_count": 50,
      "outputs": []
    },
    {
      "cell_type": "code",
      "source": [
        "# some testing\n",
        "doc = nlp(\"Hamas wants to attack aliens\")"
      ],
      "metadata": {
        "id": "uUzmW007G2NN"
      },
      "execution_count": 65,
      "outputs": []
    },
    {
      "cell_type": "code",
      "source": [
        "for ent in doc.ents:\n",
        "  print(ent.text, ent.label_)"
      ],
      "metadata": {
        "colab": {
          "base_uri": "https://localhost:8080/"
        },
        "id": "dwpHJHr1G2RM",
        "outputId": "814ba97d-c8c9-4b5d-c3e9-bc320b8ea8bf"
      },
      "execution_count": 66,
      "outputs": [
        {
          "output_type": "stream",
          "name": "stdout",
          "text": [
            "Hamas ORG\n"
          ]
        }
      ]
    },
    {
      "cell_type": "code",
      "source": [
        "# add ruler to pipeline\n",
        "#nlp.add_pipe(ruler, before = \"ner\")"
      ],
      "metadata": {
        "id": "X4qz8w6WCrf1"
      },
      "execution_count": 67,
      "outputs": []
    },
    {
      "cell_type": "code",
      "metadata": {
        "id": "hnGtRJgg8Zk2"
      },
      "source": [
        "# function\n",
        "def extract_named_ents3(text):\n",
        "  \"use spacy to extract GPEs\"\n",
        "  ent_labels = [\"GPE\", \"NORP\", \"ORG\"]\n",
        "  doc = nlp(text)\n",
        "  items = [(x.text, x.label_) for x in doc.ents if x.label_ in ent_labels] # use to get NORP and GPE\n",
        "  items_counter = Counter(items)#.most_common(10)\n",
        "  return items_counter\n",
        "\n",
        "def extract_named_ents2(text):\n",
        "  \"use spacy to extract GPEs\"\n",
        "  ent_labels = [\"GPE\", \"NORP\", \"ORG\"]\n",
        "  doc = nlp(text)\n",
        "  items = [(x.text, x.label_) for x in doc.ents if x.label_ in ent_labels] # use to get specified labels\n",
        "  #items = [(x.text, x.label_) for x in doc.ents] # use to get all ents\n",
        "  return items"
      ],
      "execution_count": 74,
      "outputs": []
    },
    {
      "cell_type": "code",
      "metadata": {
        "id": "lgzxw6Vg3EpF"
      },
      "source": [
        "# instaniate tqdm\n",
        "tqdm.pandas()"
      ],
      "execution_count": 70,
      "outputs": []
    },
    {
      "cell_type": "code",
      "metadata": {
        "id": "cEstUXZrEA9B",
        "colab": {
          "base_uri": "https://localhost:8080/"
        },
        "outputId": "f4919f51-0c4d-48a4-aa41-bb8659c80a9f"
      },
      "source": [
        "# apply extraction function\n",
        "df2['ents_extracted'] = df2['lead_paragraph'].str.lower().progress_apply(extract_named_ents3)"
      ],
      "execution_count": 75,
      "outputs": [
        {
          "output_type": "stream",
          "name": "stderr",
          "text": [
            "100%|██████████| 126/126 [00:02<00:00, 59.73it/s]\n"
          ]
        }
      ]
    },
    {
      "cell_type": "code",
      "source": [
        "df2[['lead_paragraph', 'keywords', 'ents_extracted']].sample(n=3)"
      ],
      "metadata": {
        "colab": {
          "base_uri": "https://localhost:8080/",
          "height": 465
        },
        "id": "XN7_C19JFz5c",
        "outputId": "d1dfc610-4111-48f5-81e9-569e2008d3e2"
      },
      "execution_count": 79,
      "outputs": [
        {
          "output_type": "execute_result",
          "data": {
            "text/plain": [
              "                                                                                                                                                                                                                                             lead_paragraph  \\\n",
              "44631          As Israeli warplanes pound Gaza, killing more than 1,500 people and crushing buildings in response to last weekend’s unprecedented attack by Hamas, Israel’s leadership has repeatedly urged civilians to flee the territory while they can.   \n",
              "44136  A former spokesman for Israel’s military gave a blunt assessment of the situation in Israel on Sunday, warning that it would take hours or longer to reclaim all the towns in southern Israel where the military was still battling Hamas militants.   \n",
              "45198                                                                            A young Palestinian man from East Jerusalem, Soheib Muhammad Abu Amar, is missing and believed to have been taken hostage by Hamas and ferried into Gaza, his family said.   \n",
              "\n",
              "                                                                                                                                                                                                                                                                                                                                                                                                                                                                                                                  keywords  \\\n",
              "44631  [{'name': 'subject', 'value': 'Israel-Gaza War (2023- )', 'rank': 1, 'major': 'N'}, {'name': 'glocations', 'value': 'Israel', 'rank': 2, 'major': 'N'}, {'name': 'glocations', 'value': 'Gaza Strip', 'rank': 3, 'major': 'N'}, {'name': 'subject', 'value': 'Palestinians', 'rank': 4, 'major': 'N'}, {'name': 'organizations', 'value': 'Hamas', 'rank': 5, 'major': 'N'}, {'name': 'glocations', 'value': 'Egypt', 'rank': 6, 'major': 'N'}, {'name': 'subject', 'value': 'Refugees and Displaced Persons', '...   \n",
              "44136                                                                                                                                                                                                                [{'name': 'subject', 'value': 'Israel-Gaza War (2023- )', 'rank': 1, 'major': 'N'}, {'name': 'glocations', 'value': 'Israel', 'rank': 2, 'major': 'N'}, {'name': 'glocations', 'value': 'Gaza Strip', 'rank': 3, 'major': 'N'}, {'name': 'organizations', 'value': 'Hamas', 'rank': 4, 'major': 'N'}]   \n",
              "45198                                                                                                                                         [{'name': 'subject', 'value': 'Israel-Gaza War (2023- )', 'rank': 1, 'major': 'N'}, {'name': 'subject', 'value': 'Palestinians', 'rank': 2, 'major': 'N'}, {'name': 'glocations', 'value': 'Gaza Strip', 'rank': 3, 'major': 'N'}, {'name': 'glocations', 'value': 'Israel', 'rank': 4, 'major': 'N'}, {'name': 'organizations', 'value': 'Hamas', 'rank': 5, 'major': 'N'}]   \n",
              "\n",
              "                                                                                                                  ents_extracted  \n",
              "44631                              {('israeli', 'NORP'): 1, ('pound gaza', 'GPE'): 1, ('hamas', 'GPE'): 1, ('israel', 'GPE'): 1}  \n",
              "44136                                                                                {('israel', 'GPE'): 3, ('hamas', 'ORG'): 1}  \n",
              "45198  {('palestinian', 'NORP'): 1, ('east jerusalem', 'GPE'): 1, ('soheib', 'GPE'): 1, ('hamas', 'ORG'): 1, ('gaza', 'GPE'): 1}  "
            ],
            "text/html": [
              "\n",
              "  <div id=\"df-417f9534-444f-410a-aef4-afdc06dba497\" class=\"colab-df-container\">\n",
              "    <div>\n",
              "<style scoped>\n",
              "    .dataframe tbody tr th:only-of-type {\n",
              "        vertical-align: middle;\n",
              "    }\n",
              "\n",
              "    .dataframe tbody tr th {\n",
              "        vertical-align: top;\n",
              "    }\n",
              "\n",
              "    .dataframe thead th {\n",
              "        text-align: right;\n",
              "    }\n",
              "</style>\n",
              "<table border=\"1\" class=\"dataframe\">\n",
              "  <thead>\n",
              "    <tr style=\"text-align: right;\">\n",
              "      <th></th>\n",
              "      <th>lead_paragraph</th>\n",
              "      <th>keywords</th>\n",
              "      <th>ents_extracted</th>\n",
              "    </tr>\n",
              "  </thead>\n",
              "  <tbody>\n",
              "    <tr>\n",
              "      <th>44631</th>\n",
              "      <td>As Israeli warplanes pound Gaza, killing more than 1,500 people and crushing buildings in response to last weekend’s unprecedented attack by Hamas, Israel’s leadership has repeatedly urged civilians to flee the territory while they can.</td>\n",
              "      <td>[{'name': 'subject', 'value': 'Israel-Gaza War (2023- )', 'rank': 1, 'major': 'N'}, {'name': 'glocations', 'value': 'Israel', 'rank': 2, 'major': 'N'}, {'name': 'glocations', 'value': 'Gaza Strip', 'rank': 3, 'major': 'N'}, {'name': 'subject', 'value': 'Palestinians', 'rank': 4, 'major': 'N'}, {'name': 'organizations', 'value': 'Hamas', 'rank': 5, 'major': 'N'}, {'name': 'glocations', 'value': 'Egypt', 'rank': 6, 'major': 'N'}, {'name': 'subject', 'value': 'Refugees and Displaced Persons', '...</td>\n",
              "      <td>{('israeli', 'NORP'): 1, ('pound gaza', 'GPE'): 1, ('hamas', 'GPE'): 1, ('israel', 'GPE'): 1}</td>\n",
              "    </tr>\n",
              "    <tr>\n",
              "      <th>44136</th>\n",
              "      <td>A former spokesman for Israel’s military gave a blunt assessment of the situation in Israel on Sunday, warning that it would take hours or longer to reclaim all the towns in southern Israel where the military was still battling Hamas militants.</td>\n",
              "      <td>[{'name': 'subject', 'value': 'Israel-Gaza War (2023- )', 'rank': 1, 'major': 'N'}, {'name': 'glocations', 'value': 'Israel', 'rank': 2, 'major': 'N'}, {'name': 'glocations', 'value': 'Gaza Strip', 'rank': 3, 'major': 'N'}, {'name': 'organizations', 'value': 'Hamas', 'rank': 4, 'major': 'N'}]</td>\n",
              "      <td>{('israel', 'GPE'): 3, ('hamas', 'ORG'): 1}</td>\n",
              "    </tr>\n",
              "    <tr>\n",
              "      <th>45198</th>\n",
              "      <td>A young Palestinian man from East Jerusalem, Soheib Muhammad Abu Amar, is missing and believed to have been taken hostage by Hamas and ferried into Gaza, his family said.</td>\n",
              "      <td>[{'name': 'subject', 'value': 'Israel-Gaza War (2023- )', 'rank': 1, 'major': 'N'}, {'name': 'subject', 'value': 'Palestinians', 'rank': 2, 'major': 'N'}, {'name': 'glocations', 'value': 'Gaza Strip', 'rank': 3, 'major': 'N'}, {'name': 'glocations', 'value': 'Israel', 'rank': 4, 'major': 'N'}, {'name': 'organizations', 'value': 'Hamas', 'rank': 5, 'major': 'N'}]</td>\n",
              "      <td>{('palestinian', 'NORP'): 1, ('east jerusalem', 'GPE'): 1, ('soheib', 'GPE'): 1, ('hamas', 'ORG'): 1, ('gaza', 'GPE'): 1}</td>\n",
              "    </tr>\n",
              "  </tbody>\n",
              "</table>\n",
              "</div>\n",
              "    <div class=\"colab-df-buttons\">\n",
              "\n",
              "  <div class=\"colab-df-container\">\n",
              "    <button class=\"colab-df-convert\" onclick=\"convertToInteractive('df-417f9534-444f-410a-aef4-afdc06dba497')\"\n",
              "            title=\"Convert this dataframe to an interactive table.\"\n",
              "            style=\"display:none;\">\n",
              "\n",
              "  <svg xmlns=\"http://www.w3.org/2000/svg\" height=\"24px\" viewBox=\"0 -960 960 960\">\n",
              "    <path d=\"M120-120v-720h720v720H120Zm60-500h600v-160H180v160Zm220 220h160v-160H400v160Zm0 220h160v-160H400v160ZM180-400h160v-160H180v160Zm440 0h160v-160H620v160ZM180-180h160v-160H180v160Zm440 0h160v-160H620v160Z\"/>\n",
              "  </svg>\n",
              "    </button>\n",
              "\n",
              "  <style>\n",
              "    .colab-df-container {\n",
              "      display:flex;\n",
              "      gap: 12px;\n",
              "    }\n",
              "\n",
              "    .colab-df-convert {\n",
              "      background-color: #E8F0FE;\n",
              "      border: none;\n",
              "      border-radius: 50%;\n",
              "      cursor: pointer;\n",
              "      display: none;\n",
              "      fill: #1967D2;\n",
              "      height: 32px;\n",
              "      padding: 0 0 0 0;\n",
              "      width: 32px;\n",
              "    }\n",
              "\n",
              "    .colab-df-convert:hover {\n",
              "      background-color: #E2EBFA;\n",
              "      box-shadow: 0px 1px 2px rgba(60, 64, 67, 0.3), 0px 1px 3px 1px rgba(60, 64, 67, 0.15);\n",
              "      fill: #174EA6;\n",
              "    }\n",
              "\n",
              "    .colab-df-buttons div {\n",
              "      margin-bottom: 4px;\n",
              "    }\n",
              "\n",
              "    [theme=dark] .colab-df-convert {\n",
              "      background-color: #3B4455;\n",
              "      fill: #D2E3FC;\n",
              "    }\n",
              "\n",
              "    [theme=dark] .colab-df-convert:hover {\n",
              "      background-color: #434B5C;\n",
              "      box-shadow: 0px 1px 3px 1px rgba(0, 0, 0, 0.15);\n",
              "      filter: drop-shadow(0px 1px 2px rgba(0, 0, 0, 0.3));\n",
              "      fill: #FFFFFF;\n",
              "    }\n",
              "  </style>\n",
              "\n",
              "    <script>\n",
              "      const buttonEl =\n",
              "        document.querySelector('#df-417f9534-444f-410a-aef4-afdc06dba497 button.colab-df-convert');\n",
              "      buttonEl.style.display =\n",
              "        google.colab.kernel.accessAllowed ? 'block' : 'none';\n",
              "\n",
              "      async function convertToInteractive(key) {\n",
              "        const element = document.querySelector('#df-417f9534-444f-410a-aef4-afdc06dba497');\n",
              "        const dataTable =\n",
              "          await google.colab.kernel.invokeFunction('convertToInteractive',\n",
              "                                                    [key], {});\n",
              "        if (!dataTable) return;\n",
              "\n",
              "        const docLinkHtml = 'Like what you see? Visit the ' +\n",
              "          '<a target=\"_blank\" href=https://colab.research.google.com/notebooks/data_table.ipynb>data table notebook</a>'\n",
              "          + ' to learn more about interactive tables.';\n",
              "        element.innerHTML = '';\n",
              "        dataTable['output_type'] = 'display_data';\n",
              "        await google.colab.output.renderOutput(dataTable, element);\n",
              "        const docLink = document.createElement('div');\n",
              "        docLink.innerHTML = docLinkHtml;\n",
              "        element.appendChild(docLink);\n",
              "      }\n",
              "    </script>\n",
              "  </div>\n",
              "\n",
              "\n",
              "<div id=\"df-e2678a1a-e88d-4864-bfdb-f1a78ae670d2\">\n",
              "  <button class=\"colab-df-quickchart\" onclick=\"quickchart('df-e2678a1a-e88d-4864-bfdb-f1a78ae670d2')\"\n",
              "            title=\"Suggest charts.\"\n",
              "            style=\"display:none;\">\n",
              "\n",
              "<svg xmlns=\"http://www.w3.org/2000/svg\" height=\"24px\"viewBox=\"0 0 24 24\"\n",
              "     width=\"24px\">\n",
              "    <g>\n",
              "        <path d=\"M19 3H5c-1.1 0-2 .9-2 2v14c0 1.1.9 2 2 2h14c1.1 0 2-.9 2-2V5c0-1.1-.9-2-2-2zM9 17H7v-7h2v7zm4 0h-2V7h2v10zm4 0h-2v-4h2v4z\"/>\n",
              "    </g>\n",
              "</svg>\n",
              "  </button>\n",
              "\n",
              "<style>\n",
              "  .colab-df-quickchart {\n",
              "      --bg-color: #E8F0FE;\n",
              "      --fill-color: #1967D2;\n",
              "      --hover-bg-color: #E2EBFA;\n",
              "      --hover-fill-color: #174EA6;\n",
              "      --disabled-fill-color: #AAA;\n",
              "      --disabled-bg-color: #DDD;\n",
              "  }\n",
              "\n",
              "  [theme=dark] .colab-df-quickchart {\n",
              "      --bg-color: #3B4455;\n",
              "      --fill-color: #D2E3FC;\n",
              "      --hover-bg-color: #434B5C;\n",
              "      --hover-fill-color: #FFFFFF;\n",
              "      --disabled-bg-color: #3B4455;\n",
              "      --disabled-fill-color: #666;\n",
              "  }\n",
              "\n",
              "  .colab-df-quickchart {\n",
              "    background-color: var(--bg-color);\n",
              "    border: none;\n",
              "    border-radius: 50%;\n",
              "    cursor: pointer;\n",
              "    display: none;\n",
              "    fill: var(--fill-color);\n",
              "    height: 32px;\n",
              "    padding: 0;\n",
              "    width: 32px;\n",
              "  }\n",
              "\n",
              "  .colab-df-quickchart:hover {\n",
              "    background-color: var(--hover-bg-color);\n",
              "    box-shadow: 0 1px 2px rgba(60, 64, 67, 0.3), 0 1px 3px 1px rgba(60, 64, 67, 0.15);\n",
              "    fill: var(--button-hover-fill-color);\n",
              "  }\n",
              "\n",
              "  .colab-df-quickchart-complete:disabled,\n",
              "  .colab-df-quickchart-complete:disabled:hover {\n",
              "    background-color: var(--disabled-bg-color);\n",
              "    fill: var(--disabled-fill-color);\n",
              "    box-shadow: none;\n",
              "  }\n",
              "\n",
              "  .colab-df-spinner {\n",
              "    border: 2px solid var(--fill-color);\n",
              "    border-color: transparent;\n",
              "    border-bottom-color: var(--fill-color);\n",
              "    animation:\n",
              "      spin 1s steps(1) infinite;\n",
              "  }\n",
              "\n",
              "  @keyframes spin {\n",
              "    0% {\n",
              "      border-color: transparent;\n",
              "      border-bottom-color: var(--fill-color);\n",
              "      border-left-color: var(--fill-color);\n",
              "    }\n",
              "    20% {\n",
              "      border-color: transparent;\n",
              "      border-left-color: var(--fill-color);\n",
              "      border-top-color: var(--fill-color);\n",
              "    }\n",
              "    30% {\n",
              "      border-color: transparent;\n",
              "      border-left-color: var(--fill-color);\n",
              "      border-top-color: var(--fill-color);\n",
              "      border-right-color: var(--fill-color);\n",
              "    }\n",
              "    40% {\n",
              "      border-color: transparent;\n",
              "      border-right-color: var(--fill-color);\n",
              "      border-top-color: var(--fill-color);\n",
              "    }\n",
              "    60% {\n",
              "      border-color: transparent;\n",
              "      border-right-color: var(--fill-color);\n",
              "    }\n",
              "    80% {\n",
              "      border-color: transparent;\n",
              "      border-right-color: var(--fill-color);\n",
              "      border-bottom-color: var(--fill-color);\n",
              "    }\n",
              "    90% {\n",
              "      border-color: transparent;\n",
              "      border-bottom-color: var(--fill-color);\n",
              "    }\n",
              "  }\n",
              "</style>\n",
              "\n",
              "  <script>\n",
              "    async function quickchart(key) {\n",
              "      const quickchartButtonEl =\n",
              "        document.querySelector('#' + key + ' button');\n",
              "      quickchartButtonEl.disabled = true;  // To prevent multiple clicks.\n",
              "      quickchartButtonEl.classList.add('colab-df-spinner');\n",
              "      try {\n",
              "        const charts = await google.colab.kernel.invokeFunction(\n",
              "            'suggestCharts', [key], {});\n",
              "      } catch (error) {\n",
              "        console.error('Error during call to suggestCharts:', error);\n",
              "      }\n",
              "      quickchartButtonEl.classList.remove('colab-df-spinner');\n",
              "      quickchartButtonEl.classList.add('colab-df-quickchart-complete');\n",
              "    }\n",
              "    (() => {\n",
              "      let quickchartButtonEl =\n",
              "        document.querySelector('#df-e2678a1a-e88d-4864-bfdb-f1a78ae670d2 button');\n",
              "      quickchartButtonEl.style.display =\n",
              "        google.colab.kernel.accessAllowed ? 'block' : 'none';\n",
              "    })();\n",
              "  </script>\n",
              "</div>\n",
              "    </div>\n",
              "  </div>\n"
            ]
          },
          "metadata": {},
          "execution_count": 79
        }
      ]
    },
    {
      "cell_type": "code",
      "source": [
        "df2.loc[df2['lead_paragraph'].str.contains(r'hezbollah', case = False, na = False)]"
      ],
      "metadata": {
        "colab": {
          "base_uri": "https://localhost:8080/",
          "height": 1000
        },
        "id": "nooHfn1NKAsa",
        "outputId": "81c0c00e-395c-4173-e32b-957a1a86aff3"
      },
      "execution_count": 87,
      "outputs": [
        {
          "output_type": "execute_result",
          "data": {
            "text/plain": [
              "                                                      uri  \\\n",
              "44366  nyt://article/ca20f735-f773-5840-a5a4-0ad90d49f2ec   \n",
              "45557  nyt://article/818767e8-69f0-550e-a113-421ef523ec46   \n",
              "\n",
              "                                                                                           web_url  \\\n",
              "44366       https://www.nytimes.com/2023/10/10/world/middleeast/israel-syria-lebanon-shelling.html   \n",
              "45557  https://www.nytimes.com/2023/10/19/world/middleeast/hezbollah-lebanon-israel-explained.html   \n",
              "\n",
              "                                                                                                                                                                               snippet  \\\n",
              "44366            Continued attacks on Israel’s northern border have deepened unease over the possibility that the conflict — already the broadest invasion in 50 years — could spread.   \n",
              "45557  For decades, Hezbollah has been a significant force in Lebanon, wielding both political power and military strength — all while engaging in tit-for-tat skirmishes with Israel.   \n",
              "\n",
              "                                                                                                                                                                                                                                                                                                                                                                                                                                         lead_paragraph  \\\n",
              "44366                                                                                                                                                      Shelling sounded out along Israel’s volatile northern border with Lebanon for a third consecutive day Tuesday, stoking fears on both sides of a repeat of 2006, when Israel fought a bloody monthlong war with Hezbollah, the Shiite group committed to the destruction of the Jewish state.   \n",
              "45557  As Israel prepares a possible ground invasion of Gaza to destroy Hamas, the Palestinian militant group that controls the enclave, many are now turning to see what action Hezbollah, the armed group on Israel’s northern border, will take. For decades, Hezbollah has been a significant force in Lebanon, wielding both political power and military strength — all while engaging in tit-for-tat skirmishes with its southern enemy, Israel.   \n",
              "\n",
              "                                                                                                                                                                                                                                                                                                                                                                                                                                                             keywords  \\\n",
              "44366                                                                                       [{'name': 'subject', 'value': 'Israel-Gaza War (2023- )', 'rank': 1, 'major': 'N'}, {'name': 'organizations', 'value': 'Hezbollah', 'rank': 2, 'major': 'N'}, {'name': 'glocations', 'value': 'Israel', 'rank': 3, 'major': 'N'}, {'name': 'glocations', 'value': 'Lebanon', 'rank': 4, 'major': 'N'}, {'name': 'glocations', 'value': 'Syria', 'rank': 5, 'major': 'N'}]   \n",
              "45557  [{'name': 'subject', 'value': 'Israel-Gaza War (2023- )', 'rank': 1, 'major': 'N'}, {'name': 'subject', 'value': 'War and Armed Conflicts', 'rank': 2, 'major': 'N'}, {'name': 'organizations', 'value': 'Hezbollah', 'rank': 3, 'major': 'N'}, {'name': 'organizations', 'value': 'Hamas', 'rank': 4, 'major': 'N'}, {'name': 'glocations', 'value': 'Lebanon', 'rank': 5, 'major': 'N'}, {'name': 'glocations', 'value': 'Israel', 'rank': 6, 'major': 'N'}]   \n",
              "\n",
              "         pub_date document_type news_desk section_name  \\\n",
              "44366  2023-10-10       article   Foreign        World   \n",
              "45557  2023-10-19       article   Foreign        World   \n",
              "\n",
              "                                                                                                                                    ents_extracted  \n",
              "44366      {('israel', 'GPE'): 2, ('lebanon', 'GPE'): 1, ('hezbollah', 'ORG'): 1, ('the shiite group committed', 'ORG'): 1, ('jewish', 'NORP'): 1}  \n",
              "45557  {('israel', 'GPE'): 3, ('gaza', 'GPE'): 1, ('hamas', 'GPE'): 1, ('palestinian', 'NORP'): 1, ('hezbollah', 'ORG'): 2, ('lebanon', 'GPE'): 1}  "
            ],
            "text/html": [
              "\n",
              "  <div id=\"df-ff118a33-b0f2-4336-9378-8bb0ff66f3a2\" class=\"colab-df-container\">\n",
              "    <div>\n",
              "<style scoped>\n",
              "    .dataframe tbody tr th:only-of-type {\n",
              "        vertical-align: middle;\n",
              "    }\n",
              "\n",
              "    .dataframe tbody tr th {\n",
              "        vertical-align: top;\n",
              "    }\n",
              "\n",
              "    .dataframe thead th {\n",
              "        text-align: right;\n",
              "    }\n",
              "</style>\n",
              "<table border=\"1\" class=\"dataframe\">\n",
              "  <thead>\n",
              "    <tr style=\"text-align: right;\">\n",
              "      <th></th>\n",
              "      <th>uri</th>\n",
              "      <th>web_url</th>\n",
              "      <th>snippet</th>\n",
              "      <th>lead_paragraph</th>\n",
              "      <th>keywords</th>\n",
              "      <th>pub_date</th>\n",
              "      <th>document_type</th>\n",
              "      <th>news_desk</th>\n",
              "      <th>section_name</th>\n",
              "      <th>ents_extracted</th>\n",
              "    </tr>\n",
              "  </thead>\n",
              "  <tbody>\n",
              "    <tr>\n",
              "      <th>44366</th>\n",
              "      <td>nyt://article/ca20f735-f773-5840-a5a4-0ad90d49f2ec</td>\n",
              "      <td>https://www.nytimes.com/2023/10/10/world/middleeast/israel-syria-lebanon-shelling.html</td>\n",
              "      <td>Continued attacks on Israel’s northern border have deepened unease over the possibility that the conflict — already the broadest invasion in 50 years — could spread.</td>\n",
              "      <td>Shelling sounded out along Israel’s volatile northern border with Lebanon for a third consecutive day Tuesday, stoking fears on both sides of a repeat of 2006, when Israel fought a bloody monthlong war with Hezbollah, the Shiite group committed to the destruction of the Jewish state.</td>\n",
              "      <td>[{'name': 'subject', 'value': 'Israel-Gaza War (2023- )', 'rank': 1, 'major': 'N'}, {'name': 'organizations', 'value': 'Hezbollah', 'rank': 2, 'major': 'N'}, {'name': 'glocations', 'value': 'Israel', 'rank': 3, 'major': 'N'}, {'name': 'glocations', 'value': 'Lebanon', 'rank': 4, 'major': 'N'}, {'name': 'glocations', 'value': 'Syria', 'rank': 5, 'major': 'N'}]</td>\n",
              "      <td>2023-10-10</td>\n",
              "      <td>article</td>\n",
              "      <td>Foreign</td>\n",
              "      <td>World</td>\n",
              "      <td>{('israel', 'GPE'): 2, ('lebanon', 'GPE'): 1, ('hezbollah', 'ORG'): 1, ('the shiite group committed', 'ORG'): 1, ('jewish', 'NORP'): 1}</td>\n",
              "    </tr>\n",
              "    <tr>\n",
              "      <th>45557</th>\n",
              "      <td>nyt://article/818767e8-69f0-550e-a113-421ef523ec46</td>\n",
              "      <td>https://www.nytimes.com/2023/10/19/world/middleeast/hezbollah-lebanon-israel-explained.html</td>\n",
              "      <td>For decades, Hezbollah has been a significant force in Lebanon, wielding both political power and military strength — all while engaging in tit-for-tat skirmishes with Israel.</td>\n",
              "      <td>As Israel prepares a possible ground invasion of Gaza to destroy Hamas, the Palestinian militant group that controls the enclave, many are now turning to see what action Hezbollah, the armed group on Israel’s northern border, will take. For decades, Hezbollah has been a significant force in Lebanon, wielding both political power and military strength — all while engaging in tit-for-tat skirmishes with its southern enemy, Israel.</td>\n",
              "      <td>[{'name': 'subject', 'value': 'Israel-Gaza War (2023- )', 'rank': 1, 'major': 'N'}, {'name': 'subject', 'value': 'War and Armed Conflicts', 'rank': 2, 'major': 'N'}, {'name': 'organizations', 'value': 'Hezbollah', 'rank': 3, 'major': 'N'}, {'name': 'organizations', 'value': 'Hamas', 'rank': 4, 'major': 'N'}, {'name': 'glocations', 'value': 'Lebanon', 'rank': 5, 'major': 'N'}, {'name': 'glocations', 'value': 'Israel', 'rank': 6, 'major': 'N'}]</td>\n",
              "      <td>2023-10-19</td>\n",
              "      <td>article</td>\n",
              "      <td>Foreign</td>\n",
              "      <td>World</td>\n",
              "      <td>{('israel', 'GPE'): 3, ('gaza', 'GPE'): 1, ('hamas', 'GPE'): 1, ('palestinian', 'NORP'): 1, ('hezbollah', 'ORG'): 2, ('lebanon', 'GPE'): 1}</td>\n",
              "    </tr>\n",
              "  </tbody>\n",
              "</table>\n",
              "</div>\n",
              "    <div class=\"colab-df-buttons\">\n",
              "\n",
              "  <div class=\"colab-df-container\">\n",
              "    <button class=\"colab-df-convert\" onclick=\"convertToInteractive('df-ff118a33-b0f2-4336-9378-8bb0ff66f3a2')\"\n",
              "            title=\"Convert this dataframe to an interactive table.\"\n",
              "            style=\"display:none;\">\n",
              "\n",
              "  <svg xmlns=\"http://www.w3.org/2000/svg\" height=\"24px\" viewBox=\"0 -960 960 960\">\n",
              "    <path d=\"M120-120v-720h720v720H120Zm60-500h600v-160H180v160Zm220 220h160v-160H400v160Zm0 220h160v-160H400v160ZM180-400h160v-160H180v160Zm440 0h160v-160H620v160ZM180-180h160v-160H180v160Zm440 0h160v-160H620v160Z\"/>\n",
              "  </svg>\n",
              "    </button>\n",
              "\n",
              "  <style>\n",
              "    .colab-df-container {\n",
              "      display:flex;\n",
              "      gap: 12px;\n",
              "    }\n",
              "\n",
              "    .colab-df-convert {\n",
              "      background-color: #E8F0FE;\n",
              "      border: none;\n",
              "      border-radius: 50%;\n",
              "      cursor: pointer;\n",
              "      display: none;\n",
              "      fill: #1967D2;\n",
              "      height: 32px;\n",
              "      padding: 0 0 0 0;\n",
              "      width: 32px;\n",
              "    }\n",
              "\n",
              "    .colab-df-convert:hover {\n",
              "      background-color: #E2EBFA;\n",
              "      box-shadow: 0px 1px 2px rgba(60, 64, 67, 0.3), 0px 1px 3px 1px rgba(60, 64, 67, 0.15);\n",
              "      fill: #174EA6;\n",
              "    }\n",
              "\n",
              "    .colab-df-buttons div {\n",
              "      margin-bottom: 4px;\n",
              "    }\n",
              "\n",
              "    [theme=dark] .colab-df-convert {\n",
              "      background-color: #3B4455;\n",
              "      fill: #D2E3FC;\n",
              "    }\n",
              "\n",
              "    [theme=dark] .colab-df-convert:hover {\n",
              "      background-color: #434B5C;\n",
              "      box-shadow: 0px 1px 3px 1px rgba(0, 0, 0, 0.15);\n",
              "      filter: drop-shadow(0px 1px 2px rgba(0, 0, 0, 0.3));\n",
              "      fill: #FFFFFF;\n",
              "    }\n",
              "  </style>\n",
              "\n",
              "    <script>\n",
              "      const buttonEl =\n",
              "        document.querySelector('#df-ff118a33-b0f2-4336-9378-8bb0ff66f3a2 button.colab-df-convert');\n",
              "      buttonEl.style.display =\n",
              "        google.colab.kernel.accessAllowed ? 'block' : 'none';\n",
              "\n",
              "      async function convertToInteractive(key) {\n",
              "        const element = document.querySelector('#df-ff118a33-b0f2-4336-9378-8bb0ff66f3a2');\n",
              "        const dataTable =\n",
              "          await google.colab.kernel.invokeFunction('convertToInteractive',\n",
              "                                                    [key], {});\n",
              "        if (!dataTable) return;\n",
              "\n",
              "        const docLinkHtml = 'Like what you see? Visit the ' +\n",
              "          '<a target=\"_blank\" href=https://colab.research.google.com/notebooks/data_table.ipynb>data table notebook</a>'\n",
              "          + ' to learn more about interactive tables.';\n",
              "        element.innerHTML = '';\n",
              "        dataTable['output_type'] = 'display_data';\n",
              "        await google.colab.output.renderOutput(dataTable, element);\n",
              "        const docLink = document.createElement('div');\n",
              "        docLink.innerHTML = docLinkHtml;\n",
              "        element.appendChild(docLink);\n",
              "      }\n",
              "    </script>\n",
              "  </div>\n",
              "\n",
              "\n",
              "<div id=\"df-15300ea3-ad0f-445f-b276-a9db28f52196\">\n",
              "  <button class=\"colab-df-quickchart\" onclick=\"quickchart('df-15300ea3-ad0f-445f-b276-a9db28f52196')\"\n",
              "            title=\"Suggest charts.\"\n",
              "            style=\"display:none;\">\n",
              "\n",
              "<svg xmlns=\"http://www.w3.org/2000/svg\" height=\"24px\"viewBox=\"0 0 24 24\"\n",
              "     width=\"24px\">\n",
              "    <g>\n",
              "        <path d=\"M19 3H5c-1.1 0-2 .9-2 2v14c0 1.1.9 2 2 2h14c1.1 0 2-.9 2-2V5c0-1.1-.9-2-2-2zM9 17H7v-7h2v7zm4 0h-2V7h2v10zm4 0h-2v-4h2v4z\"/>\n",
              "    </g>\n",
              "</svg>\n",
              "  </button>\n",
              "\n",
              "<style>\n",
              "  .colab-df-quickchart {\n",
              "      --bg-color: #E8F0FE;\n",
              "      --fill-color: #1967D2;\n",
              "      --hover-bg-color: #E2EBFA;\n",
              "      --hover-fill-color: #174EA6;\n",
              "      --disabled-fill-color: #AAA;\n",
              "      --disabled-bg-color: #DDD;\n",
              "  }\n",
              "\n",
              "  [theme=dark] .colab-df-quickchart {\n",
              "      --bg-color: #3B4455;\n",
              "      --fill-color: #D2E3FC;\n",
              "      --hover-bg-color: #434B5C;\n",
              "      --hover-fill-color: #FFFFFF;\n",
              "      --disabled-bg-color: #3B4455;\n",
              "      --disabled-fill-color: #666;\n",
              "  }\n",
              "\n",
              "  .colab-df-quickchart {\n",
              "    background-color: var(--bg-color);\n",
              "    border: none;\n",
              "    border-radius: 50%;\n",
              "    cursor: pointer;\n",
              "    display: none;\n",
              "    fill: var(--fill-color);\n",
              "    height: 32px;\n",
              "    padding: 0;\n",
              "    width: 32px;\n",
              "  }\n",
              "\n",
              "  .colab-df-quickchart:hover {\n",
              "    background-color: var(--hover-bg-color);\n",
              "    box-shadow: 0 1px 2px rgba(60, 64, 67, 0.3), 0 1px 3px 1px rgba(60, 64, 67, 0.15);\n",
              "    fill: var(--button-hover-fill-color);\n",
              "  }\n",
              "\n",
              "  .colab-df-quickchart-complete:disabled,\n",
              "  .colab-df-quickchart-complete:disabled:hover {\n",
              "    background-color: var(--disabled-bg-color);\n",
              "    fill: var(--disabled-fill-color);\n",
              "    box-shadow: none;\n",
              "  }\n",
              "\n",
              "  .colab-df-spinner {\n",
              "    border: 2px solid var(--fill-color);\n",
              "    border-color: transparent;\n",
              "    border-bottom-color: var(--fill-color);\n",
              "    animation:\n",
              "      spin 1s steps(1) infinite;\n",
              "  }\n",
              "\n",
              "  @keyframes spin {\n",
              "    0% {\n",
              "      border-color: transparent;\n",
              "      border-bottom-color: var(--fill-color);\n",
              "      border-left-color: var(--fill-color);\n",
              "    }\n",
              "    20% {\n",
              "      border-color: transparent;\n",
              "      border-left-color: var(--fill-color);\n",
              "      border-top-color: var(--fill-color);\n",
              "    }\n",
              "    30% {\n",
              "      border-color: transparent;\n",
              "      border-left-color: var(--fill-color);\n",
              "      border-top-color: var(--fill-color);\n",
              "      border-right-color: var(--fill-color);\n",
              "    }\n",
              "    40% {\n",
              "      border-color: transparent;\n",
              "      border-right-color: var(--fill-color);\n",
              "      border-top-color: var(--fill-color);\n",
              "    }\n",
              "    60% {\n",
              "      border-color: transparent;\n",
              "      border-right-color: var(--fill-color);\n",
              "    }\n",
              "    80% {\n",
              "      border-color: transparent;\n",
              "      border-right-color: var(--fill-color);\n",
              "      border-bottom-color: var(--fill-color);\n",
              "    }\n",
              "    90% {\n",
              "      border-color: transparent;\n",
              "      border-bottom-color: var(--fill-color);\n",
              "    }\n",
              "  }\n",
              "</style>\n",
              "\n",
              "  <script>\n",
              "    async function quickchart(key) {\n",
              "      const quickchartButtonEl =\n",
              "        document.querySelector('#' + key + ' button');\n",
              "      quickchartButtonEl.disabled = true;  // To prevent multiple clicks.\n",
              "      quickchartButtonEl.classList.add('colab-df-spinner');\n",
              "      try {\n",
              "        const charts = await google.colab.kernel.invokeFunction(\n",
              "            'suggestCharts', [key], {});\n",
              "      } catch (error) {\n",
              "        console.error('Error during call to suggestCharts:', error);\n",
              "      }\n",
              "      quickchartButtonEl.classList.remove('colab-df-spinner');\n",
              "      quickchartButtonEl.classList.add('colab-df-quickchart-complete');\n",
              "    }\n",
              "    (() => {\n",
              "      let quickchartButtonEl =\n",
              "        document.querySelector('#df-15300ea3-ad0f-445f-b276-a9db28f52196 button');\n",
              "      quickchartButtonEl.style.display =\n",
              "        google.colab.kernel.accessAllowed ? 'block' : 'none';\n",
              "    })();\n",
              "  </script>\n",
              "</div>\n",
              "    </div>\n",
              "  </div>\n"
            ]
          },
          "metadata": {},
          "execution_count": 87
        }
      ]
    },
    {
      "cell_type": "code",
      "source": [
        "df2.loc[df2['lead_paragraph'].str.contains(r'hezbollah', case = False, na = False)][['lead_paragraph', 'ents_extracted']].head()"
      ],
      "metadata": {
        "colab": {
          "base_uri": "https://localhost:8080/",
          "height": 247
        },
        "id": "dAKA7VtyGcPX",
        "outputId": "343e49f9-d300-4a4c-9fc1-5ea932b330d5"
      },
      "execution_count": 89,
      "outputs": [
        {
          "output_type": "execute_result",
          "data": {
            "text/plain": [
              "                                                                                                                                                                                                                                                                                                                                                                                                                                         lead_paragraph  \\\n",
              "44366                                                                                                                                                      Shelling sounded out along Israel’s volatile northern border with Lebanon for a third consecutive day Tuesday, stoking fears on both sides of a repeat of 2006, when Israel fought a bloody monthlong war with Hezbollah, the Shiite group committed to the destruction of the Jewish state.   \n",
              "45557  As Israel prepares a possible ground invasion of Gaza to destroy Hamas, the Palestinian militant group that controls the enclave, many are now turning to see what action Hezbollah, the armed group on Israel’s northern border, will take. For decades, Hezbollah has been a significant force in Lebanon, wielding both political power and military strength — all while engaging in tit-for-tat skirmishes with its southern enemy, Israel.   \n",
              "\n",
              "                                                                                                                                    ents_extracted  \n",
              "44366      {('israel', 'GPE'): 2, ('lebanon', 'GPE'): 1, ('hezbollah', 'ORG'): 1, ('the shiite group committed', 'ORG'): 1, ('jewish', 'NORP'): 1}  \n",
              "45557  {('israel', 'GPE'): 3, ('gaza', 'GPE'): 1, ('hamas', 'GPE'): 1, ('palestinian', 'NORP'): 1, ('hezbollah', 'ORG'): 2, ('lebanon', 'GPE'): 1}  "
            ],
            "text/html": [
              "\n",
              "  <div id=\"df-6be61ddf-5579-4e32-9932-4befdc3a029b\" class=\"colab-df-container\">\n",
              "    <div>\n",
              "<style scoped>\n",
              "    .dataframe tbody tr th:only-of-type {\n",
              "        vertical-align: middle;\n",
              "    }\n",
              "\n",
              "    .dataframe tbody tr th {\n",
              "        vertical-align: top;\n",
              "    }\n",
              "\n",
              "    .dataframe thead th {\n",
              "        text-align: right;\n",
              "    }\n",
              "</style>\n",
              "<table border=\"1\" class=\"dataframe\">\n",
              "  <thead>\n",
              "    <tr style=\"text-align: right;\">\n",
              "      <th></th>\n",
              "      <th>lead_paragraph</th>\n",
              "      <th>ents_extracted</th>\n",
              "    </tr>\n",
              "  </thead>\n",
              "  <tbody>\n",
              "    <tr>\n",
              "      <th>44366</th>\n",
              "      <td>Shelling sounded out along Israel’s volatile northern border with Lebanon for a third consecutive day Tuesday, stoking fears on both sides of a repeat of 2006, when Israel fought a bloody monthlong war with Hezbollah, the Shiite group committed to the destruction of the Jewish state.</td>\n",
              "      <td>{('israel', 'GPE'): 2, ('lebanon', 'GPE'): 1, ('hezbollah', 'ORG'): 1, ('the shiite group committed', 'ORG'): 1, ('jewish', 'NORP'): 1}</td>\n",
              "    </tr>\n",
              "    <tr>\n",
              "      <th>45557</th>\n",
              "      <td>As Israel prepares a possible ground invasion of Gaza to destroy Hamas, the Palestinian militant group that controls the enclave, many are now turning to see what action Hezbollah, the armed group on Israel’s northern border, will take. For decades, Hezbollah has been a significant force in Lebanon, wielding both political power and military strength — all while engaging in tit-for-tat skirmishes with its southern enemy, Israel.</td>\n",
              "      <td>{('israel', 'GPE'): 3, ('gaza', 'GPE'): 1, ('hamas', 'GPE'): 1, ('palestinian', 'NORP'): 1, ('hezbollah', 'ORG'): 2, ('lebanon', 'GPE'): 1}</td>\n",
              "    </tr>\n",
              "  </tbody>\n",
              "</table>\n",
              "</div>\n",
              "    <div class=\"colab-df-buttons\">\n",
              "\n",
              "  <div class=\"colab-df-container\">\n",
              "    <button class=\"colab-df-convert\" onclick=\"convertToInteractive('df-6be61ddf-5579-4e32-9932-4befdc3a029b')\"\n",
              "            title=\"Convert this dataframe to an interactive table.\"\n",
              "            style=\"display:none;\">\n",
              "\n",
              "  <svg xmlns=\"http://www.w3.org/2000/svg\" height=\"24px\" viewBox=\"0 -960 960 960\">\n",
              "    <path d=\"M120-120v-720h720v720H120Zm60-500h600v-160H180v160Zm220 220h160v-160H400v160Zm0 220h160v-160H400v160ZM180-400h160v-160H180v160Zm440 0h160v-160H620v160ZM180-180h160v-160H180v160Zm440 0h160v-160H620v160Z\"/>\n",
              "  </svg>\n",
              "    </button>\n",
              "\n",
              "  <style>\n",
              "    .colab-df-container {\n",
              "      display:flex;\n",
              "      gap: 12px;\n",
              "    }\n",
              "\n",
              "    .colab-df-convert {\n",
              "      background-color: #E8F0FE;\n",
              "      border: none;\n",
              "      border-radius: 50%;\n",
              "      cursor: pointer;\n",
              "      display: none;\n",
              "      fill: #1967D2;\n",
              "      height: 32px;\n",
              "      padding: 0 0 0 0;\n",
              "      width: 32px;\n",
              "    }\n",
              "\n",
              "    .colab-df-convert:hover {\n",
              "      background-color: #E2EBFA;\n",
              "      box-shadow: 0px 1px 2px rgba(60, 64, 67, 0.3), 0px 1px 3px 1px rgba(60, 64, 67, 0.15);\n",
              "      fill: #174EA6;\n",
              "    }\n",
              "\n",
              "    .colab-df-buttons div {\n",
              "      margin-bottom: 4px;\n",
              "    }\n",
              "\n",
              "    [theme=dark] .colab-df-convert {\n",
              "      background-color: #3B4455;\n",
              "      fill: #D2E3FC;\n",
              "    }\n",
              "\n",
              "    [theme=dark] .colab-df-convert:hover {\n",
              "      background-color: #434B5C;\n",
              "      box-shadow: 0px 1px 3px 1px rgba(0, 0, 0, 0.15);\n",
              "      filter: drop-shadow(0px 1px 2px rgba(0, 0, 0, 0.3));\n",
              "      fill: #FFFFFF;\n",
              "    }\n",
              "  </style>\n",
              "\n",
              "    <script>\n",
              "      const buttonEl =\n",
              "        document.querySelector('#df-6be61ddf-5579-4e32-9932-4befdc3a029b button.colab-df-convert');\n",
              "      buttonEl.style.display =\n",
              "        google.colab.kernel.accessAllowed ? 'block' : 'none';\n",
              "\n",
              "      async function convertToInteractive(key) {\n",
              "        const element = document.querySelector('#df-6be61ddf-5579-4e32-9932-4befdc3a029b');\n",
              "        const dataTable =\n",
              "          await google.colab.kernel.invokeFunction('convertToInteractive',\n",
              "                                                    [key], {});\n",
              "        if (!dataTable) return;\n",
              "\n",
              "        const docLinkHtml = 'Like what you see? Visit the ' +\n",
              "          '<a target=\"_blank\" href=https://colab.research.google.com/notebooks/data_table.ipynb>data table notebook</a>'\n",
              "          + ' to learn more about interactive tables.';\n",
              "        element.innerHTML = '';\n",
              "        dataTable['output_type'] = 'display_data';\n",
              "        await google.colab.output.renderOutput(dataTable, element);\n",
              "        const docLink = document.createElement('div');\n",
              "        docLink.innerHTML = docLinkHtml;\n",
              "        element.appendChild(docLink);\n",
              "      }\n",
              "    </script>\n",
              "  </div>\n",
              "\n",
              "\n",
              "<div id=\"df-eca5d002-4e30-4a4c-bd45-0502e85be216\">\n",
              "  <button class=\"colab-df-quickchart\" onclick=\"quickchart('df-eca5d002-4e30-4a4c-bd45-0502e85be216')\"\n",
              "            title=\"Suggest charts.\"\n",
              "            style=\"display:none;\">\n",
              "\n",
              "<svg xmlns=\"http://www.w3.org/2000/svg\" height=\"24px\"viewBox=\"0 0 24 24\"\n",
              "     width=\"24px\">\n",
              "    <g>\n",
              "        <path d=\"M19 3H5c-1.1 0-2 .9-2 2v14c0 1.1.9 2 2 2h14c1.1 0 2-.9 2-2V5c0-1.1-.9-2-2-2zM9 17H7v-7h2v7zm4 0h-2V7h2v10zm4 0h-2v-4h2v4z\"/>\n",
              "    </g>\n",
              "</svg>\n",
              "  </button>\n",
              "\n",
              "<style>\n",
              "  .colab-df-quickchart {\n",
              "      --bg-color: #E8F0FE;\n",
              "      --fill-color: #1967D2;\n",
              "      --hover-bg-color: #E2EBFA;\n",
              "      --hover-fill-color: #174EA6;\n",
              "      --disabled-fill-color: #AAA;\n",
              "      --disabled-bg-color: #DDD;\n",
              "  }\n",
              "\n",
              "  [theme=dark] .colab-df-quickchart {\n",
              "      --bg-color: #3B4455;\n",
              "      --fill-color: #D2E3FC;\n",
              "      --hover-bg-color: #434B5C;\n",
              "      --hover-fill-color: #FFFFFF;\n",
              "      --disabled-bg-color: #3B4455;\n",
              "      --disabled-fill-color: #666;\n",
              "  }\n",
              "\n",
              "  .colab-df-quickchart {\n",
              "    background-color: var(--bg-color);\n",
              "    border: none;\n",
              "    border-radius: 50%;\n",
              "    cursor: pointer;\n",
              "    display: none;\n",
              "    fill: var(--fill-color);\n",
              "    height: 32px;\n",
              "    padding: 0;\n",
              "    width: 32px;\n",
              "  }\n",
              "\n",
              "  .colab-df-quickchart:hover {\n",
              "    background-color: var(--hover-bg-color);\n",
              "    box-shadow: 0 1px 2px rgba(60, 64, 67, 0.3), 0 1px 3px 1px rgba(60, 64, 67, 0.15);\n",
              "    fill: var(--button-hover-fill-color);\n",
              "  }\n",
              "\n",
              "  .colab-df-quickchart-complete:disabled,\n",
              "  .colab-df-quickchart-complete:disabled:hover {\n",
              "    background-color: var(--disabled-bg-color);\n",
              "    fill: var(--disabled-fill-color);\n",
              "    box-shadow: none;\n",
              "  }\n",
              "\n",
              "  .colab-df-spinner {\n",
              "    border: 2px solid var(--fill-color);\n",
              "    border-color: transparent;\n",
              "    border-bottom-color: var(--fill-color);\n",
              "    animation:\n",
              "      spin 1s steps(1) infinite;\n",
              "  }\n",
              "\n",
              "  @keyframes spin {\n",
              "    0% {\n",
              "      border-color: transparent;\n",
              "      border-bottom-color: var(--fill-color);\n",
              "      border-left-color: var(--fill-color);\n",
              "    }\n",
              "    20% {\n",
              "      border-color: transparent;\n",
              "      border-left-color: var(--fill-color);\n",
              "      border-top-color: var(--fill-color);\n",
              "    }\n",
              "    30% {\n",
              "      border-color: transparent;\n",
              "      border-left-color: var(--fill-color);\n",
              "      border-top-color: var(--fill-color);\n",
              "      border-right-color: var(--fill-color);\n",
              "    }\n",
              "    40% {\n",
              "      border-color: transparent;\n",
              "      border-right-color: var(--fill-color);\n",
              "      border-top-color: var(--fill-color);\n",
              "    }\n",
              "    60% {\n",
              "      border-color: transparent;\n",
              "      border-right-color: var(--fill-color);\n",
              "    }\n",
              "    80% {\n",
              "      border-color: transparent;\n",
              "      border-right-color: var(--fill-color);\n",
              "      border-bottom-color: var(--fill-color);\n",
              "    }\n",
              "    90% {\n",
              "      border-color: transparent;\n",
              "      border-bottom-color: var(--fill-color);\n",
              "    }\n",
              "  }\n",
              "</style>\n",
              "\n",
              "  <script>\n",
              "    async function quickchart(key) {\n",
              "      const quickchartButtonEl =\n",
              "        document.querySelector('#' + key + ' button');\n",
              "      quickchartButtonEl.disabled = true;  // To prevent multiple clicks.\n",
              "      quickchartButtonEl.classList.add('colab-df-spinner');\n",
              "      try {\n",
              "        const charts = await google.colab.kernel.invokeFunction(\n",
              "            'suggestCharts', [key], {});\n",
              "      } catch (error) {\n",
              "        console.error('Error during call to suggestCharts:', error);\n",
              "      }\n",
              "      quickchartButtonEl.classList.remove('colab-df-spinner');\n",
              "      quickchartButtonEl.classList.add('colab-df-quickchart-complete');\n",
              "    }\n",
              "    (() => {\n",
              "      let quickchartButtonEl =\n",
              "        document.querySelector('#df-eca5d002-4e30-4a4c-bd45-0502e85be216 button');\n",
              "      quickchartButtonEl.style.display =\n",
              "        google.colab.kernel.accessAllowed ? 'block' : 'none';\n",
              "    })();\n",
              "  </script>\n",
              "</div>\n",
              "    </div>\n",
              "  </div>\n"
            ]
          },
          "metadata": {},
          "execution_count": 89
        }
      ]
    },
    {
      "cell_type": "code",
      "metadata": {
        "id": "FLudlXZ0FhOC"
      },
      "source": [
        "# dump list into a pickle file to load later as an option\n",
        "pkl_file = \"processed_article.pkl\"\n",
        "reuse_path = os.path.join(gpath, \"output\", pkl_file)"
      ],
      "execution_count": null,
      "outputs": []
    },
    {
      "cell_type": "code",
      "metadata": {
        "id": "Q_fES6ozV7Wu"
      },
      "source": [
        "# save pkl\n",
        "df.to_pickle(reuse_path)\n",
        "\n",
        "# output csv\n",
        "df.to_csv(os.path.join(gpath, \"output\")+'/processed_articles.csv', index = None)"
      ],
      "execution_count": null,
      "outputs": []
    },
    {
      "cell_type": "code",
      "metadata": {
        "id": "ulc85bS3FnDS"
      },
      "source": [
        "# load from resue path\n",
        "df = pd.read_pickle(reuse_path)"
      ],
      "execution_count": null,
      "outputs": []
    },
    {
      "cell_type": "code",
      "metadata": {
        "id": "VCwGMbAdVfr2"
      },
      "source": [
        "def percent_ents(ents):\n",
        "  new_ents=[]\n",
        "  total = sum([ent[1] for ent in ents])\n",
        "  for ent in ents:\n",
        "    percent=(ent[1])/total\n",
        "    new_ents.append([ent[0]]+[percent])\n",
        "  return new_ents\n",
        "\n",
        "def percent_ents2(ents):\n",
        "  new_ents = []\n",
        "  for ent in ents:\n",
        "    perc_total = round((ent[1]/sum([ent[1] for ent in ents])),2)\n",
        "    new_ents.append([ent[0]]+[perc_total])\n",
        "  return new_ents\n",
        "\n",
        "\n",
        "def limit_ents_orig(ents):\n",
        "  for i in ents:\n",
        "    if i[1] >=2:\n",
        "      return [i[0][0] for i in ents]\n",
        "\n",
        "def limit_ents(ents, thresh):\n",
        "  ents_limited = [] # initialize empty list\n",
        "  for ent in ents:\n",
        "    if ent[1] >= thresh:\n",
        "      ents_limited.append(ent[0])\n",
        "  return ents_limited\n",
        "\n",
        "\n",
        "def limit_ents2(ents):\n",
        "  for i in ents:\n",
        "    if i[1] >=.5:\n",
        "      return [i[0][0] for i in ents]\n",
        "\n",
        "def clean_ents_old(ents):\n",
        "  new_ents = []\n",
        "  for ent in ents:\n",
        "    changed_ents = [ent_dict.get(k,k) for k in ent[0]]\n",
        "    new_ents.append(changed_ents)\n",
        "  return new_ents\n",
        "\n",
        "def clean_ents(ents):\n",
        "  new_ents = []\n",
        "  for ent in ents:\n",
        "    changed_ents = [ent_dict.get(k,k) for k in ent[0]]\n",
        "    #changed_ents = ent[0][0]\n",
        "    new_ents.append(changed_ents[:1]+[ent[1]])\n",
        "  return new_ents\n",
        "\n",
        "def ents_consolidate(ents):\n",
        "  grp = {}\n",
        "  for inner in ents:\n",
        "    key = (inner[0]) # tuple is immutable and can be key\n",
        "    grp.setdefault(key,0) # create key if needed with value 0\n",
        "    grp[key]+=inner[1] # add value\n",
        "  list_out = [[k,grp[k]] for k in grp] # reassemble from dictionary\n",
        "  return list_out\n"
      ],
      "execution_count": null,
      "outputs": []
    },
    {
      "cell_type": "code",
      "metadata": {
        "colab": {
          "base_uri": "https://localhost:8080/"
        },
        "id": "klU2Lt7A3LQi",
        "outputId": "6d05a571-4a12-4c99-fef3-0e0e90ceefe5"
      },
      "source": [
        "# use function to calculate % of ents\n",
        "df['percent_ents'] = df['ents_extracted'].progress_apply(percent_ents)"
      ],
      "execution_count": null,
      "outputs": [
        {
          "output_type": "stream",
          "text": [
            "100%|██████████| 4542/4542 [00:00<00:00, 218351.68it/s]\n"
          ],
          "name": "stderr"
        }
      ]
    },
    {
      "cell_type": "code",
      "metadata": {
        "colab": {
          "base_uri": "https://localhost:8080/"
        },
        "id": "11fSbsiIhEmo",
        "outputId": "577e4f75-64e5-4fbc-ab09-b2a5afd51c8e"
      },
      "source": [
        "# use function to resolve ents (e.g., China, Chinese)\n",
        "df['ents_cleaned'] = df['percent_ents'].progress_apply(clean_ents)"
      ],
      "execution_count": null,
      "outputs": [
        {
          "output_type": "stream",
          "text": [
            "100%|██████████| 4542/4542 [00:00<00:00, 146964.20it/s]\n"
          ],
          "name": "stderr"
        }
      ]
    },
    {
      "cell_type": "code",
      "metadata": {
        "colab": {
          "base_uri": "https://localhost:8080/"
        },
        "id": "O5oi-jXtWfju",
        "outputId": "9e60439b-3335-4515-e1b7-e8ab9cab2ea1"
      },
      "source": [
        "# use function to consolidate ents that were extracted multiple times\n",
        "df['ents_consolidated'] = df['ents_cleaned'].progress_apply(ents_consolidate)"
      ],
      "execution_count": null,
      "outputs": [
        {
          "output_type": "stream",
          "text": [
            "100%|██████████| 4542/4542 [00:00<00:00, 160788.38it/s]\n"
          ],
          "name": "stderr"
        }
      ]
    },
    {
      "cell_type": "code",
      "metadata": {
        "colab": {
          "base_uri": "https://localhost:8080/"
        },
        "id": "N2MJCMuSCZ5k",
        "outputId": "424efe78-4fff-43d0-8057-f48387402c1c"
      },
      "source": [
        "df['ents_limited'] = df['ents_consolidated'].progress_apply(limit_ents, thresh = .20)"
      ],
      "execution_count": null,
      "outputs": [
        {
          "output_type": "stream",
          "text": [
            "100%|██████████| 4542/4542 [00:00<00:00, 232601.51it/s]\n"
          ],
          "name": "stderr"
        }
      ]
    },
    {
      "cell_type": "code",
      "metadata": {
        "colab": {
          "base_uri": "https://localhost:8080/"
        },
        "id": "ga38ugQFDaQI",
        "outputId": "cc16728d-6276-4d4e-d79f-1b02b6eb94cd"
      },
      "source": [
        "# check calcs\n",
        "print(df.iloc[3]['ents_extracted'])\n",
        "print(df.iloc[3]['percent_ents'])\n",
        "print(df.iloc[3]['ents_cleaned'])\n",
        "print(df.iloc[3]['ents_consolidated'])\n",
        "print(df.iloc[3]['ents_limited'])"
      ],
      "execution_count": null,
      "outputs": [
        {
          "output_type": "stream",
          "text": [
            "[(('american', 'NORP'), 3), (('baghdad', 'GPE'), 2), (('pro-iranian', 'NORP'), 1), (('iraqi', 'NORP'), 1), (('iraq', 'GPE'), 1)]\n",
            "[[('american', 'NORP'), 0.375], [('baghdad', 'GPE'), 0.25], [('pro-iranian', 'NORP'), 0.125], [('iraqi', 'NORP'), 0.125], [('iraq', 'GPE'), 0.125]]\n",
            "[['united states', 0.375], ['iraq', 0.25], ['pro-iranian', 0.125], ['iraq', 0.125], ['iraq', 0.125]]\n",
            "[['united states', 0.375], ['iraq', 0.5], ['pro-iranian', 0.125]]\n",
            "['united states', 'iraq']\n"
          ],
          "name": "stdout"
        }
      ]
    },
    {
      "cell_type": "code",
      "metadata": {
        "id": "YL25BxYMFMx8"
      },
      "source": [
        "df['tgt_ents'] = df['ents_limited'].apply(extract_tgt_ents)"
      ],
      "execution_count": null,
      "outputs": []
    },
    {
      "cell_type": "code",
      "metadata": {
        "colab": {
          "base_uri": "https://localhost:8080/"
        },
        "id": "hN3URJTkFcE1",
        "outputId": "11ac1d96-be49-440c-dfb1-8b020bb5d9d3"
      },
      "source": [
        "# check calcs\n",
        "n = 748\n",
        "print(df.iloc[n]['ents_extracted'])\n",
        "print(df.iloc[n]['percent_ents'])\n",
        "print(df.iloc[n]['ents_cleaned'])\n",
        "print(df.iloc[n]['ents_consolidated'])\n",
        "print(df.iloc[n]['ents_limited'])\n",
        "print(df.iloc[n]['tgt_ents'])"
      ],
      "execution_count": null,
      "outputs": [
        {
          "output_type": "stream",
          "text": [
            "[(('hong kong', 'GPE'), 2), (('china', 'GPE'), 2), (('swedish', 'NORP'), 2), (('chinese', 'NORP'), 2)]\n",
            "[[('hong kong', 'GPE'), 0.25], [('china', 'GPE'), 0.25], [('swedish', 'NORP'), 0.25], [('chinese', 'NORP'), 0.25]]\n",
            "[['hong kong', 0.25], ['china', 0.25], ['sweden', 0.25], ['china', 0.25]]\n",
            "[['hong kong', 0.25], ['china', 0.5], ['sweden', 0.25]]\n",
            "['hong kong', 'china', 'sweden']\n",
            "['china']\n"
          ],
          "name": "stdout"
        }
      ]
    },
    {
      "cell_type": "code",
      "metadata": {
        "id": "fh7YXxcpHTMk"
      },
      "source": [
        "# make boolean col; somewhat of unecessary but at least it's there\n",
        "df['tgt_ents_contain_china'] = df['tgt_ents'].apply(lambda x: any(i == 'china' for i in x))"
      ],
      "execution_count": null,
      "outputs": []
    },
    {
      "cell_type": "code",
      "metadata": {
        "id": "2yEQE8ZFH1z5"
      },
      "source": [
        "# filter for contains china = True\n",
        "df1 = df.loc[df['tgt_ents_contain_china']==True].copy()"
      ],
      "execution_count": null,
      "outputs": []
    },
    {
      "cell_type": "code",
      "metadata": {
        "colab": {
          "base_uri": "https://localhost:8080/"
        },
        "id": "2BqTdzRemTQQ",
        "outputId": "905a35f4-d66b-4288-f5a4-943d71b5b653"
      },
      "source": [
        "print(\"No. of records where tgt ents contain China: \",len(df1))"
      ],
      "execution_count": null,
      "outputs": [
        {
          "output_type": "stream",
          "text": [
            "No. of records where tgt ents contain China:  460\n"
          ],
          "name": "stdout"
        }
      ]
    },
    {
      "cell_type": "code",
      "metadata": {
        "id": "F_2wOzN3ml-W"
      },
      "source": [
        "# funcs to help with calcs\n",
        "\n",
        "def compare(lst, s):\n",
        "  if s in lst:\n",
        "    return(True)\n",
        "  else:\n",
        "    return(False)\n",
        "\n",
        "def calcs(df):\n",
        "  # number of rows where China is in tgt_ents_contain_china and keywords\n",
        "  df1['kwds_contain_China'] = df1['keywords_'].apply(compare, s = 'China')\n",
        "  df2 = df1.loc[df1['kwds_contain_China']==True].copy()\n",
        "  df3 = df1.loc[df1['kwds_contain_China']==False].copy()\n",
        "  print(\"No. of records where tgt ents contain China: \",len(df1))\n",
        "  print(\"No. of records where China is in keywords and tgt_extracted_ents: \", len(df2))\n",
        "  print(\"No. of records where China is not in keywords and tgt_extracted_ents: \", len(df3))\n",
        "  print(\"% increase in China-related production not based on country metadata: \", 100*round((len(df1)-len(df2))/len(df1),2))"
      ],
      "execution_count": null,
      "outputs": []
    },
    {
      "cell_type": "code",
      "metadata": {
        "colab": {
          "base_uri": "https://localhost:8080/"
        },
        "id": "vFqdLk_VpH97",
        "outputId": "71a5e4a9-61b7-4132-e5d8-a559e5015cd2"
      },
      "source": [
        "calcs(df1)"
      ],
      "execution_count": null,
      "outputs": [
        {
          "output_type": "stream",
          "text": [
            "No. of records where tgt ents contain China:  460\n",
            "No. of records where China is in keywords and tgt_extracted_ents:  349\n",
            "No. of records where China is not in keywords and tgt_extracted_ents:  111\n",
            "% increase in China-related production not based on country metadata:  24.0\n"
          ],
          "name": "stdout"
        }
      ]
    },
    {
      "cell_type": "code",
      "metadata": {
        "colab": {
          "base_uri": "https://localhost:8080/",
          "height": 1000
        },
        "id": "KSATptCbkkGm",
        "outputId": "da74255a-aa4f-4ba4-cf63-77b3a19b0d38"
      },
      "source": [
        "df1.head()"
      ],
      "execution_count": null,
      "outputs": [
        {
          "output_type": "execute_result",
          "data": {
            "text/html": [
              "<div>\n",
              "<style scoped>\n",
              "    .dataframe tbody tr th:only-of-type {\n",
              "        vertical-align: middle;\n",
              "    }\n",
              "\n",
              "    .dataframe tbody tr th {\n",
              "        vertical-align: top;\n",
              "    }\n",
              "\n",
              "    .dataframe thead th {\n",
              "        text-align: right;\n",
              "    }\n",
              "</style>\n",
              "<table border=\"1\" class=\"dataframe\">\n",
              "  <thead>\n",
              "    <tr style=\"text-align: right;\">\n",
              "      <th></th>\n",
              "      <th>_id</th>\n",
              "      <th>word_count</th>\n",
              "      <th>pub_date</th>\n",
              "      <th>lead_paragraph</th>\n",
              "      <th>snippet</th>\n",
              "      <th>keywords</th>\n",
              "      <th>merged_text</th>\n",
              "      <th>keywords_</th>\n",
              "      <th>ents_extracted</th>\n",
              "      <th>percent_ents</th>\n",
              "      <th>ents_cleaned</th>\n",
              "      <th>ents_consolidated</th>\n",
              "      <th>ents_limited</th>\n",
              "      <th>tgt_ents</th>\n",
              "      <th>tgt_ents_contain_china</th>\n",
              "    </tr>\n",
              "  </thead>\n",
              "  <tbody>\n",
              "    <tr>\n",
              "      <th>412</th>\n",
              "      <td>nyt://article/51dbcda3-c99e-54b0-b531-8f08852dd868</td>\n",
              "      <td>815</td>\n",
              "      <td>2020-01-04T13:30:04+0000</td>\n",
              "      <td>BEIJING — The Chinese government abruptly replaced its top representative in Hong Kong on Saturday evening, installing a senior Communist Party official with a record of difficult assignments in inland provinces that involved working closely with the security services.</td>\n",
              "      <td>After months of protests and an electoral defeat for pro-Beijing political parties, an official with a record of difficult assignments is on the way.</td>\n",
              "      <td>[{'name': 'glocations', 'value': 'Hong Kong', 'rank': 1, 'major': 'N'}, {'name': 'glocations', 'value': 'China', 'rank': 2, 'major': 'N'}, {'name': 'persons', 'value': 'Wang Zhimin', 'rank': 3, 'major': 'N'}, {'name': 'persons', 'value': 'Luo Huining', 'rank': 4, 'major': 'N'}, {'name': 'subject', 'value': 'Politics and Government', 'rank': 5, 'major': 'N'}, {'name': 'organizations', 'value': 'Communist Party of China', 'rank': 6, 'major': 'N'}, {'name': 'subject', 'value': 'Appointments and...</td>\n",
              "      <td>BEIJING — The Chinese government abruptly replaced its top representative in Hong Kong on Saturday evening, installing a senior Communist Party official with a record of difficult assignments in inland provinces that involved working closely with the security services.After months of protests and an electoral defeat for pro-Beijing political parties, an official with a record of difficult assignments is on the way.</td>\n",
              "      <td>[Hong Kong, China, Wang Zhimin, Luo Huining, Politics and Government, Communist Party of China, Appointments and Executive Changes, Hong Kong Protests (2019)]</td>\n",
              "      <td>[((beijing, GPE), 1), ((chinese, NORP), 1), ((hong kong, GPE), 1)]</td>\n",
              "      <td>[[(beijing, GPE), 0.3333333333333333], [(chinese, NORP), 0.3333333333333333], [(hong kong, GPE), 0.3333333333333333]]</td>\n",
              "      <td>[[china, 0.3333333333333333], [china, 0.3333333333333333], [hong kong, 0.3333333333333333]]</td>\n",
              "      <td>[[china, 0.6666666666666666], [hong kong, 0.3333333333333333]]</td>\n",
              "      <td>[china, hong kong]</td>\n",
              "      <td>[china]</td>\n",
              "      <td>True</td>\n",
              "    </tr>\n",
              "    <tr>\n",
              "      <th>609</th>\n",
              "      <td>nyt://article/1d368b31-8145-5fa7-b313-ca3b3e742cc9</td>\n",
              "      <td>985</td>\n",
              "      <td>2020-01-06T17:14:52+0000</td>\n",
              "      <td>BEIJING — For days, Li Bin had what felt like a cold, with a high fever of between 102 and 105, and he could not understand why he wasn’t getting better.</td>\n",
              "      <td>Beijing is racing to identify a new illness that has sickened 59 people as it tries to calm a nervous public.</td>\n",
              "      <td>[{'name': 'subject', 'value': 'Respiratory Diseases', 'rank': 1, 'major': 'N'}, {'name': 'subject', 'value': 'Epidemics', 'rank': 2, 'major': 'N'}, {'name': 'subject', 'value': 'Pneumonia', 'rank': 3, 'major': 'N'}, {'name': 'glocations', 'value': 'China', 'rank': 4, 'major': 'N'}, {'name': 'glocations', 'value': 'Hong Kong', 'rank': 5, 'major': 'N'}, {'name': 'glocations', 'value': 'Singapore', 'rank': 6, 'major': 'N'}, {'name': 'glocations', 'value': 'Wuhan (China)', 'rank': 7, 'major': 'N'}]</td>\n",
              "      <td>BEIJING — For days, Li Bin had what felt like a cold, with a high fever of between 102 and 105, and he could not understand why he wasn’t getting better. Beijing is racing to identify a new illness that has sickened 59 people as it tries to calm a nervous public.</td>\n",
              "      <td>[Respiratory Diseases, Epidemics, Pneumonia, China, Hong Kong, Singapore, Wuhan (China)]</td>\n",
              "      <td>[((beijing, GPE), 2)]</td>\n",
              "      <td>[[(beijing, GPE), 1.0]]</td>\n",
              "      <td>[[china, 1.0]]</td>\n",
              "      <td>[[china, 1.0]]</td>\n",
              "      <td>[china]</td>\n",
              "      <td>[china]</td>\n",
              "      <td>True</td>\n",
              "    </tr>\n",
              "    <tr>\n",
              "      <th>829</th>\n",
              "      <td>nyt://article/4512f341-2edf-5dfb-a6e3-64c1c2aff950</td>\n",
              "      <td>993</td>\n",
              "      <td>2020-01-08T01:05:30+0000</td>\n",
              "      <td>The lurid court testimony riveted Canada: A Chinese immigrant shot dead his brash, womanizing, millionaire relative at his $8 million hillside mansion in Vancouver, and then chopped up the body into 108 pieces before taking a long nap.</td>\n",
              "      <td>After a trial that took more than two years, Zhao Li, who killed his millionaire cousin and then chopped up the body, was found guilty of manslaughter.</td>\n",
              "      <td>[{'name': 'subject', 'value': 'Murders, Attempted Murders and Homicides', 'rank': 1, 'major': 'N'}, {'name': 'persons', 'value': 'Yuan Gang', 'rank': 2, 'major': 'N'}, {'name': 'persons', 'value': 'Zhao Li', 'rank': 3, 'major': 'N'}, {'name': 'glocations', 'value': 'British Columbia (Canada)', 'rank': 4, 'major': 'N'}, {'name': 'glocations', 'value': 'Vancouver (British Columbia)', 'rank': 5, 'major': 'N'}]</td>\n",
              "      <td>The lurid court testimony riveted Canada: A Chinese immigrant shot dead his brash, womanizing, millionaire relative at his $8 million hillside mansion in Vancouver, and then chopped up the body into 108 pieces before taking a long nap.After a trial that took more than two years, Zhao Li, who killed his millionaire cousin and then chopped up the body, was found guilty of manslaughter.</td>\n",
              "      <td>[Murders, Attempted Murders and Homicides, Yuan Gang, Zhao Li, British Columbia (Canada), Vancouver (British Columbia)]</td>\n",
              "      <td>[((canada, GPE), 1), ((chinese, NORP), 1), ((vancouver, GPE), 1)]</td>\n",
              "      <td>[[(canada, GPE), 0.3333333333333333], [(chinese, NORP), 0.3333333333333333], [(vancouver, GPE), 0.3333333333333333]]</td>\n",
              "      <td>[[canada, 0.3333333333333333], [china, 0.3333333333333333], [vancouver, 0.3333333333333333]]</td>\n",
              "      <td>[[canada, 0.3333333333333333], [china, 0.3333333333333333], [vancouver, 0.3333333333333333]]</td>\n",
              "      <td>[canada, china, vancouver]</td>\n",
              "      <td>[china]</td>\n",
              "      <td>True</td>\n",
              "    </tr>\n",
              "    <tr>\n",
              "      <th>884</th>\n",
              "      <td>nyt://article/76b4d7d8-3809-53d7-aa46-602629104ccd</td>\n",
              "      <td>1148</td>\n",
              "      <td>2020-01-08T10:00:28+0000</td>\n",
              "      <td>NANHU LAKE, China — He was anxious about China’s trade war with the United States. He was worried about the rise of pro-democracy activists in Hong Kong. So Liu Yuanrong, a lifelong member of the Chinese Communist Party, followed the advice of a friend: Go to the lake.</td>\n",
              "      <td>Some come to seek an emotional lift, others to sing patriotic tunes. But they all raise a fist and say an oath, a rite meant to show China’s strength in the 21st century.</td>\n",
              "      <td>[{'name': 'glocations', 'value': 'China', 'rank': 1, 'major': 'N'}, {'name': 'persons', 'value': 'Xi Jinping', 'rank': 2, 'major': 'N'}, {'name': 'organizations', 'value': 'Communist Party of China', 'rank': 3, 'major': 'N'}, {'name': 'organizations', 'value': 'Politburo Standing Committee of the Communist Party of China', 'rank': 4, 'major': 'N'}, {'name': 'persons', 'value': 'Mao Zedong', 'rank': 5, 'major': 'N'}, {'name': 'subject', 'value': 'Museums', 'rank': 6, 'major': 'N'}, {'name': '...</td>\n",
              "      <td>NANHU LAKE, China — He was anxious about China’s trade war with the United States. He was worried about the rise of pro-democracy activists in Hong Kong. So Liu Yuanrong, a lifelong member of the Chinese Communist Party, followed the advice of a friend: Go to the lake.Some come to seek an emotional lift, others to sing patriotic tunes. But they all raise a fist and say an oath, a rite meant to show China’s strength in the 21st century.</td>\n",
              "      <td>[China, Xi Jinping, Communist Party of China, Politburo Standing Committee of the Communist Party of China, Mao Zedong, Museums, Economic Conditions and Trends, Lakes]</td>\n",
              "      <td>[((china, GPE), 3), ((the united states, GPE), 1), ((hong kong, GPE), 1)]</td>\n",
              "      <td>[[(china, GPE), 0.6], [(the united states, GPE), 0.2], [(hong kong, GPE), 0.2]]</td>\n",
              "      <td>[[china, 0.6], [the united states, 0.2], [hong kong, 0.2]]</td>\n",
              "      <td>[[china, 0.6], [the united states, 0.2], [hong kong, 0.2]]</td>\n",
              "      <td>[china, the united states, hong kong]</td>\n",
              "      <td>[china]</td>\n",
              "      <td>True</td>\n",
              "    </tr>\n",
              "    <tr>\n",
              "      <th>1113</th>\n",
              "      <td>nyt://article/515654ee-243b-5e74-9be7-dafc0611e70b</td>\n",
              "      <td>1364</td>\n",
              "      <td>2020-01-09T21:05:09+0000</td>\n",
              "      <td>WASHINGTON — When Secretary of State Mike Pompeo gave a news conference this week in which he justified President Trump’s order to kill Iran’s most powerful general, he also took the opportunity to criticize China twice: for its mass detentions of Muslims and for its repressive policies in Hong Kong.</td>\n",
              "      <td>President Trump’s use of military force against Iran gives Beijing ammunition to highlight failures of American policy, even as the Communist Party represses Muslims in China.</td>\n",
              "      <td>[{'name': 'subject', 'value': 'Muslims and Islam', 'rank': 1, 'major': 'N'}, {'name': 'subject', 'value': 'Uighurs (Chinese Ethnic Group)', 'rank': 2, 'major': 'N'}, {'name': 'subject', 'value': 'Hong Kong Protests (2019)', 'rank': 3, 'major': 'N'}, {'name': 'persons', 'value': 'Xi Jinping', 'rank': 4, 'major': 'N'}, {'name': 'persons', 'value': 'Pompeo, Mike', 'rank': 5, 'major': 'N'}, {'name': 'persons', 'value': 'Rubio, Marco', 'rank': 6, 'major': 'N'}, {'name': 'persons', 'value': 'Sulei...</td>\n",
              "      <td>WASHINGTON — When Secretary of State Mike Pompeo gave a news conference this week in which he justified President Trump’s order to kill Iran’s most powerful general, he also took the opportunity to criticize China twice: for its mass detentions of Muslims and for its repressive policies in Hong Kong.President Trump’s use of military force against Iran gives Beijing ammunition to highlight failures of American policy, even as the Communist Party represses Muslims in China.</td>\n",
              "      <td>[Muslims and Islam, Uighurs (Chinese Ethnic Group), Hong Kong Protests (2019), Xi Jinping, Pompeo, Mike, Rubio, Marco, Suleimani, Qassim, Trump, Donald J, Iran, Middle East, Human Rights and Human Rights Violations, United States International Relations, United States Politics and Government]</td>\n",
              "      <td>[((iran, GPE), 2), ((china, GPE), 2), ((muslims, NORP), 2), ((washington, GPE), 1), ((hong, GPE), 1), ((beijing, GPE), 1), ((american, NORP), 1)]</td>\n",
              "      <td>[[(iran, GPE), 0.2], [(china, GPE), 0.2], [(muslims, NORP), 0.2], [(washington, GPE), 0.1], [(hong, GPE), 0.1], [(beijing, GPE), 0.1], [(american, NORP), 0.1]]</td>\n",
              "      <td>[[iran, 0.2], [china, 0.2], [muslims, 0.2], [washington, 0.1], [hong, 0.1], [china, 0.1], [united states, 0.1]]</td>\n",
              "      <td>[[iran, 0.2], [china, 0.30000000000000004], [muslims, 0.2], [washington, 0.1], [hong, 0.1], [united states, 0.1]]</td>\n",
              "      <td>[iran, china, muslims]</td>\n",
              "      <td>[china]</td>\n",
              "      <td>True</td>\n",
              "    </tr>\n",
              "  </tbody>\n",
              "</table>\n",
              "</div>"
            ],
            "text/plain": [
              "                                                     _id  word_count  \\\n",
              "412   nyt://article/51dbcda3-c99e-54b0-b531-8f08852dd868         815   \n",
              "609   nyt://article/1d368b31-8145-5fa7-b313-ca3b3e742cc9         985   \n",
              "829   nyt://article/4512f341-2edf-5dfb-a6e3-64c1c2aff950         993   \n",
              "884   nyt://article/76b4d7d8-3809-53d7-aa46-602629104ccd        1148   \n",
              "1113  nyt://article/515654ee-243b-5e74-9be7-dafc0611e70b        1364   \n",
              "\n",
              "                      pub_date  \\\n",
              "412   2020-01-04T13:30:04+0000   \n",
              "609   2020-01-06T17:14:52+0000   \n",
              "829   2020-01-08T01:05:30+0000   \n",
              "884   2020-01-08T10:00:28+0000   \n",
              "1113  2020-01-09T21:05:09+0000   \n",
              "\n",
              "                                                                                                                                                                                                                                                                                                     lead_paragraph  \\\n",
              "412                                   BEIJING — The Chinese government abruptly replaced its top representative in Hong Kong on Saturday evening, installing a senior Communist Party official with a record of difficult assignments in inland provinces that involved working closely with the security services.   \n",
              "609                                                                                                                                                      BEIJING — For days, Li Bin had what felt like a cold, with a high fever of between 102 and 105, and he could not understand why he wasn’t getting better.    \n",
              "829                                                                     The lurid court testimony riveted Canada: A Chinese immigrant shot dead his brash, womanizing, millionaire relative at his $8 million hillside mansion in Vancouver, and then chopped up the body into 108 pieces before taking a long nap.   \n",
              "884                                   NANHU LAKE, China — He was anxious about China’s trade war with the United States. He was worried about the rise of pro-democracy activists in Hong Kong. So Liu Yuanrong, a lifelong member of the Chinese Communist Party, followed the advice of a friend: Go to the lake.   \n",
              "1113  WASHINGTON — When Secretary of State Mike Pompeo gave a news conference this week in which he justified President Trump’s order to kill Iran’s most powerful general, he also took the opportunity to criticize China twice: for its mass detentions of Muslims and for its repressive policies in Hong Kong.   \n",
              "\n",
              "                                                                                                                                                                              snippet  \\\n",
              "412                             After months of protests and an electoral defeat for pro-Beijing political parties, an official with a record of difficult assignments is on the way.   \n",
              "609                                                                     Beijing is racing to identify a new illness that has sickened 59 people as it tries to calm a nervous public.   \n",
              "829                           After a trial that took more than two years, Zhao Li, who killed his millionaire cousin and then chopped up the body, was found guilty of manslaughter.   \n",
              "884        Some come to seek an emotional lift, others to sing patriotic tunes. But they all raise a fist and say an oath, a rite meant to show China’s strength in the 21st century.   \n",
              "1113  President Trump’s use of military force against Iran gives Beijing ammunition to highlight failures of American policy, even as the Communist Party represses Muslims in China.   \n",
              "\n",
              "                                                                                                                                                                                                                                                                                                                                                                                                                                                                                                                 keywords  \\\n",
              "412   [{'name': 'glocations', 'value': 'Hong Kong', 'rank': 1, 'major': 'N'}, {'name': 'glocations', 'value': 'China', 'rank': 2, 'major': 'N'}, {'name': 'persons', 'value': 'Wang Zhimin', 'rank': 3, 'major': 'N'}, {'name': 'persons', 'value': 'Luo Huining', 'rank': 4, 'major': 'N'}, {'name': 'subject', 'value': 'Politics and Government', 'rank': 5, 'major': 'N'}, {'name': 'organizations', 'value': 'Communist Party of China', 'rank': 6, 'major': 'N'}, {'name': 'subject', 'value': 'Appointments and...   \n",
              "609   [{'name': 'subject', 'value': 'Respiratory Diseases', 'rank': 1, 'major': 'N'}, {'name': 'subject', 'value': 'Epidemics', 'rank': 2, 'major': 'N'}, {'name': 'subject', 'value': 'Pneumonia', 'rank': 3, 'major': 'N'}, {'name': 'glocations', 'value': 'China', 'rank': 4, 'major': 'N'}, {'name': 'glocations', 'value': 'Hong Kong', 'rank': 5, 'major': 'N'}, {'name': 'glocations', 'value': 'Singapore', 'rank': 6, 'major': 'N'}, {'name': 'glocations', 'value': 'Wuhan (China)', 'rank': 7, 'major': 'N'}]   \n",
              "829                                                                                            [{'name': 'subject', 'value': 'Murders, Attempted Murders and Homicides', 'rank': 1, 'major': 'N'}, {'name': 'persons', 'value': 'Yuan Gang', 'rank': 2, 'major': 'N'}, {'name': 'persons', 'value': 'Zhao Li', 'rank': 3, 'major': 'N'}, {'name': 'glocations', 'value': 'British Columbia (Canada)', 'rank': 4, 'major': 'N'}, {'name': 'glocations', 'value': 'Vancouver (British Columbia)', 'rank': 5, 'major': 'N'}]   \n",
              "884   [{'name': 'glocations', 'value': 'China', 'rank': 1, 'major': 'N'}, {'name': 'persons', 'value': 'Xi Jinping', 'rank': 2, 'major': 'N'}, {'name': 'organizations', 'value': 'Communist Party of China', 'rank': 3, 'major': 'N'}, {'name': 'organizations', 'value': 'Politburo Standing Committee of the Communist Party of China', 'rank': 4, 'major': 'N'}, {'name': 'persons', 'value': 'Mao Zedong', 'rank': 5, 'major': 'N'}, {'name': 'subject', 'value': 'Museums', 'rank': 6, 'major': 'N'}, {'name': '...   \n",
              "1113  [{'name': 'subject', 'value': 'Muslims and Islam', 'rank': 1, 'major': 'N'}, {'name': 'subject', 'value': 'Uighurs (Chinese Ethnic Group)', 'rank': 2, 'major': 'N'}, {'name': 'subject', 'value': 'Hong Kong Protests (2019)', 'rank': 3, 'major': 'N'}, {'name': 'persons', 'value': 'Xi Jinping', 'rank': 4, 'major': 'N'}, {'name': 'persons', 'value': 'Pompeo, Mike', 'rank': 5, 'major': 'N'}, {'name': 'persons', 'value': 'Rubio, Marco', 'rank': 6, 'major': 'N'}, {'name': 'persons', 'value': 'Sulei...   \n",
              "\n",
              "                                                                                                                                                                                                                                                                                                                                                                                                                                                                                       merged_text  \\\n",
              "412                                                             BEIJING — The Chinese government abruptly replaced its top representative in Hong Kong on Saturday evening, installing a senior Communist Party official with a record of difficult assignments in inland provinces that involved working closely with the security services.After months of protests and an electoral defeat for pro-Beijing political parties, an official with a record of difficult assignments is on the way.   \n",
              "609                                                                                                                                                                                                                        BEIJING — For days, Li Bin had what felt like a cold, with a high fever of between 102 and 105, and he could not understand why he wasn’t getting better. Beijing is racing to identify a new illness that has sickened 59 people as it tries to calm a nervous public.   \n",
              "829                                                                                             The lurid court testimony riveted Canada: A Chinese immigrant shot dead his brash, womanizing, millionaire relative at his $8 million hillside mansion in Vancouver, and then chopped up the body into 108 pieces before taking a long nap.After a trial that took more than two years, Zhao Li, who killed his millionaire cousin and then chopped up the body, was found guilty of manslaughter.   \n",
              "884                                        NANHU LAKE, China — He was anxious about China’s trade war with the United States. He was worried about the rise of pro-democracy activists in Hong Kong. So Liu Yuanrong, a lifelong member of the Chinese Communist Party, followed the advice of a friend: Go to the lake.Some come to seek an emotional lift, others to sing patriotic tunes. But they all raise a fist and say an oath, a rite meant to show China’s strength in the 21st century.   \n",
              "1113  WASHINGTON — When Secretary of State Mike Pompeo gave a news conference this week in which he justified President Trump’s order to kill Iran’s most powerful general, he also took the opportunity to criticize China twice: for its mass detentions of Muslims and for its repressive policies in Hong Kong.President Trump’s use of military force against Iran gives Beijing ammunition to highlight failures of American policy, even as the Communist Party represses Muslims in China.   \n",
              "\n",
              "                                                                                                                                                                                                                                                                                                  keywords_  \\\n",
              "412                                                                                                                                          [Hong Kong, China, Wang Zhimin, Luo Huining, Politics and Government, Communist Party of China, Appointments and Executive Changes, Hong Kong Protests (2019)]   \n",
              "609                                                                                                                                                                                                                [Respiratory Diseases, Epidemics, Pneumonia, China, Hong Kong, Singapore, Wuhan (China)]   \n",
              "829                                                                                                                                                                                 [Murders, Attempted Murders and Homicides, Yuan Gang, Zhao Li, British Columbia (Canada), Vancouver (British Columbia)]   \n",
              "884                                                                                                                                 [China, Xi Jinping, Communist Party of China, Politburo Standing Committee of the Communist Party of China, Mao Zedong, Museums, Economic Conditions and Trends, Lakes]   \n",
              "1113  [Muslims and Islam, Uighurs (Chinese Ethnic Group), Hong Kong Protests (2019), Xi Jinping, Pompeo, Mike, Rubio, Marco, Suleimani, Qassim, Trump, Donald J, Iran, Middle East, Human Rights and Human Rights Violations, United States International Relations, United States Politics and Government]   \n",
              "\n",
              "                                                                                                                                         ents_extracted  \\\n",
              "412                                                                                  [((beijing, GPE), 1), ((chinese, NORP), 1), ((hong kong, GPE), 1)]   \n",
              "609                                                                                                                               [((beijing, GPE), 2)]   \n",
              "829                                                                                   [((canada, GPE), 1), ((chinese, NORP), 1), ((vancouver, GPE), 1)]   \n",
              "884                                                                           [((china, GPE), 3), ((the united states, GPE), 1), ((hong kong, GPE), 1)]   \n",
              "1113  [((iran, GPE), 2), ((china, GPE), 2), ((muslims, NORP), 2), ((washington, GPE), 1), ((hong, GPE), 1), ((beijing, GPE), 1), ((american, NORP), 1)]   \n",
              "\n",
              "                                                                                                                                                         percent_ents  \\\n",
              "412                                             [[(beijing, GPE), 0.3333333333333333], [(chinese, NORP), 0.3333333333333333], [(hong kong, GPE), 0.3333333333333333]]   \n",
              "609                                                                                                                                           [[(beijing, GPE), 1.0]]   \n",
              "829                                              [[(canada, GPE), 0.3333333333333333], [(chinese, NORP), 0.3333333333333333], [(vancouver, GPE), 0.3333333333333333]]   \n",
              "884                                                                                   [[(china, GPE), 0.6], [(the united states, GPE), 0.2], [(hong kong, GPE), 0.2]]   \n",
              "1113  [[(iran, GPE), 0.2], [(china, GPE), 0.2], [(muslims, NORP), 0.2], [(washington, GPE), 0.1], [(hong, GPE), 0.1], [(beijing, GPE), 0.1], [(american, NORP), 0.1]]   \n",
              "\n",
              "                                                                                                         ents_cleaned  \\\n",
              "412                       [[china, 0.3333333333333333], [china, 0.3333333333333333], [hong kong, 0.3333333333333333]]   \n",
              "609                                                                                                    [[china, 1.0]]   \n",
              "829                      [[canada, 0.3333333333333333], [china, 0.3333333333333333], [vancouver, 0.3333333333333333]]   \n",
              "884                                                        [[china, 0.6], [the united states, 0.2], [hong kong, 0.2]]   \n",
              "1113  [[iran, 0.2], [china, 0.2], [muslims, 0.2], [washington, 0.1], [hong, 0.1], [china, 0.1], [united states, 0.1]]   \n",
              "\n",
              "                                                                                                      ents_consolidated  \\\n",
              "412                                                      [[china, 0.6666666666666666], [hong kong, 0.3333333333333333]]   \n",
              "609                                                                                                      [[china, 1.0]]   \n",
              "829                        [[canada, 0.3333333333333333], [china, 0.3333333333333333], [vancouver, 0.3333333333333333]]   \n",
              "884                                                          [[china, 0.6], [the united states, 0.2], [hong kong, 0.2]]   \n",
              "1113  [[iran, 0.2], [china, 0.30000000000000004], [muslims, 0.2], [washington, 0.1], [hong, 0.1], [united states, 0.1]]   \n",
              "\n",
              "                               ents_limited tgt_ents  tgt_ents_contain_china  \n",
              "412                      [china, hong kong]  [china]                    True  \n",
              "609                                 [china]  [china]                    True  \n",
              "829              [canada, china, vancouver]  [china]                    True  \n",
              "884   [china, the united states, hong kong]  [china]                    True  \n",
              "1113                 [iran, china, muslims]  [china]                    True  "
            ]
          },
          "metadata": {
            "tags": []
          },
          "execution_count": 38
        }
      ]
    },
    {
      "cell_type": "code",
      "metadata": {
        "id": "9bmghUaOkkI-"
      },
      "source": [],
      "execution_count": null,
      "outputs": []
    },
    {
      "cell_type": "code",
      "metadata": {
        "id": "asTTbNVvkkLq"
      },
      "source": [],
      "execution_count": null,
      "outputs": []
    },
    {
      "cell_type": "code",
      "metadata": {
        "id": "fOrti_ezkkOd"
      },
      "source": [],
      "execution_count": null,
      "outputs": []
    },
    {
      "cell_type": "markdown",
      "metadata": {
        "id": "GZSEgGJ9oPzF"
      },
      "source": []
    },
    {
      "cell_type": "code",
      "metadata": {
        "id": "K49aeOXjMNUN"
      },
      "source": [
        "# check for target entities\n",
        "#df['ents_check'] = df['ents_limited'].apply(ent_check)"
      ],
      "execution_count": null,
      "outputs": []
    },
    {
      "cell_type": "code",
      "metadata": {
        "id": "r8vkbQhWZGiR"
      },
      "source": [
        "# count target entities\n",
        "#df[\"ents_count\"]  = df['ents3'].apply(ent_count)"
      ],
      "execution_count": null,
      "outputs": []
    },
    {
      "cell_type": "code",
      "metadata": {
        "id": "BXhR7Wl_Ob5v"
      },
      "source": [
        "# replace None object with False\n",
        "#df['ents_check'].fillna(False, inplace = True)"
      ],
      "execution_count": null,
      "outputs": []
    },
    {
      "cell_type": "code",
      "metadata": {
        "id": "Qfugfklm4G30"
      },
      "source": [
        "# extract ents from ents3\n",
        "#df['all_ents'] = df['ents3'].apply(extract_all_ents)"
      ],
      "execution_count": null,
      "outputs": []
    },
    {
      "cell_type": "code",
      "metadata": {
        "id": "F5ASQ0SAfgcW"
      },
      "source": [
        "# lower case string\n",
        "#df['all_ents'] = df['all_ents'].apply(lambda x: [i.lower() for i in x])"
      ],
      "execution_count": null,
      "outputs": []
    },
    {
      "cell_type": "code",
      "metadata": {
        "id": "ihK8uNeac6bG"
      },
      "source": [
        "# make dict to remap elements\n",
        "\n",
        "#ent_dict = {\n",
        "#            \"chinese\":\"china\",\n",
        "#            \"beijing\":\"china\"\n",
        "#}\n",
        "\n",
        "# map elements in list using ent dict\n",
        "#df['all_ents'] = df['all_ents'].apply(lambda x:[ent_dict.get(k,k) for k in x])"
      ],
      "execution_count": null,
      "outputs": []
    },
    {
      "cell_type": "code",
      "metadata": {
        "id": "J3T0rnK1CoDZ"
      },
      "source": [
        "# get unique values in list\n",
        "#df['all_ents'] = df['all_ents'].map(set).map(list)"
      ],
      "execution_count": null,
      "outputs": []
    },
    {
      "cell_type": "code",
      "metadata": {
        "id": "a92F-uBiVb3b"
      },
      "source": [
        "#df.head()"
      ],
      "execution_count": null,
      "outputs": []
    },
    {
      "cell_type": "code",
      "metadata": {
        "id": "OGuOET7hjD0Y"
      },
      "source": [
        "# check if element in list matchces condition\n",
        "#df['contains_china'] = df['all_ents'].apply(lambda x: any(i == 'china' for i in x))\n",
        "\n",
        "#all(i >= 30 for i in my_list1)\n",
        "#any([target in x[0] for x in entities]):"
      ],
      "execution_count": null,
      "outputs": []
    },
    {
      "cell_type": "code",
      "metadata": {
        "id": "riw45_EHQ3mE"
      },
      "source": [
        "#df['tgt_ents'] = df['all_ents'].apply(extract_tgt_ents)"
      ],
      "execution_count": null,
      "outputs": []
    },
    {
      "cell_type": "code",
      "metadata": {
        "id": "tecN5H1Ajb2q"
      },
      "source": [
        "#df[df['contains_china']].head()"
      ],
      "execution_count": null,
      "outputs": []
    },
    {
      "cell_type": "code",
      "metadata": {
        "id": "2lflelULVVTD"
      },
      "source": [
        "#df['contains_china'] = df['all_ents'].apply(lambda x: any(i == 'china' for i in x))"
      ],
      "execution_count": null,
      "outputs": []
    },
    {
      "cell_type": "code",
      "metadata": {
        "id": "Xbi0JSH5Vc5y"
      },
      "source": [
        "#len(df1)"
      ],
      "execution_count": null,
      "outputs": []
    },
    {
      "cell_type": "code",
      "metadata": {
        "id": "l1P7ulw_rm4c"
      },
      "source": [
        "#df1.sample(n=5)"
      ],
      "execution_count": null,
      "outputs": []
    },
    {
      "cell_type": "code",
      "metadata": {
        "id": "7Sn6sCMI759L"
      },
      "source": [
        "# convert pubdate to datetime object\n",
        "#df1['pub_date'] = pd.to_datetime(df1['pub_date'])"
      ],
      "execution_count": null,
      "outputs": []
    },
    {
      "cell_type": "code",
      "metadata": {
        "id": "Fm8x8meoBUUO"
      },
      "source": [
        "# lower case all strings in tgt_ents col\n",
        "#df1['tgt_ents'] = df1['tgt_ents'].apply(lambda x: [i.lower() for i in x])"
      ],
      "execution_count": null,
      "outputs": []
    },
    {
      "cell_type": "code",
      "metadata": {
        "id": "4eykWsUy8AfV"
      },
      "source": [
        "#df1.dtypes"
      ],
      "execution_count": null,
      "outputs": []
    },
    {
      "cell_type": "code",
      "metadata": {
        "id": "LWSf26miymWM"
      },
      "source": [
        "#import seaborn as sns"
      ],
      "execution_count": null,
      "outputs": []
    },
    {
      "cell_type": "code",
      "metadata": {
        "id": "97rp3gQ7vSrl"
      },
      "source": [
        "#df_explode = df1.explode('tgt_ents')"
      ],
      "execution_count": null,
      "outputs": []
    },
    {
      "cell_type": "code",
      "metadata": {
        "id": "5S85r_B1ylIf"
      },
      "source": [
        "#df_explode.head()"
      ],
      "execution_count": null,
      "outputs": []
    },
    {
      "cell_type": "code",
      "metadata": {
        "id": "A-LiL6wT1pby"
      },
      "source": [
        "#plt.figure(figsize = (10,8))\n",
        "#df_explode['tgt_ents'].value_counts().plot(kind = 'bar')\n",
        "#plt.title(\"Value Counts of Entities\")\n",
        "#plt.show()"
      ],
      "execution_count": null,
      "outputs": []
    },
    {
      "cell_type": "code",
      "metadata": {
        "id": "9mY3KwRg8L70"
      },
      "source": [
        "# extract elements from tgt_ents column into separate dataframe\n",
        "#df_ents = pd.DataFrame(df1['tgt_ents'].values.tolist(), df1.index).add_prefix('ent_')"
      ],
      "execution_count": null,
      "outputs": []
    },
    {
      "cell_type": "code",
      "metadata": {
        "id": "TWYhh3fl-WdW"
      },
      "source": [
        "# concat df1 and df_ents\n",
        "#df_final = pd.concat([df1, df_ents], axis=1)"
      ],
      "execution_count": null,
      "outputs": []
    },
    {
      "cell_type": "code",
      "metadata": {
        "id": "mthmiTGpBIxt"
      },
      "source": [
        "#df_final.head()"
      ],
      "execution_count": null,
      "outputs": []
    },
    {
      "cell_type": "code",
      "metadata": {
        "id": "tUtI-tV7B3aT"
      },
      "source": [
        "#plt.figure(figsize = (10,8))\n",
        "#df_final['ent_0'].value_counts().plot(kind = 'bar')\n",
        "#plt.title(\"Value Counts of Entities in Column Ent0\")\n",
        "#plt.show()"
      ],
      "execution_count": null,
      "outputs": []
    }
  ]
}