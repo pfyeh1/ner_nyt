{
  "nbformat": 4,
  "nbformat_minor": 0,
  "metadata": {
    "colab": {
      "provenance": [],
      "authorship_tag": "ABX9TyN8wN9FxOMFTJB43KVRplHV",
      "include_colab_link": true
    },
    "kernelspec": {
      "name": "python3",
      "display_name": "Python 3"
    }
  },
  "cells": [
    {
      "cell_type": "markdown",
      "metadata": {
        "id": "view-in-github",
        "colab_type": "text"
      },
      "source": [
        "<a href=\"https://colab.research.google.com/github/pfyeh1/ner_nyt/blob/main/eda_orgs_nytimes.ipynb\" target=\"_parent\"><img src=\"https://colab.research.google.com/assets/colab-badge.svg\" alt=\"Open In Colab\"/></a>"
      ]
    },
    {
      "cell_type": "code",
      "metadata": {
        "id": "5U0OCFSbymtq",
        "colab": {
          "base_uri": "https://localhost:8080/"
        },
        "outputId": "949af358-f69b-419a-dad6-16af0fd178c3"
      },
      "source": [
        "from google.colab import drive\n",
        "drive.mount('/content/drive')"
      ],
      "execution_count": 1,
      "outputs": [
        {
          "output_type": "stream",
          "name": "stdout",
          "text": [
            "Mounted at /content/drive\n"
          ]
        }
      ]
    },
    {
      "cell_type": "code",
      "metadata": {
        "id": "dZiPbb8byoXr"
      },
      "source": [
        "#!ls \"/content/drive/My Drive/_data/\""
      ],
      "execution_count": 2,
      "outputs": []
    },
    {
      "cell_type": "code",
      "metadata": {
        "id": "jBrTPc2WypXe"
      },
      "source": [
        "import os, sys\n",
        "import pandas as pd\n",
        "import numpy as np\n",
        "\n",
        "import string\n",
        "import re\n",
        "from collections import Counter\n",
        "from tqdm import tqdm\n",
        "\n",
        "import pickle\n",
        "\n",
        "#local_python_path = os.path.join(os.environ['HOME'], 'Documents', 'Python')\n",
        "#os.chdir(local_python_path)\n",
        "pd.set_option('display.max_columns', None)\n",
        "pd.set_option('display.max_rows', None)\n",
        "pd.set_option('display.max_colwidth', 800)\n",
        "\n",
        "gpath = os.path.join('/content','drive', 'My Drive', '_data', 'nyt_articles')\n",
        "os.chdir(gpath)"
      ],
      "execution_count": 37,
      "outputs": []
    },
    {
      "cell_type": "code",
      "metadata": {
        "id": "UWETRObJyvbc"
      },
      "source": [
        "# infile\n",
        "infile = \"nyt_articles.pkl\"\n",
        "\n",
        "# infile path\n",
        "infile_path = os.path.join(gpath, \"output\", infile)\n",
        "\n",
        "# load dataframe from pkl\n",
        "df = pd.read_pickle(infile_path)"
      ],
      "execution_count": 5,
      "outputs": []
    },
    {
      "cell_type": "code",
      "source": [
        "df.columns"
      ],
      "metadata": {
        "colab": {
          "base_uri": "https://localhost:8080/"
        },
        "id": "O4WrsrnNi01t",
        "outputId": "4dce3083-3d66-4e24-a32c-7dc27ed2c5e7"
      },
      "execution_count": 6,
      "outputs": [
        {
          "output_type": "execute_result",
          "data": {
            "text/plain": [
              "Index(['abstract', 'web_url', 'snippet', 'lead_paragraph', 'print_section',\n",
              "       'print_page', 'source', 'multimedia', 'keywords', 'pub_date',\n",
              "       'document_type', 'news_desk', 'section_name', 'type_of_material', '_id',\n",
              "       'word_count', 'uri', 'headline.main', 'headline.kicker',\n",
              "       'headline.content_kicker', 'headline.print_headline', 'headline.name',\n",
              "       'headline.seo', 'headline.sub', 'byline.original', 'byline.person',\n",
              "       'byline.organization', 'subsection_name'],\n",
              "      dtype='object')"
            ]
          },
          "metadata": {},
          "execution_count": 6
        }
      ]
    },
    {
      "cell_type": "code",
      "source": [
        "cols = [\n",
        "    'uri',\n",
        "    'web_url',\n",
        "    'snippet',\n",
        "    'lead_paragraph',\n",
        "    'keywords',\n",
        "    'pub_date',\n",
        "    'document_type',\n",
        "    'news_desk',\n",
        "    'section_name',\n",
        "  ]"
      ],
      "metadata": {
        "id": "UnT8eQamjAoF"
      },
      "execution_count": 7,
      "outputs": []
    },
    {
      "cell_type": "code",
      "source": [
        "# don't need all the cols\n",
        "df = df[cols].copy()"
      ],
      "metadata": {
        "id": "mR8WjA-Jja31"
      },
      "execution_count": 8,
      "outputs": []
    },
    {
      "cell_type": "code",
      "source": [
        "df.isnull().sum()"
      ],
      "metadata": {
        "colab": {
          "base_uri": "https://localhost:8080/"
        },
        "id": "fI7gysX8jn6d",
        "outputId": "3f82bd9d-bc97-4c7f-c382-0b124d32c457"
      },
      "execution_count": 9,
      "outputs": [
        {
          "output_type": "execute_result",
          "data": {
            "text/plain": [
              "uri               0\n",
              "web_url           0\n",
              "snippet           0\n",
              "lead_paragraph    0\n",
              "keywords          0\n",
              "pub_date          0\n",
              "document_type     0\n",
              "news_desk         0\n",
              "section_name      0\n",
              "dtype: int64"
            ]
          },
          "metadata": {},
          "execution_count": 9
        }
      ]
    },
    {
      "cell_type": "code",
      "source": [
        "df['pub_date'] = pd.to_datetime(df['pub_date']).dt.strftime('%Y-%m-%d')"
      ],
      "metadata": {
        "id": "yvGyU1aWka0Q"
      },
      "execution_count": 10,
      "outputs": []
    },
    {
      "cell_type": "code",
      "source": [
        "df.head()"
      ],
      "metadata": {
        "colab": {
          "base_uri": "https://localhost:8080/",
          "height": 1000
        },
        "id": "KogmsARVk9Oz",
        "outputId": "712ee0c3-871d-48d5-efe3-045f6700f919"
      },
      "execution_count": 11,
      "outputs": [
        {
          "output_type": "execute_result",
          "data": {
            "text/plain": [
              "                                                  uri  \\\n",
              "0  nyt://article/df646720-840a-559b-9019-a38e073d374d   \n",
              "1  nyt://article/bea5feb0-69e1-53a8-a0d0-eb8028756bfd   \n",
              "2  nyt://article/b54435b9-a1e6-53a5-909a-58142f8ce981   \n",
              "3  nyt://article/e860a43e-23b4-53d5-b1b7-9c87012e6e58   \n",
              "4    nyt://video/bb3260bb-b2a2-5e3d-96be-4a9526b1667f   \n",
              "\n",
              "                                                                                        web_url  \\\n",
              "0    https://www.nytimes.com/2022/10/31/nyregion/rikers-inmate-stabbing-correction-officer.html   \n",
              "1   https://www.nytimes.com/2022/10/31/sports/baseball/world-series-astros-game-3-phillies.html   \n",
              "2                    https://www.nytimes.com/2022/10/31/crosswords/daily-puzzle-2022-11-01.html   \n",
              "3                 https://www.nytimes.com/2022/10/31/us/steven-pankey-murder-kidnapping-id.html   \n",
              "4  https://www.nytimes.com/video/us/politics/100000008610372/pelosi-attack-suspect-charges.html   \n",
              "\n",
              "                                                                                                                                                                                                snippet  \\\n",
              "0                                                                    The officer was seriously injured in the attack, which took place in the protective custody unit at Rikers, a union official said.   \n",
              "1                         The Houston Astros and the Philadelphia Phillies are tied at one game apiece. The series is scheduled to resume Tuesday, and each remaining game will be pushed back one day.   \n",
              "2                                                                                                                                                     Make some connections with Bruce Haight’s puzzle.   \n",
              "3                                                                        The long-unsolved kidnapping and killing of Jonelle Matthews haunted the community of Greeley, about 50 miles north of Denver.   \n",
              "4  David DePape, who is accused of breaking into the San Francisco home of Speaker Nancy Pelosi, was charged with attempting to kidnap Ms. Pelosi and with assaulting a relative of a federal official.   \n",
              "\n",
              "                                                                                                                                                                                                                                                                                          lead_paragraph  \\\n",
              "0                                                                         A city correction officer at the Rikers Island prison complex was seriously injured on Monday when a detainee stabbed him more than a dozen times in the back of the head, the correction officers’ union said in a statement.   \n",
              "1  PHILADELPHIA — Game 3 of the World Series was postponed Monday because of rain, with the Houston Astros and the Philadelphia Phillies tied at one game apiece. The series is scheduled to resume Tuesday, and in place of eliminating the built-in travel day, each game will be pushed back one day.   \n",
              "2                                                                                                                                                                         TUESDAY PUZZLE — Rumor has it that this is the 61st puzzle constructed by Bruce Haight for The Times. That’s a lot of puzzles!   \n",
              "3               A Colorado jury on Monday convicted an Idaho man of murder and kidnapping in the 1984 disappearance and death of a 12-year-old girl who was killed days before Christmas, a case that went unsolved for decades and haunted the tight-knit community of Greeley, Colo., where she lived.   \n",
              "4                                                                                                   David DePape, who is accused of breaking into the San Francisco home of Speaker Nancy Pelosi, was charged with attempting to kidnap Ms. Pelosi and with assaulting a relative of a federal official.   \n",
              "\n",
              "                                                                                                                                                                                                                                                                                                                                                                                                                                                                                                                                                                                                                                                             keywords  \\\n",
              "0                                                                                                                                                                                                                                                                                               [{'name': 'subject', 'value': 'Prison Guards and Corrections Officers', 'rank': 1, 'major': 'N'}, {'name': 'organizations', 'value': 'Rikers Island Prison Complex', 'rank': 2, 'major': 'N'}, {'name': 'subject', 'value': 'Assaults', 'rank': 3, 'major': 'N'}, {'name': 'organizations', 'value': 'Correction Officers Benevolent Assn', 'rank': 4, 'major': 'N'}]   \n",
              "1                                                                                                          [{'name': 'subject', 'value': 'Baseball', 'rank': 1, 'major': 'N'}, {'name': 'subject', 'value': 'World Series', 'rank': 2, 'major': 'N'}, {'name': 'subject', 'value': 'Playoff Games', 'rank': 3, 'major': 'N'}, {'name': 'organizations', 'value': 'Houston Astros', 'rank': 4, 'major': 'N'}, {'name': 'organizations', 'value': 'Philadelphia Phillies', 'rank': 5, 'major': 'N'}, {'name': 'persons', 'value': 'McCullers, Lance Jr (1993- )', 'rank': 6, 'major': 'N'}, {'name': 'persons', 'value': 'Syndergaard, Noah', 'rank': 7, 'major': 'N'}]   \n",
              "2                                                                                                                                                                                                                                                                                                                                                                                                                                                                                                                [{'name': 'subject', 'value': 'Crossword Puzzles', 'rank': 1, 'major': 'N'}, {'name': 'persons', 'value': 'Haight, Bruce', 'rank': 2, 'major': 'N'}]   \n",
              "3                                                                               [{'name': 'subject', 'value': 'Murders, Attempted Murders and Homicides', 'rank': 1, 'major': 'N'}, {'name': 'subject', 'value': 'Kidnapping and Hostages', 'rank': 2, 'major': 'N'}, {'name': 'persons', 'value': 'Matthews, Jonelle', 'rank': 3, 'major': 'N'}, {'name': 'persons', 'value': 'Pankey, Steven D (1951- )', 'rank': 4, 'major': 'N'}, {'name': 'glocations', 'value': 'Greeley (Colo)', 'rank': 5, 'major': 'N'}, {'name': 'glocations', 'value': 'Idaho', 'rank': 6, 'major': 'N'}, {'name': 'subject', 'value': 'Decisions and Verdicts', 'rank': 7, 'major': 'N'}]   \n",
              "4  [{'name': 'persons', 'value': 'Pelosi, Paul', 'rank': 1, 'major': 'N'}, {'name': 'persons', 'value': 'Pelosi, Nancy', 'rank': 2, 'major': 'N'}, {'name': 'subject', 'value': 'Murders, Attempted Murders and Homicides', 'rank': 3, 'major': 'N'}, {'name': 'subject', 'value': 'Assaults', 'rank': 4, 'major': 'N'}, {'name': 'subject', 'value': 'Kidnapping and Hostages', 'rank': 5, 'major': 'N'}, {'name': 'persons', 'value': 'Depape, David', 'rank': 6, 'major': 'N'}, {'name': 'subject', 'value': 'United States Politics and Government', 'rank': 7, 'major': 'N'}, {'name': 'glocations', 'value': 'San Francisco (Calif)', 'rank': 8, 'major': 'N'}]   \n",
              "\n",
              "     pub_date document_type news_desk        section_name  \n",
              "0  2022-11-01       article     Metro            New York  \n",
              "1  2022-11-01       article    Sports              Sports  \n",
              "2  2022-11-01       article     Games  Crosswords & Games  \n",
              "3  2022-11-01       article   Express                U.S.  \n",
              "4  2022-11-01    multimedia                          U.S.  "
            ],
            "text/html": [
              "\n",
              "  <div id=\"df-b5733500-a81e-441e-9d0b-f1bece324ba8\" class=\"colab-df-container\">\n",
              "    <div>\n",
              "<style scoped>\n",
              "    .dataframe tbody tr th:only-of-type {\n",
              "        vertical-align: middle;\n",
              "    }\n",
              "\n",
              "    .dataframe tbody tr th {\n",
              "        vertical-align: top;\n",
              "    }\n",
              "\n",
              "    .dataframe thead th {\n",
              "        text-align: right;\n",
              "    }\n",
              "</style>\n",
              "<table border=\"1\" class=\"dataframe\">\n",
              "  <thead>\n",
              "    <tr style=\"text-align: right;\">\n",
              "      <th></th>\n",
              "      <th>uri</th>\n",
              "      <th>web_url</th>\n",
              "      <th>snippet</th>\n",
              "      <th>lead_paragraph</th>\n",
              "      <th>keywords</th>\n",
              "      <th>pub_date</th>\n",
              "      <th>document_type</th>\n",
              "      <th>news_desk</th>\n",
              "      <th>section_name</th>\n",
              "    </tr>\n",
              "  </thead>\n",
              "  <tbody>\n",
              "    <tr>\n",
              "      <th>0</th>\n",
              "      <td>nyt://article/df646720-840a-559b-9019-a38e073d374d</td>\n",
              "      <td>https://www.nytimes.com/2022/10/31/nyregion/rikers-inmate-stabbing-correction-officer.html</td>\n",
              "      <td>The officer was seriously injured in the attack, which took place in the protective custody unit at Rikers, a union official said.</td>\n",
              "      <td>A city correction officer at the Rikers Island prison complex was seriously injured on Monday when a detainee stabbed him more than a dozen times in the back of the head, the correction officers’ union said in a statement.</td>\n",
              "      <td>[{'name': 'subject', 'value': 'Prison Guards and Corrections Officers', 'rank': 1, 'major': 'N'}, {'name': 'organizations', 'value': 'Rikers Island Prison Complex', 'rank': 2, 'major': 'N'}, {'name': 'subject', 'value': 'Assaults', 'rank': 3, 'major': 'N'}, {'name': 'organizations', 'value': 'Correction Officers Benevolent Assn', 'rank': 4, 'major': 'N'}]</td>\n",
              "      <td>2022-11-01</td>\n",
              "      <td>article</td>\n",
              "      <td>Metro</td>\n",
              "      <td>New York</td>\n",
              "    </tr>\n",
              "    <tr>\n",
              "      <th>1</th>\n",
              "      <td>nyt://article/bea5feb0-69e1-53a8-a0d0-eb8028756bfd</td>\n",
              "      <td>https://www.nytimes.com/2022/10/31/sports/baseball/world-series-astros-game-3-phillies.html</td>\n",
              "      <td>The Houston Astros and the Philadelphia Phillies are tied at one game apiece. The series is scheduled to resume Tuesday, and each remaining game will be pushed back one day.</td>\n",
              "      <td>PHILADELPHIA — Game 3 of the World Series was postponed Monday because of rain, with the Houston Astros and the Philadelphia Phillies tied at one game apiece. The series is scheduled to resume Tuesday, and in place of eliminating the built-in travel day, each game will be pushed back one day.</td>\n",
              "      <td>[{'name': 'subject', 'value': 'Baseball', 'rank': 1, 'major': 'N'}, {'name': 'subject', 'value': 'World Series', 'rank': 2, 'major': 'N'}, {'name': 'subject', 'value': 'Playoff Games', 'rank': 3, 'major': 'N'}, {'name': 'organizations', 'value': 'Houston Astros', 'rank': 4, 'major': 'N'}, {'name': 'organizations', 'value': 'Philadelphia Phillies', 'rank': 5, 'major': 'N'}, {'name': 'persons', 'value': 'McCullers, Lance Jr (1993- )', 'rank': 6, 'major': 'N'}, {'name': 'persons', 'value': 'Syndergaard, Noah', 'rank': 7, 'major': 'N'}]</td>\n",
              "      <td>2022-11-01</td>\n",
              "      <td>article</td>\n",
              "      <td>Sports</td>\n",
              "      <td>Sports</td>\n",
              "    </tr>\n",
              "    <tr>\n",
              "      <th>2</th>\n",
              "      <td>nyt://article/b54435b9-a1e6-53a5-909a-58142f8ce981</td>\n",
              "      <td>https://www.nytimes.com/2022/10/31/crosswords/daily-puzzle-2022-11-01.html</td>\n",
              "      <td>Make some connections with Bruce Haight’s puzzle.</td>\n",
              "      <td>TUESDAY PUZZLE — Rumor has it that this is the 61st puzzle constructed by Bruce Haight for The Times. That’s a lot of puzzles!</td>\n",
              "      <td>[{'name': 'subject', 'value': 'Crossword Puzzles', 'rank': 1, 'major': 'N'}, {'name': 'persons', 'value': 'Haight, Bruce', 'rank': 2, 'major': 'N'}]</td>\n",
              "      <td>2022-11-01</td>\n",
              "      <td>article</td>\n",
              "      <td>Games</td>\n",
              "      <td>Crosswords &amp; Games</td>\n",
              "    </tr>\n",
              "    <tr>\n",
              "      <th>3</th>\n",
              "      <td>nyt://article/e860a43e-23b4-53d5-b1b7-9c87012e6e58</td>\n",
              "      <td>https://www.nytimes.com/2022/10/31/us/steven-pankey-murder-kidnapping-id.html</td>\n",
              "      <td>The long-unsolved kidnapping and killing of Jonelle Matthews haunted the community of Greeley, about 50 miles north of Denver.</td>\n",
              "      <td>A Colorado jury on Monday convicted an Idaho man of murder and kidnapping in the 1984 disappearance and death of a 12-year-old girl who was killed days before Christmas, a case that went unsolved for decades and haunted the tight-knit community of Greeley, Colo., where she lived.</td>\n",
              "      <td>[{'name': 'subject', 'value': 'Murders, Attempted Murders and Homicides', 'rank': 1, 'major': 'N'}, {'name': 'subject', 'value': 'Kidnapping and Hostages', 'rank': 2, 'major': 'N'}, {'name': 'persons', 'value': 'Matthews, Jonelle', 'rank': 3, 'major': 'N'}, {'name': 'persons', 'value': 'Pankey, Steven D (1951- )', 'rank': 4, 'major': 'N'}, {'name': 'glocations', 'value': 'Greeley (Colo)', 'rank': 5, 'major': 'N'}, {'name': 'glocations', 'value': 'Idaho', 'rank': 6, 'major': 'N'}, {'name': 'subject', 'value': 'Decisions and Verdicts', 'rank': 7, 'major': 'N'}]</td>\n",
              "      <td>2022-11-01</td>\n",
              "      <td>article</td>\n",
              "      <td>Express</td>\n",
              "      <td>U.S.</td>\n",
              "    </tr>\n",
              "    <tr>\n",
              "      <th>4</th>\n",
              "      <td>nyt://video/bb3260bb-b2a2-5e3d-96be-4a9526b1667f</td>\n",
              "      <td>https://www.nytimes.com/video/us/politics/100000008610372/pelosi-attack-suspect-charges.html</td>\n",
              "      <td>David DePape, who is accused of breaking into the San Francisco home of Speaker Nancy Pelosi, was charged with attempting to kidnap Ms. Pelosi and with assaulting a relative of a federal official.</td>\n",
              "      <td>David DePape, who is accused of breaking into the San Francisco home of Speaker Nancy Pelosi, was charged with attempting to kidnap Ms. Pelosi and with assaulting a relative of a federal official.</td>\n",
              "      <td>[{'name': 'persons', 'value': 'Pelosi, Paul', 'rank': 1, 'major': 'N'}, {'name': 'persons', 'value': 'Pelosi, Nancy', 'rank': 2, 'major': 'N'}, {'name': 'subject', 'value': 'Murders, Attempted Murders and Homicides', 'rank': 3, 'major': 'N'}, {'name': 'subject', 'value': 'Assaults', 'rank': 4, 'major': 'N'}, {'name': 'subject', 'value': 'Kidnapping and Hostages', 'rank': 5, 'major': 'N'}, {'name': 'persons', 'value': 'Depape, David', 'rank': 6, 'major': 'N'}, {'name': 'subject', 'value': 'United States Politics and Government', 'rank': 7, 'major': 'N'}, {'name': 'glocations', 'value': 'San Francisco (Calif)', 'rank': 8, 'major': 'N'}]</td>\n",
              "      <td>2022-11-01</td>\n",
              "      <td>multimedia</td>\n",
              "      <td></td>\n",
              "      <td>U.S.</td>\n",
              "    </tr>\n",
              "  </tbody>\n",
              "</table>\n",
              "</div>\n",
              "    <div class=\"colab-df-buttons\">\n",
              "\n",
              "  <div class=\"colab-df-container\">\n",
              "    <button class=\"colab-df-convert\" onclick=\"convertToInteractive('df-b5733500-a81e-441e-9d0b-f1bece324ba8')\"\n",
              "            title=\"Convert this dataframe to an interactive table.\"\n",
              "            style=\"display:none;\">\n",
              "\n",
              "  <svg xmlns=\"http://www.w3.org/2000/svg\" height=\"24px\" viewBox=\"0 -960 960 960\">\n",
              "    <path d=\"M120-120v-720h720v720H120Zm60-500h600v-160H180v160Zm220 220h160v-160H400v160Zm0 220h160v-160H400v160ZM180-400h160v-160H180v160Zm440 0h160v-160H620v160ZM180-180h160v-160H180v160Zm440 0h160v-160H620v160Z\"/>\n",
              "  </svg>\n",
              "    </button>\n",
              "\n",
              "  <style>\n",
              "    .colab-df-container {\n",
              "      display:flex;\n",
              "      gap: 12px;\n",
              "    }\n",
              "\n",
              "    .colab-df-convert {\n",
              "      background-color: #E8F0FE;\n",
              "      border: none;\n",
              "      border-radius: 50%;\n",
              "      cursor: pointer;\n",
              "      display: none;\n",
              "      fill: #1967D2;\n",
              "      height: 32px;\n",
              "      padding: 0 0 0 0;\n",
              "      width: 32px;\n",
              "    }\n",
              "\n",
              "    .colab-df-convert:hover {\n",
              "      background-color: #E2EBFA;\n",
              "      box-shadow: 0px 1px 2px rgba(60, 64, 67, 0.3), 0px 1px 3px 1px rgba(60, 64, 67, 0.15);\n",
              "      fill: #174EA6;\n",
              "    }\n",
              "\n",
              "    .colab-df-buttons div {\n",
              "      margin-bottom: 4px;\n",
              "    }\n",
              "\n",
              "    [theme=dark] .colab-df-convert {\n",
              "      background-color: #3B4455;\n",
              "      fill: #D2E3FC;\n",
              "    }\n",
              "\n",
              "    [theme=dark] .colab-df-convert:hover {\n",
              "      background-color: #434B5C;\n",
              "      box-shadow: 0px 1px 3px 1px rgba(0, 0, 0, 0.15);\n",
              "      filter: drop-shadow(0px 1px 2px rgba(0, 0, 0, 0.3));\n",
              "      fill: #FFFFFF;\n",
              "    }\n",
              "  </style>\n",
              "\n",
              "    <script>\n",
              "      const buttonEl =\n",
              "        document.querySelector('#df-b5733500-a81e-441e-9d0b-f1bece324ba8 button.colab-df-convert');\n",
              "      buttonEl.style.display =\n",
              "        google.colab.kernel.accessAllowed ? 'block' : 'none';\n",
              "\n",
              "      async function convertToInteractive(key) {\n",
              "        const element = document.querySelector('#df-b5733500-a81e-441e-9d0b-f1bece324ba8');\n",
              "        const dataTable =\n",
              "          await google.colab.kernel.invokeFunction('convertToInteractive',\n",
              "                                                    [key], {});\n",
              "        if (!dataTable) return;\n",
              "\n",
              "        const docLinkHtml = 'Like what you see? Visit the ' +\n",
              "          '<a target=\"_blank\" href=https://colab.research.google.com/notebooks/data_table.ipynb>data table notebook</a>'\n",
              "          + ' to learn more about interactive tables.';\n",
              "        element.innerHTML = '';\n",
              "        dataTable['output_type'] = 'display_data';\n",
              "        await google.colab.output.renderOutput(dataTable, element);\n",
              "        const docLink = document.createElement('div');\n",
              "        docLink.innerHTML = docLinkHtml;\n",
              "        element.appendChild(docLink);\n",
              "      }\n",
              "    </script>\n",
              "  </div>\n",
              "\n",
              "\n",
              "<div id=\"df-dbdb7cfc-fd71-4b04-9482-825ed0d2399b\">\n",
              "  <button class=\"colab-df-quickchart\" onclick=\"quickchart('df-dbdb7cfc-fd71-4b04-9482-825ed0d2399b')\"\n",
              "            title=\"Suggest charts.\"\n",
              "            style=\"display:none;\">\n",
              "\n",
              "<svg xmlns=\"http://www.w3.org/2000/svg\" height=\"24px\"viewBox=\"0 0 24 24\"\n",
              "     width=\"24px\">\n",
              "    <g>\n",
              "        <path d=\"M19 3H5c-1.1 0-2 .9-2 2v14c0 1.1.9 2 2 2h14c1.1 0 2-.9 2-2V5c0-1.1-.9-2-2-2zM9 17H7v-7h2v7zm4 0h-2V7h2v10zm4 0h-2v-4h2v4z\"/>\n",
              "    </g>\n",
              "</svg>\n",
              "  </button>\n",
              "\n",
              "<style>\n",
              "  .colab-df-quickchart {\n",
              "      --bg-color: #E8F0FE;\n",
              "      --fill-color: #1967D2;\n",
              "      --hover-bg-color: #E2EBFA;\n",
              "      --hover-fill-color: #174EA6;\n",
              "      --disabled-fill-color: #AAA;\n",
              "      --disabled-bg-color: #DDD;\n",
              "  }\n",
              "\n",
              "  [theme=dark] .colab-df-quickchart {\n",
              "      --bg-color: #3B4455;\n",
              "      --fill-color: #D2E3FC;\n",
              "      --hover-bg-color: #434B5C;\n",
              "      --hover-fill-color: #FFFFFF;\n",
              "      --disabled-bg-color: #3B4455;\n",
              "      --disabled-fill-color: #666;\n",
              "  }\n",
              "\n",
              "  .colab-df-quickchart {\n",
              "    background-color: var(--bg-color);\n",
              "    border: none;\n",
              "    border-radius: 50%;\n",
              "    cursor: pointer;\n",
              "    display: none;\n",
              "    fill: var(--fill-color);\n",
              "    height: 32px;\n",
              "    padding: 0;\n",
              "    width: 32px;\n",
              "  }\n",
              "\n",
              "  .colab-df-quickchart:hover {\n",
              "    background-color: var(--hover-bg-color);\n",
              "    box-shadow: 0 1px 2px rgba(60, 64, 67, 0.3), 0 1px 3px 1px rgba(60, 64, 67, 0.15);\n",
              "    fill: var(--button-hover-fill-color);\n",
              "  }\n",
              "\n",
              "  .colab-df-quickchart-complete:disabled,\n",
              "  .colab-df-quickchart-complete:disabled:hover {\n",
              "    background-color: var(--disabled-bg-color);\n",
              "    fill: var(--disabled-fill-color);\n",
              "    box-shadow: none;\n",
              "  }\n",
              "\n",
              "  .colab-df-spinner {\n",
              "    border: 2px solid var(--fill-color);\n",
              "    border-color: transparent;\n",
              "    border-bottom-color: var(--fill-color);\n",
              "    animation:\n",
              "      spin 1s steps(1) infinite;\n",
              "  }\n",
              "\n",
              "  @keyframes spin {\n",
              "    0% {\n",
              "      border-color: transparent;\n",
              "      border-bottom-color: var(--fill-color);\n",
              "      border-left-color: var(--fill-color);\n",
              "    }\n",
              "    20% {\n",
              "      border-color: transparent;\n",
              "      border-left-color: var(--fill-color);\n",
              "      border-top-color: var(--fill-color);\n",
              "    }\n",
              "    30% {\n",
              "      border-color: transparent;\n",
              "      border-left-color: var(--fill-color);\n",
              "      border-top-color: var(--fill-color);\n",
              "      border-right-color: var(--fill-color);\n",
              "    }\n",
              "    40% {\n",
              "      border-color: transparent;\n",
              "      border-right-color: var(--fill-color);\n",
              "      border-top-color: var(--fill-color);\n",
              "    }\n",
              "    60% {\n",
              "      border-color: transparent;\n",
              "      border-right-color: var(--fill-color);\n",
              "    }\n",
              "    80% {\n",
              "      border-color: transparent;\n",
              "      border-right-color: var(--fill-color);\n",
              "      border-bottom-color: var(--fill-color);\n",
              "    }\n",
              "    90% {\n",
              "      border-color: transparent;\n",
              "      border-bottom-color: var(--fill-color);\n",
              "    }\n",
              "  }\n",
              "</style>\n",
              "\n",
              "  <script>\n",
              "    async function quickchart(key) {\n",
              "      const quickchartButtonEl =\n",
              "        document.querySelector('#' + key + ' button');\n",
              "      quickchartButtonEl.disabled = true;  // To prevent multiple clicks.\n",
              "      quickchartButtonEl.classList.add('colab-df-spinner');\n",
              "      try {\n",
              "        const charts = await google.colab.kernel.invokeFunction(\n",
              "            'suggestCharts', [key], {});\n",
              "      } catch (error) {\n",
              "        console.error('Error during call to suggestCharts:', error);\n",
              "      }\n",
              "      quickchartButtonEl.classList.remove('colab-df-spinner');\n",
              "      quickchartButtonEl.classList.add('colab-df-quickchart-complete');\n",
              "    }\n",
              "    (() => {\n",
              "      let quickchartButtonEl =\n",
              "        document.querySelector('#df-dbdb7cfc-fd71-4b04-9482-825ed0d2399b button');\n",
              "      quickchartButtonEl.style.display =\n",
              "        google.colab.kernel.accessAllowed ? 'block' : 'none';\n",
              "    })();\n",
              "  </script>\n",
              "</div>\n",
              "    </div>\n",
              "  </div>\n"
            ]
          },
          "metadata": {},
          "execution_count": 11
        }
      ]
    },
    {
      "cell_type": "code",
      "source": [
        "print(df['pub_date'].max())\n",
        "print(df['pub_date'].min())"
      ],
      "metadata": {
        "colab": {
          "base_uri": "https://localhost:8080/"
        },
        "id": "E-Y3sxifmENx",
        "outputId": "ccd1d0c0-4ac3-45d7-e640-f026d0e8b4a6"
      },
      "execution_count": 12,
      "outputs": [
        {
          "output_type": "stream",
          "name": "stdout",
          "text": [
            "2023-10-22\n",
            "2022-11-01\n"
          ]
        }
      ]
    },
    {
      "cell_type": "code",
      "metadata": {
        "id": "z_TuZABw-qxa"
      },
      "source": [
        "# filters\n",
        "date = (df['pub_date']>='2023-10-07')\n",
        "section = (df['section_name']=='World')\n",
        "document_type = (df['document_type']=='article')\n",
        "\n",
        "df1 = df.loc[date & section & document_type].copy()"
      ],
      "execution_count": 13,
      "outputs": []
    },
    {
      "cell_type": "code",
      "source": [
        "# define the key-value pair you want to filter for\n",
        "target_key = 'glocations'\n",
        "target_value = 'Israel'\n",
        "\n",
        "df2 = df1[df1['keywords'].apply(lambda x: any(entry['name'] == target_key and entry['value'] == target_value for entry in x))].copy()\n"
      ],
      "metadata": {
        "id": "wOQQHgjXl8Wo"
      },
      "execution_count": 14,
      "outputs": []
    },
    {
      "cell_type": "code",
      "metadata": {
        "id": "84_7pRFxbMql",
        "colab": {
          "base_uri": "https://localhost:8080/"
        },
        "outputId": "4308ba45-b86f-49d1-e537-1a42fed5e6c6"
      },
      "source": [
        "print(\"No. of records before filter :\", len(df1))\n",
        "print(\"No. of records befafterore filter :\", len(df2))"
      ],
      "execution_count": 17,
      "outputs": [
        {
          "output_type": "stream",
          "name": "stdout",
          "text": [
            "No. of records before filter : 301\n",
            "No. of records befafterore filter : 126\n"
          ]
        }
      ]
    },
    {
      "cell_type": "code",
      "metadata": {
        "colab": {
          "base_uri": "https://localhost:8080/"
        },
        "id": "ykLuCuTF8S3W",
        "outputId": "68b352a7-0f0e-45e0-caf1-0c7442fd7c86"
      },
      "source": [
        "# peek at first record of keywords field\n",
        "df2.loc[df2['uri']=='nyt://article/ccd81853-4659-5a9d-b2e0-53489a78db39']['keywords']"
      ],
      "execution_count": 18,
      "outputs": [
        {
          "output_type": "execute_result",
          "data": {
            "text/plain": [
              "44747    [{'name': 'subject', 'value': 'Israel-Gaza War (2023- )', 'rank': 1, 'major': 'N'}, {'name': 'glocations', 'value': 'Israel', 'rank': 2, 'major': 'N'}, {'name': 'subject', 'value': 'Defense and Military Forces', 'rank': 3, 'major': 'N'}, {'name': 'glocations', 'value': 'Gaza Strip', 'rank': 4, 'major': 'N'}, {'name': 'subject', 'value': 'Palestinians', 'rank': 5, 'major': 'N'}, {'name': 'subject', 'value': 'Evacuations and Evacuees', 'rank': 6, 'major': 'N'}, {'name': 'subject', 'value': 'Refugees and Displaced Persons', 'rank': 7, 'major': 'N'}, {'name': 'subject', 'value': 'Terrorism', 'rank': 8, 'major': 'N'}, {'name': 'organizations', 'value': 'Hamas', 'rank': 9, 'major': 'N'}, {'name': 'subject', 'value': 'Civilian Casualties', 'rank': 10, 'major': 'N'}]\n",
              "Name: keywords, dtype: object"
            ]
          },
          "metadata": {},
          "execution_count": 18
        }
      ]
    },
    {
      "cell_type": "code",
      "metadata": {
        "id": "gy_wRQc68U_E"
      },
      "source": [
        "# turn dictionary in list into just list of vlaues\n",
        "#df2['keywords_'] = df2['keywords'].apply(lambda x: [i['value'] for i in x])"
      ],
      "execution_count": 19,
      "outputs": []
    },
    {
      "cell_type": "code",
      "metadata": {
        "id": "Kgcu6A8_-6pu",
        "colab": {
          "base_uri": "https://localhost:8080/"
        },
        "outputId": "d6e20448-cff6-4bc0-ca5c-6bcd652565d5"
      },
      "source": [
        "import spacy.cli\n",
        "spacy.cli.download(\"en_core_web_md\")\n",
        "import spacy\n",
        "import en_core_web_md\n",
        "#from spacy.pipeline import EntityRuler\n",
        "nlp = spacy.load(\"en_core_web_md\")"
      ],
      "execution_count": 20,
      "outputs": [
        {
          "output_type": "stream",
          "name": "stdout",
          "text": [
            "\u001b[38;5;2m✔ Download and installation successful\u001b[0m\n",
            "You can now load the package via spacy.load('en_core_web_md')\n"
          ]
        }
      ]
    },
    {
      "cell_type": "code",
      "source": [
        "ents = [\n",
        "    'Hezbollah',\n",
        "    'Hamas']"
      ],
      "metadata": {
        "id": "X3mD_0GDN7yY"
      },
      "execution_count": 21,
      "outputs": []
    },
    {
      "cell_type": "code",
      "source": [
        "# initaliz empty list and add onewrd_nse_terrs to ent_patrns\n",
        "ent_patrns = []\n",
        "\n",
        "for ent in ents:\n",
        "  ent_ = {\"label\":\"ORG\", \"pattern\":[{\"LOWER\":ent.lower()}]}\n",
        "  ent_patrns.append(ent_)"
      ],
      "metadata": {
        "id": "O74sQIXJN73S"
      },
      "execution_count": 22,
      "outputs": []
    },
    {
      "cell_type": "code",
      "source": [
        "ent_patrns"
      ],
      "metadata": {
        "colab": {
          "base_uri": "https://localhost:8080/"
        },
        "id": "w_EwnBZUIm_f",
        "outputId": "823fb077-f22d-424a-8c60-9c7d2f4ec734"
      },
      "execution_count": 23,
      "outputs": [
        {
          "output_type": "execute_result",
          "data": {
            "text/plain": [
              "[{'label': 'ORG', 'pattern': [{'LOWER': 'hezbollah'}]},\n",
              " {'label': 'ORG', 'pattern': [{'LOWER': 'hamas'}]}]"
            ]
          },
          "metadata": {},
          "execution_count": 23
        }
      ]
    },
    {
      "cell_type": "code",
      "source": [
        "# initialize EntityRuler\n",
        "#ruler = EntityRuler(nlp, overwrite_ents = True, validate = True)\n",
        "\n",
        "# initialize Entity Ruler\n",
        "ruler = nlp.add_pipe(\"entity_ruler\")"
      ],
      "metadata": {
        "id": "W0bwwLTESOTb"
      },
      "execution_count": 24,
      "outputs": []
    },
    {
      "cell_type": "code",
      "source": [
        "# add patterns to ruler\n",
        "ruler.add_patterns(ent_patrns)"
      ],
      "metadata": {
        "id": "HsNUPNPBSOXm"
      },
      "execution_count": 25,
      "outputs": []
    },
    {
      "cell_type": "code",
      "source": [
        "# some testing\n",
        "doc = nlp(\"Hamas wants to attack aliens\")"
      ],
      "metadata": {
        "id": "uUzmW007G2NN"
      },
      "execution_count": 26,
      "outputs": []
    },
    {
      "cell_type": "code",
      "source": [
        "for ent in doc.ents:\n",
        "  print(ent.text, ent.label_)"
      ],
      "metadata": {
        "colab": {
          "base_uri": "https://localhost:8080/"
        },
        "id": "dwpHJHr1G2RM",
        "outputId": "f08f38b9-04b1-4f88-97cf-cecad46141b1"
      },
      "execution_count": 27,
      "outputs": [
        {
          "output_type": "stream",
          "name": "stdout",
          "text": [
            "Hamas ORG\n"
          ]
        }
      ]
    },
    {
      "cell_type": "code",
      "source": [
        "# add ruler to pipeline\n",
        "#nlp.add_pipe(ruler, before = \"ner\")"
      ],
      "metadata": {
        "id": "X4qz8w6WCrf1"
      },
      "execution_count": 28,
      "outputs": []
    },
    {
      "cell_type": "code",
      "metadata": {
        "id": "hnGtRJgg8Zk2"
      },
      "source": [
        "# function\n",
        "def extract_named_ents(text):\n",
        "  \"use spacy to extract GPEs\"\n",
        "  ent_labels = [\"GPE\", \"NORP\", \"ORG\"]\n",
        "  doc = nlp(text)\n",
        "  items = [(x.text, x.label_) for x in doc.ents if x.label_ in ent_labels] # use to get NORP and GPE\n",
        "  items_counter = Counter(items)#.most_common(10)\n",
        "  return items_counter"
      ],
      "execution_count": 29,
      "outputs": []
    },
    {
      "cell_type": "code",
      "metadata": {
        "id": "lgzxw6Vg3EpF"
      },
      "source": [
        "# instaniate tqdm\n",
        "tqdm.pandas()"
      ],
      "execution_count": 30,
      "outputs": []
    },
    {
      "cell_type": "code",
      "metadata": {
        "id": "cEstUXZrEA9B",
        "colab": {
          "base_uri": "https://localhost:8080/"
        },
        "outputId": "2e99b06d-2208-48b4-fc91-ac83763ad380"
      },
      "source": [
        "# apply extraction function\n",
        "df2['ents_extracted'] = df2['lead_paragraph'].str.lower().progress_apply(extract_named_ents)"
      ],
      "execution_count": 38,
      "outputs": [
        {
          "output_type": "stream",
          "name": "stderr",
          "text": [
            "100%|██████████| 126/126 [00:01<00:00, 86.23it/s]\n"
          ]
        }
      ]
    },
    {
      "cell_type": "code",
      "source": [
        "df2.loc[df2['lead_paragraph'].str.contains(r'hezbollah', case = False, na = False)][['lead_paragraph','keywords', 'ents_extracted']].sample(n=2)"
      ],
      "metadata": {
        "colab": {
          "base_uri": "https://localhost:8080/",
          "height": 383
        },
        "id": "nooHfn1NKAsa",
        "outputId": "df6bb524-e734-4497-884d-4cd8d322b9e8"
      },
      "execution_count": 43,
      "outputs": [
        {
          "output_type": "execute_result",
          "data": {
            "text/plain": [
              "                                                                                                                                                                                                                                                                                                                                                                                                                                         lead_paragraph  \\\n",
              "44366                                                                                                                                                      Shelling sounded out along Israel’s volatile northern border with Lebanon for a third consecutive day Tuesday, stoking fears on both sides of a repeat of 2006, when Israel fought a bloody monthlong war with Hezbollah, the Shiite group committed to the destruction of the Jewish state.   \n",
              "45557  As Israel prepares a possible ground invasion of Gaza to destroy Hamas, the Palestinian militant group that controls the enclave, many are now turning to see what action Hezbollah, the armed group on Israel’s northern border, will take. For decades, Hezbollah has been a significant force in Lebanon, wielding both political power and military strength — all while engaging in tit-for-tat skirmishes with its southern enemy, Israel.   \n",
              "\n",
              "                                                                                                                                                                                                                                                                                                                                                                                                                                                             keywords  \\\n",
              "44366                                                                                       [{'name': 'subject', 'value': 'Israel-Gaza War (2023- )', 'rank': 1, 'major': 'N'}, {'name': 'organizations', 'value': 'Hezbollah', 'rank': 2, 'major': 'N'}, {'name': 'glocations', 'value': 'Israel', 'rank': 3, 'major': 'N'}, {'name': 'glocations', 'value': 'Lebanon', 'rank': 4, 'major': 'N'}, {'name': 'glocations', 'value': 'Syria', 'rank': 5, 'major': 'N'}]   \n",
              "45557  [{'name': 'subject', 'value': 'Israel-Gaza War (2023- )', 'rank': 1, 'major': 'N'}, {'name': 'subject', 'value': 'War and Armed Conflicts', 'rank': 2, 'major': 'N'}, {'name': 'organizations', 'value': 'Hezbollah', 'rank': 3, 'major': 'N'}, {'name': 'organizations', 'value': 'Hamas', 'rank': 4, 'major': 'N'}, {'name': 'glocations', 'value': 'Lebanon', 'rank': 5, 'major': 'N'}, {'name': 'glocations', 'value': 'Israel', 'rank': 6, 'major': 'N'}]   \n",
              "\n",
              "                                                                                                                                    ents_extracted  \n",
              "44366      {('israel', 'GPE'): 2, ('lebanon', 'GPE'): 1, ('hezbollah', 'ORG'): 1, ('the shiite group committed', 'ORG'): 1, ('jewish', 'NORP'): 1}  \n",
              "45557  {('israel', 'GPE'): 3, ('gaza', 'GPE'): 1, ('hamas', 'GPE'): 1, ('palestinian', 'NORP'): 1, ('hezbollah', 'ORG'): 2, ('lebanon', 'GPE'): 1}  "
            ],
            "text/html": [
              "\n",
              "  <div id=\"df-27d9f240-31ac-47fc-ba6a-fcd4ad913f55\" class=\"colab-df-container\">\n",
              "    <div>\n",
              "<style scoped>\n",
              "    .dataframe tbody tr th:only-of-type {\n",
              "        vertical-align: middle;\n",
              "    }\n",
              "\n",
              "    .dataframe tbody tr th {\n",
              "        vertical-align: top;\n",
              "    }\n",
              "\n",
              "    .dataframe thead th {\n",
              "        text-align: right;\n",
              "    }\n",
              "</style>\n",
              "<table border=\"1\" class=\"dataframe\">\n",
              "  <thead>\n",
              "    <tr style=\"text-align: right;\">\n",
              "      <th></th>\n",
              "      <th>lead_paragraph</th>\n",
              "      <th>keywords</th>\n",
              "      <th>ents_extracted</th>\n",
              "    </tr>\n",
              "  </thead>\n",
              "  <tbody>\n",
              "    <tr>\n",
              "      <th>44366</th>\n",
              "      <td>Shelling sounded out along Israel’s volatile northern border with Lebanon for a third consecutive day Tuesday, stoking fears on both sides of a repeat of 2006, when Israel fought a bloody monthlong war with Hezbollah, the Shiite group committed to the destruction of the Jewish state.</td>\n",
              "      <td>[{'name': 'subject', 'value': 'Israel-Gaza War (2023- )', 'rank': 1, 'major': 'N'}, {'name': 'organizations', 'value': 'Hezbollah', 'rank': 2, 'major': 'N'}, {'name': 'glocations', 'value': 'Israel', 'rank': 3, 'major': 'N'}, {'name': 'glocations', 'value': 'Lebanon', 'rank': 4, 'major': 'N'}, {'name': 'glocations', 'value': 'Syria', 'rank': 5, 'major': 'N'}]</td>\n",
              "      <td>{('israel', 'GPE'): 2, ('lebanon', 'GPE'): 1, ('hezbollah', 'ORG'): 1, ('the shiite group committed', 'ORG'): 1, ('jewish', 'NORP'): 1}</td>\n",
              "    </tr>\n",
              "    <tr>\n",
              "      <th>45557</th>\n",
              "      <td>As Israel prepares a possible ground invasion of Gaza to destroy Hamas, the Palestinian militant group that controls the enclave, many are now turning to see what action Hezbollah, the armed group on Israel’s northern border, will take. For decades, Hezbollah has been a significant force in Lebanon, wielding both political power and military strength — all while engaging in tit-for-tat skirmishes with its southern enemy, Israel.</td>\n",
              "      <td>[{'name': 'subject', 'value': 'Israel-Gaza War (2023- )', 'rank': 1, 'major': 'N'}, {'name': 'subject', 'value': 'War and Armed Conflicts', 'rank': 2, 'major': 'N'}, {'name': 'organizations', 'value': 'Hezbollah', 'rank': 3, 'major': 'N'}, {'name': 'organizations', 'value': 'Hamas', 'rank': 4, 'major': 'N'}, {'name': 'glocations', 'value': 'Lebanon', 'rank': 5, 'major': 'N'}, {'name': 'glocations', 'value': 'Israel', 'rank': 6, 'major': 'N'}]</td>\n",
              "      <td>{('israel', 'GPE'): 3, ('gaza', 'GPE'): 1, ('hamas', 'GPE'): 1, ('palestinian', 'NORP'): 1, ('hezbollah', 'ORG'): 2, ('lebanon', 'GPE'): 1}</td>\n",
              "    </tr>\n",
              "  </tbody>\n",
              "</table>\n",
              "</div>\n",
              "    <div class=\"colab-df-buttons\">\n",
              "\n",
              "  <div class=\"colab-df-container\">\n",
              "    <button class=\"colab-df-convert\" onclick=\"convertToInteractive('df-27d9f240-31ac-47fc-ba6a-fcd4ad913f55')\"\n",
              "            title=\"Convert this dataframe to an interactive table.\"\n",
              "            style=\"display:none;\">\n",
              "\n",
              "  <svg xmlns=\"http://www.w3.org/2000/svg\" height=\"24px\" viewBox=\"0 -960 960 960\">\n",
              "    <path d=\"M120-120v-720h720v720H120Zm60-500h600v-160H180v160Zm220 220h160v-160H400v160Zm0 220h160v-160H400v160ZM180-400h160v-160H180v160Zm440 0h160v-160H620v160ZM180-180h160v-160H180v160Zm440 0h160v-160H620v160Z\"/>\n",
              "  </svg>\n",
              "    </button>\n",
              "\n",
              "  <style>\n",
              "    .colab-df-container {\n",
              "      display:flex;\n",
              "      gap: 12px;\n",
              "    }\n",
              "\n",
              "    .colab-df-convert {\n",
              "      background-color: #E8F0FE;\n",
              "      border: none;\n",
              "      border-radius: 50%;\n",
              "      cursor: pointer;\n",
              "      display: none;\n",
              "      fill: #1967D2;\n",
              "      height: 32px;\n",
              "      padding: 0 0 0 0;\n",
              "      width: 32px;\n",
              "    }\n",
              "\n",
              "    .colab-df-convert:hover {\n",
              "      background-color: #E2EBFA;\n",
              "      box-shadow: 0px 1px 2px rgba(60, 64, 67, 0.3), 0px 1px 3px 1px rgba(60, 64, 67, 0.15);\n",
              "      fill: #174EA6;\n",
              "    }\n",
              "\n",
              "    .colab-df-buttons div {\n",
              "      margin-bottom: 4px;\n",
              "    }\n",
              "\n",
              "    [theme=dark] .colab-df-convert {\n",
              "      background-color: #3B4455;\n",
              "      fill: #D2E3FC;\n",
              "    }\n",
              "\n",
              "    [theme=dark] .colab-df-convert:hover {\n",
              "      background-color: #434B5C;\n",
              "      box-shadow: 0px 1px 3px 1px rgba(0, 0, 0, 0.15);\n",
              "      filter: drop-shadow(0px 1px 2px rgba(0, 0, 0, 0.3));\n",
              "      fill: #FFFFFF;\n",
              "    }\n",
              "  </style>\n",
              "\n",
              "    <script>\n",
              "      const buttonEl =\n",
              "        document.querySelector('#df-27d9f240-31ac-47fc-ba6a-fcd4ad913f55 button.colab-df-convert');\n",
              "      buttonEl.style.display =\n",
              "        google.colab.kernel.accessAllowed ? 'block' : 'none';\n",
              "\n",
              "      async function convertToInteractive(key) {\n",
              "        const element = document.querySelector('#df-27d9f240-31ac-47fc-ba6a-fcd4ad913f55');\n",
              "        const dataTable =\n",
              "          await google.colab.kernel.invokeFunction('convertToInteractive',\n",
              "                                                    [key], {});\n",
              "        if (!dataTable) return;\n",
              "\n",
              "        const docLinkHtml = 'Like what you see? Visit the ' +\n",
              "          '<a target=\"_blank\" href=https://colab.research.google.com/notebooks/data_table.ipynb>data table notebook</a>'\n",
              "          + ' to learn more about interactive tables.';\n",
              "        element.innerHTML = '';\n",
              "        dataTable['output_type'] = 'display_data';\n",
              "        await google.colab.output.renderOutput(dataTable, element);\n",
              "        const docLink = document.createElement('div');\n",
              "        docLink.innerHTML = docLinkHtml;\n",
              "        element.appendChild(docLink);\n",
              "      }\n",
              "    </script>\n",
              "  </div>\n",
              "\n",
              "\n",
              "<div id=\"df-bc9cb87f-5053-4da1-a447-6deadf86d807\">\n",
              "  <button class=\"colab-df-quickchart\" onclick=\"quickchart('df-bc9cb87f-5053-4da1-a447-6deadf86d807')\"\n",
              "            title=\"Suggest charts.\"\n",
              "            style=\"display:none;\">\n",
              "\n",
              "<svg xmlns=\"http://www.w3.org/2000/svg\" height=\"24px\"viewBox=\"0 0 24 24\"\n",
              "     width=\"24px\">\n",
              "    <g>\n",
              "        <path d=\"M19 3H5c-1.1 0-2 .9-2 2v14c0 1.1.9 2 2 2h14c1.1 0 2-.9 2-2V5c0-1.1-.9-2-2-2zM9 17H7v-7h2v7zm4 0h-2V7h2v10zm4 0h-2v-4h2v4z\"/>\n",
              "    </g>\n",
              "</svg>\n",
              "  </button>\n",
              "\n",
              "<style>\n",
              "  .colab-df-quickchart {\n",
              "      --bg-color: #E8F0FE;\n",
              "      --fill-color: #1967D2;\n",
              "      --hover-bg-color: #E2EBFA;\n",
              "      --hover-fill-color: #174EA6;\n",
              "      --disabled-fill-color: #AAA;\n",
              "      --disabled-bg-color: #DDD;\n",
              "  }\n",
              "\n",
              "  [theme=dark] .colab-df-quickchart {\n",
              "      --bg-color: #3B4455;\n",
              "      --fill-color: #D2E3FC;\n",
              "      --hover-bg-color: #434B5C;\n",
              "      --hover-fill-color: #FFFFFF;\n",
              "      --disabled-bg-color: #3B4455;\n",
              "      --disabled-fill-color: #666;\n",
              "  }\n",
              "\n",
              "  .colab-df-quickchart {\n",
              "    background-color: var(--bg-color);\n",
              "    border: none;\n",
              "    border-radius: 50%;\n",
              "    cursor: pointer;\n",
              "    display: none;\n",
              "    fill: var(--fill-color);\n",
              "    height: 32px;\n",
              "    padding: 0;\n",
              "    width: 32px;\n",
              "  }\n",
              "\n",
              "  .colab-df-quickchart:hover {\n",
              "    background-color: var(--hover-bg-color);\n",
              "    box-shadow: 0 1px 2px rgba(60, 64, 67, 0.3), 0 1px 3px 1px rgba(60, 64, 67, 0.15);\n",
              "    fill: var(--button-hover-fill-color);\n",
              "  }\n",
              "\n",
              "  .colab-df-quickchart-complete:disabled,\n",
              "  .colab-df-quickchart-complete:disabled:hover {\n",
              "    background-color: var(--disabled-bg-color);\n",
              "    fill: var(--disabled-fill-color);\n",
              "    box-shadow: none;\n",
              "  }\n",
              "\n",
              "  .colab-df-spinner {\n",
              "    border: 2px solid var(--fill-color);\n",
              "    border-color: transparent;\n",
              "    border-bottom-color: var(--fill-color);\n",
              "    animation:\n",
              "      spin 1s steps(1) infinite;\n",
              "  }\n",
              "\n",
              "  @keyframes spin {\n",
              "    0% {\n",
              "      border-color: transparent;\n",
              "      border-bottom-color: var(--fill-color);\n",
              "      border-left-color: var(--fill-color);\n",
              "    }\n",
              "    20% {\n",
              "      border-color: transparent;\n",
              "      border-left-color: var(--fill-color);\n",
              "      border-top-color: var(--fill-color);\n",
              "    }\n",
              "    30% {\n",
              "      border-color: transparent;\n",
              "      border-left-color: var(--fill-color);\n",
              "      border-top-color: var(--fill-color);\n",
              "      border-right-color: var(--fill-color);\n",
              "    }\n",
              "    40% {\n",
              "      border-color: transparent;\n",
              "      border-right-color: var(--fill-color);\n",
              "      border-top-color: var(--fill-color);\n",
              "    }\n",
              "    60% {\n",
              "      border-color: transparent;\n",
              "      border-right-color: var(--fill-color);\n",
              "    }\n",
              "    80% {\n",
              "      border-color: transparent;\n",
              "      border-right-color: var(--fill-color);\n",
              "      border-bottom-color: var(--fill-color);\n",
              "    }\n",
              "    90% {\n",
              "      border-color: transparent;\n",
              "      border-bottom-color: var(--fill-color);\n",
              "    }\n",
              "  }\n",
              "</style>\n",
              "\n",
              "  <script>\n",
              "    async function quickchart(key) {\n",
              "      const quickchartButtonEl =\n",
              "        document.querySelector('#' + key + ' button');\n",
              "      quickchartButtonEl.disabled = true;  // To prevent multiple clicks.\n",
              "      quickchartButtonEl.classList.add('colab-df-spinner');\n",
              "      try {\n",
              "        const charts = await google.colab.kernel.invokeFunction(\n",
              "            'suggestCharts', [key], {});\n",
              "      } catch (error) {\n",
              "        console.error('Error during call to suggestCharts:', error);\n",
              "      }\n",
              "      quickchartButtonEl.classList.remove('colab-df-spinner');\n",
              "      quickchartButtonEl.classList.add('colab-df-quickchart-complete');\n",
              "    }\n",
              "    (() => {\n",
              "      let quickchartButtonEl =\n",
              "        document.querySelector('#df-bc9cb87f-5053-4da1-a447-6deadf86d807 button');\n",
              "      quickchartButtonEl.style.display =\n",
              "        google.colab.kernel.accessAllowed ? 'block' : 'none';\n",
              "    })();\n",
              "  </script>\n",
              "</div>\n",
              "    </div>\n",
              "  </div>\n"
            ]
          },
          "metadata": {},
          "execution_count": 43
        }
      ]
    }
  ]
}